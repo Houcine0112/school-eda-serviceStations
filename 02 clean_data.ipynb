{
 "cells": [
  {
   "cell_type": "markdown",
   "metadata": {},
   "source": [
    "# Netoyage des données : Typage des données"
   ]
  },
  {
   "cell_type": "markdown",
   "metadata": {},
   "source": [
    "Cette feuille commence par ouvrir les fichiers CSV avec pandas et esuite elle les type correctement et enregistre le tout sous format ***parquet***"
   ]
  },
  {
   "cell_type": "code",
   "execution_count": 1,
   "metadata": {},
   "outputs": [],
   "source": [
    "WORK_DIR=\".\""
   ]
  },
  {
   "cell_type": "markdown",
   "metadata": {},
   "source": [
    "## Les  imports"
   ]
  },
  {
   "cell_type": "code",
   "execution_count": 2,
   "metadata": {},
   "outputs": [],
   "source": [
    "# !pip install fastparquet\n",
    "# !pip install pgeocode"
   ]
  },
  {
   "cell_type": "code",
   "execution_count": 3,
   "metadata": {},
   "outputs": [],
   "source": [
    "import zipfile\n",
    "import xml.sax\n",
    "import csv\n",
    "import glob\n",
    "import logging\n",
    "import shutil\n",
    "import os\n",
    "import pandas as pd\n",
    "import numpy as np"
   ]
  },
  {
   "cell_type": "code",
   "execution_count": 4,
   "metadata": {},
   "outputs": [
    {
     "name": "stdout",
     "output_type": "stream",
     "text": [
      "current work dir is: /home/houcine/workspace/school-eda-serviceStations\n"
     ]
    }
   ],
   "source": [
    "os.chdir(WORK_DIR)\n",
    "print('current work dir is:', os.getcwd())"
   ]
  },
  {
   "cell_type": "markdown",
   "metadata": {},
   "source": [
    "### import to clean geo data"
   ]
  },
  {
   "cell_type": "code",
   "execution_count": 5,
   "metadata": {},
   "outputs": [],
   "source": [
    "import matplotlib.pyplot as plt\n",
    "%matplotlib inline\n",
    "import seaborn as sns\n",
    "import pgeocode\n",
    "nomi = pgeocode.Nominatim('fr')"
   ]
  },
  {
   "cell_type": "code",
   "execution_count": 6,
   "metadata": {},
   "outputs": [
    {
     "name": "stdout",
     "output_type": "stream",
     "text": [
      "current work dir is: /home/houcine/workspace/school-eda-serviceStations\n"
     ]
    }
   ],
   "source": [
    "print('current work dir is:', os.getcwd())"
   ]
  },
  {
   "cell_type": "markdown",
   "metadata": {},
   "source": [
    "limiter le nombre de lignes à afficher à 4 au lieu de faire un head() + un tail() il suffira d'afficher la DataFrame"
   ]
  },
  {
   "cell_type": "code",
   "execution_count": 7,
   "metadata": {},
   "outputs": [],
   "source": [
    "pd.options.display.max_rows = 4"
   ]
  },
  {
   "cell_type": "markdown",
   "metadata": {},
   "source": [
    "## Typage des DataFrames"
   ]
  },
  {
   "cell_type": "markdown",
   "metadata": {},
   "source": [
    "### chargement de **pdv**"
   ]
  },
  {
   "cell_type": "code",
   "execution_count": 8,
   "metadata": {},
   "outputs": [
    {
     "name": "stderr",
     "output_type": "stream",
     "text": [
      "/home/houcine/anaconda3/lib/python3.7/site-packages/IPython/core/interactiveshell.py:3020: DtypeWarning: Columns (4) have mixed types. Specify dtype option on import or set low_memory=False.\n",
      "  interactivity=interactivity, compiler=compiler, result=result)\n"
     ]
    },
    {
     "data": {
      "text/html": [
       "<div>\n",
       "<style scoped>\n",
       "    .dataframe tbody tr th:only-of-type {\n",
       "        vertical-align: middle;\n",
       "    }\n",
       "\n",
       "    .dataframe tbody tr th {\n",
       "        vertical-align: top;\n",
       "    }\n",
       "\n",
       "    .dataframe thead th {\n",
       "        text-align: right;\n",
       "    }\n",
       "</style>\n",
       "<table border=\"1\" class=\"dataframe\">\n",
       "  <thead>\n",
       "    <tr style=\"text-align: right;\">\n",
       "      <th></th>\n",
       "      <th>annee</th>\n",
       "      <th>id</th>\n",
       "      <th>latitude</th>\n",
       "      <th>longitude</th>\n",
       "      <th>cp</th>\n",
       "      <th>pop</th>\n",
       "      <th>ouverture_debut</th>\n",
       "      <th>ouverture_fin</th>\n",
       "      <th>ouverture_saufjour</th>\n",
       "      <th>adresse</th>\n",
       "      <th>ville</th>\n",
       "    </tr>\n",
       "  </thead>\n",
       "  <tbody>\n",
       "    <tr>\n",
       "      <th>0</th>\n",
       "      <td>2019</td>\n",
       "      <td>1000001</td>\n",
       "      <td>4620114.0</td>\n",
       "      <td>519791.0</td>\n",
       "      <td>1000</td>\n",
       "      <td>R</td>\n",
       "      <td>NaN</td>\n",
       "      <td>NaN</td>\n",
       "      <td>NaN</td>\n",
       "      <td>596 AVENUE DE TREVOUX</td>\n",
       "      <td>SAINT-DENIS-LèS-BOURG</td>\n",
       "    </tr>\n",
       "    <tr>\n",
       "      <th>1</th>\n",
       "      <td>2019</td>\n",
       "      <td>1000002</td>\n",
       "      <td>4621842.0</td>\n",
       "      <td>522767.0</td>\n",
       "      <td>1000</td>\n",
       "      <td>R</td>\n",
       "      <td>NaN</td>\n",
       "      <td>NaN</td>\n",
       "      <td>NaN</td>\n",
       "      <td>16 Avenue de Marboz</td>\n",
       "      <td>BOURG-EN-BRESSE</td>\n",
       "    </tr>\n",
       "    <tr>\n",
       "      <th>...</th>\n",
       "      <td>...</td>\n",
       "      <td>...</td>\n",
       "      <td>...</td>\n",
       "      <td>...</td>\n",
       "      <td>...</td>\n",
       "      <td>...</td>\n",
       "      <td>...</td>\n",
       "      <td>...</td>\n",
       "      <td>...</td>\n",
       "      <td>...</td>\n",
       "      <td>...</td>\n",
       "    </tr>\n",
       "    <tr>\n",
       "      <th>136710</th>\n",
       "      <td>2016</td>\n",
       "      <td>96600001</td>\n",
       "      <td>4875637.0</td>\n",
       "      <td>241048.0</td>\n",
       "      <td>94600</td>\n",
       "      <td>R</td>\n",
       "      <td>07:30:27</td>\n",
       "      <td>20:30:27</td>\n",
       "      <td>Dimanche</td>\n",
       "      <td>16 Avenue de Newburn</td>\n",
       "      <td>Choisy-le-Roi</td>\n",
       "    </tr>\n",
       "    <tr>\n",
       "      <th>136711</th>\n",
       "      <td>2016</td>\n",
       "      <td>99999001</td>\n",
       "      <td>4853943.0</td>\n",
       "      <td>749812.0</td>\n",
       "      <td>99999</td>\n",
       "      <td>R</td>\n",
       "      <td>01:00:00</td>\n",
       "      <td>01:00:00</td>\n",
       "      <td>NaN</td>\n",
       "      <td>station test</td>\n",
       "      <td>test</td>\n",
       "    </tr>\n",
       "  </tbody>\n",
       "</table>\n",
       "<p>136712 rows × 11 columns</p>\n",
       "</div>"
      ],
      "text/plain": [
       "       annee        id   latitude  longitude     cp pop ouverture_debut  \\\n",
       "0       2019   1000001  4620114.0   519791.0   1000   R             NaN   \n",
       "1       2019   1000002  4621842.0   522767.0   1000   R             NaN   \n",
       "...      ...       ...        ...        ...    ...  ..             ...   \n",
       "136710  2016  96600001  4875637.0   241048.0  94600   R        07:30:27   \n",
       "136711  2016  99999001  4853943.0   749812.0  99999   R        01:00:00   \n",
       "\n",
       "       ouverture_fin ouverture_saufjour                adresse  \\\n",
       "0                NaN                NaN  596 AVENUE DE TREVOUX   \n",
       "1                NaN                NaN    16 Avenue de Marboz   \n",
       "...              ...                ...                    ...   \n",
       "136710      20:30:27           Dimanche   16 Avenue de Newburn   \n",
       "136711      01:00:00                NaN           station test   \n",
       "\n",
       "                        ville  \n",
       "0       SAINT-DENIS-LèS-BOURG  \n",
       "1             BOURG-EN-BRESSE  \n",
       "...                       ...  \n",
       "136710          Choisy-le-Roi  \n",
       "136711                   test  \n",
       "\n",
       "[136712 rows x 11 columns]"
      ]
     },
     "execution_count": 8,
     "metadata": {},
     "output_type": "execute_result"
    }
   ],
   "source": [
    "pdv = pd.read_csv('pdv.csv', dtype={\"annee\":str})\n",
    "pdv"
   ]
  },
  {
   "cell_type": "markdown",
   "metadata": {},
   "source": [
    "### cleaning ***longitude*** and ***latitude***"
   ]
  },
  {
   "cell_type": "markdown",
   "metadata": {},
   "source": [
    "In metropolitan France :\n",
    "<br>\n",
    "the **latitude**  is between 42 and 51\n",
    "<br>\n",
    "and **longitude** is between -5 and 10"
   ]
  },
  {
   "cell_type": "markdown",
   "metadata": {},
   "source": [
    "#### First we need to scale **longitude** and **latitude** correctly"
   ]
  },
  {
   "cell_type": "markdown",
   "metadata": {},
   "source": [
    "The vaste majority should be scaled by 100,000. but there are some values that are already scaled properly.\n",
    "So, we will only scale values that aren't in the right range."
   ]
  },
  {
   "cell_type": "markdown",
   "metadata": {},
   "source": [
    "Due to possible swaping between longitude and latitude we should take into account the global minimum range and global maximum range in order to scale correctly.\n",
    "This means that values of longitude and latitude should be between -5 and 51."
   ]
  },
  {
   "cell_type": "code",
   "execution_count": 9,
   "metadata": {},
   "outputs": [],
   "source": [
    "# scale by 100,000 if longi or lati aren't in correct range\n",
    "pdv.loc[~((-5 < pdv.latitude) &  (pdv.latitude < 51)),\"latitude\"]    /= 100000\n",
    "pdv.loc[~((-5 < pdv.longitude) &  (pdv.longitude < 51)), \"longitude\"] /= 100000"
   ]
  },
  {
   "cell_type": "markdown",
   "metadata": {},
   "source": [
    "We would like to drop incorrect longitude and latitude but first we can correct the ones that were inversed"
   ]
  },
  {
   "cell_type": "code",
   "execution_count": 10,
   "metadata": {},
   "outputs": [],
   "source": [
    "# handling inversed values\n",
    "sub_pdv = pdv.loc[\n",
    "            (42 <= pdv.longitude)&\\\n",
    "            (pdv.longitude <= 51)&\\\n",
    "            (-5 <= pdv.latitude)&\\\n",
    "            (pdv.latitude <= 10)]"
   ]
  },
  {
   "cell_type": "markdown",
   "metadata": {},
   "source": [
    "the idea behind this step is this :\n",
    "<br>\n",
    "we compare longitude and latitude of the postal code with longitude and latitude of the **pdv** file"
   ]
  },
  {
   "cell_type": "code",
   "execution_count": 100,
   "metadata": {},
   "outputs": [
    {
     "name": "stdout",
     "output_type": "stream",
     "text": [
      "index : 37198\n",
      "\t cp 13546 : 43.506 5.399\n",
      "index : 37408\n",
      "\t cp 14700 : 46.165 0.204\n",
      "index : 37898\n",
      "\t cp 20148 : 43.72 7.292000000000001\n",
      "index : 39165\n",
      "\t cp 31076 : 43.608999999999995 1.3969999999999998\n",
      "index : 42056\n",
      "\t cp 53102 : 48.302 -0.622\n",
      "index : 42753\n",
      "\t cp 59156 : 48.858999999999995 2.347\n",
      "index : 43240\n",
      "\t cp 61790 : 48.787 1.666\n",
      "index : 44183\n",
      "\t cp 68124 : 48.086000000000006 7.314\n",
      "index : 44579\n",
      "\t cp 70004 : 47.635 6.157\n",
      "index : 45804\n",
      "\t cp 78205 : 48.981 1.689\n",
      "index : 46819\n",
      "\t cp 85804 : 46.696000000000005 -1.9280000000000002\n",
      "index : 46846\n",
      "\t cp 86102 : 46.792 0.526\n",
      "index : 95941\n",
      "\t cp 86102 : 46.79115 0.52572\n",
      "index : 120322\n",
      "\t cp 56890 : 47.6831 -5.0996110000000005e-05\n",
      "index : 135477\n",
      "\t cp 86102 : 46.79115 0.52572\n"
     ]
    }
   ],
   "source": [
    "# loop over all sub_pdv values by using their original index (the one in pdv dataframe)\n",
    "for index in sub_pdv.index:\n",
    "    cp        = sub_pdv.loc[index,[\"cp\"]][0]\n",
    "    latitude  = sub_pdv.loc[index,[\"latitude\"]][0]\n",
    "    longitude = sub_pdv.loc[index,[\"longitude\"]][0]\n",
    "    \n",
    "    # geographical informations associated to this postal code (note that we are only using France postal codes)\n",
    "    geo_info = nomi.query_postal_code(cp)\n",
    "    \n",
    "    # calculating the squared difference between the postal code longitude\n",
    "    # and latitude and we will compare them the to longitude and latitude of the station\n",
    "    lati_diff_squared = (latitude - geo_info.longitude)**2\n",
    "    long_diff_squared = (longitude - geo_info.latitude)**2\n",
    "    \n",
    "    is_it_near = lati_diff_squared < 2 and\\\n",
    "                     long_diff_squared < 2\n",
    "    \n",
    "    if not is_it_near:\n",
    "        print(\"index :\",index)\n",
    "        print(\"\\t cp\",cp, \":\",longitude, latitude)\n",
    "        \n",
    "    # print(res['country code'], res.postal_code)"
   ]
  },
  {
   "cell_type": "markdown",
   "metadata": {},
   "source": [
    "after manually verifying the **latitude** and **longitude** that we couldn't find with *\"pgeocode\"* library \n",
    "<br>\n",
    "we conclude that all **longitudes** and **latitudes** that were in the correct range were swaped"
   ]
  },
  {
   "cell_type": "markdown",
   "metadata": {},
   "source": [
    "### swap values"
   ]
  },
  {
   "cell_type": "code",
   "execution_count": 11,
   "metadata": {},
   "outputs": [
    {
     "name": "stderr",
     "output_type": "stream",
     "text": [
      "/home/houcine/anaconda3/lib/python3.7/site-packages/pandas/core/indexing.py:543: SettingWithCopyWarning: \n",
      "A value is trying to be set on a copy of a slice from a DataFrame.\n",
      "Try using .loc[row_indexer,col_indexer] = value instead\n",
      "\n",
      "See the caveats in the documentation: http://pandas.pydata.org/pandas-docs/stable/indexing.html#indexing-view-versus-copy\n",
      "  self.obj[item] = s\n"
     ]
    },
    {
     "data": {
      "text/html": [
       "<div>\n",
       "<style scoped>\n",
       "    .dataframe tbody tr th:only-of-type {\n",
       "        vertical-align: middle;\n",
       "    }\n",
       "\n",
       "    .dataframe tbody tr th {\n",
       "        vertical-align: top;\n",
       "    }\n",
       "\n",
       "    .dataframe thead th {\n",
       "        text-align: right;\n",
       "    }\n",
       "</style>\n",
       "<table border=\"1\" class=\"dataframe\">\n",
       "  <thead>\n",
       "    <tr style=\"text-align: right;\">\n",
       "      <th></th>\n",
       "      <th>annee</th>\n",
       "      <th>id</th>\n",
       "      <th>latitude</th>\n",
       "      <th>longitude</th>\n",
       "      <th>cp</th>\n",
       "      <th>pop</th>\n",
       "      <th>ouverture_debut</th>\n",
       "      <th>ouverture_fin</th>\n",
       "      <th>ouverture_saufjour</th>\n",
       "      <th>adresse</th>\n",
       "      <th>ville</th>\n",
       "    </tr>\n",
       "  </thead>\n",
       "  <tbody>\n",
       "    <tr>\n",
       "      <th>502</th>\n",
       "      <td>2019</td>\n",
       "      <td>6190006</td>\n",
       "      <td>43.763940</td>\n",
       "      <td>7.480690</td>\n",
       "      <td>6190</td>\n",
       "      <td>R</td>\n",
       "      <td>NaN</td>\n",
       "      <td>NaN</td>\n",
       "      <td>NaN</td>\n",
       "      <td>175 Avenue Louis Pasteur</td>\n",
       "      <td>ROQUEBRUNE-CAP-MARTIN</td>\n",
       "    </tr>\n",
       "    <tr>\n",
       "      <th>534</th>\n",
       "      <td>2019</td>\n",
       "      <td>6220004</td>\n",
       "      <td>43.579880</td>\n",
       "      <td>7.062040</td>\n",
       "      <td>6220</td>\n",
       "      <td>R</td>\n",
       "      <td>NaN</td>\n",
       "      <td>NaN</td>\n",
       "      <td>NaN</td>\n",
       "      <td>D6007</td>\n",
       "      <td>Vallauris</td>\n",
       "    </tr>\n",
       "    <tr>\n",
       "      <th>...</th>\n",
       "      <td>...</td>\n",
       "      <td>...</td>\n",
       "      <td>...</td>\n",
       "      <td>...</td>\n",
       "      <td>...</td>\n",
       "      <td>...</td>\n",
       "      <td>...</td>\n",
       "      <td>...</td>\n",
       "      <td>...</td>\n",
       "      <td>...</td>\n",
       "      <td>...</td>\n",
       "    </tr>\n",
       "    <tr>\n",
       "      <th>136478</th>\n",
       "      <td>2016</td>\n",
       "      <td>94500001</td>\n",
       "      <td>48.823150</td>\n",
       "      <td>2.494980</td>\n",
       "      <td>94500</td>\n",
       "      <td>R</td>\n",
       "      <td>06:00:00</td>\n",
       "      <td>21:00:00</td>\n",
       "      <td>NaN</td>\n",
       "      <td>ral de Gaulle</td>\n",
       "      <td>CHAMPIGNY-SUR-MARNE</td>\n",
       "    </tr>\n",
       "    <tr>\n",
       "      <th>136665</th>\n",
       "      <td>2016</td>\n",
       "      <td>95500002</td>\n",
       "      <td>48.967186</td>\n",
       "      <td>2.464734</td>\n",
       "      <td>95500</td>\n",
       "      <td>R</td>\n",
       "      <td>05:30:00</td>\n",
       "      <td>20:30:00</td>\n",
       "      <td>NaN</td>\n",
       "      <td>RN 370</td>\n",
       "      <td>GONESSE</td>\n",
       "    </tr>\n",
       "  </tbody>\n",
       "</table>\n",
       "<p>1956 rows × 11 columns</p>\n",
       "</div>"
      ],
      "text/plain": [
       "       annee        id   latitude  longitude     cp pop ouverture_debut  \\\n",
       "502     2019   6190006  43.763940   7.480690   6190   R             NaN   \n",
       "534     2019   6220004  43.579880   7.062040   6220   R             NaN   \n",
       "...      ...       ...        ...        ...    ...  ..             ...   \n",
       "136478  2016  94500001  48.823150   2.494980  94500   R        06:00:00   \n",
       "136665  2016  95500002  48.967186   2.464734  95500   R        05:30:00   \n",
       "\n",
       "       ouverture_fin ouverture_saufjour                   adresse  \\\n",
       "502              NaN                NaN  175 Avenue Louis Pasteur   \n",
       "534              NaN                NaN                     D6007   \n",
       "...              ...                ...                       ...   \n",
       "136478      21:00:00                NaN             ral de Gaulle   \n",
       "136665      20:30:00                NaN                    RN 370   \n",
       "\n",
       "                        ville  \n",
       "502     ROQUEBRUNE-CAP-MARTIN  \n",
       "534                 Vallauris  \n",
       "...                       ...  \n",
       "136478    CHAMPIGNY-SUR-MARNE  \n",
       "136665                GONESSE  \n",
       "\n",
       "[1956 rows x 11 columns]"
      ]
     },
     "execution_count": 11,
     "metadata": {},
     "output_type": "execute_result"
    }
   ],
   "source": [
    "lat = sub_pdv.latitude.copy()\n",
    "sub_pdv.loc[:,\"latitude\"] = sub_pdv.longitude\n",
    "sub_pdv.loc[:,\"longitude\"] = lat\n",
    "sub_pdv"
   ]
  },
  {
   "cell_type": "code",
   "execution_count": 12,
   "metadata": {},
   "outputs": [
    {
     "data": {
      "text/html": [
       "<div>\n",
       "<style scoped>\n",
       "    .dataframe tbody tr th:only-of-type {\n",
       "        vertical-align: middle;\n",
       "    }\n",
       "\n",
       "    .dataframe tbody tr th {\n",
       "        vertical-align: top;\n",
       "    }\n",
       "\n",
       "    .dataframe thead th {\n",
       "        text-align: right;\n",
       "    }\n",
       "</style>\n",
       "<table border=\"1\" class=\"dataframe\">\n",
       "  <thead>\n",
       "    <tr style=\"text-align: right;\">\n",
       "      <th></th>\n",
       "      <th>annee</th>\n",
       "      <th>id</th>\n",
       "      <th>latitude</th>\n",
       "      <th>longitude</th>\n",
       "      <th>cp</th>\n",
       "      <th>pop</th>\n",
       "      <th>ouverture_debut</th>\n",
       "      <th>ouverture_fin</th>\n",
       "      <th>ouverture_saufjour</th>\n",
       "      <th>adresse</th>\n",
       "      <th>ville</th>\n",
       "    </tr>\n",
       "  </thead>\n",
       "  <tbody>\n",
       "    <tr>\n",
       "      <th>502</th>\n",
       "      <td>2019</td>\n",
       "      <td>6190006.0</td>\n",
       "      <td>43.763940</td>\n",
       "      <td>7.480690</td>\n",
       "      <td>6190</td>\n",
       "      <td>R</td>\n",
       "      <td>NaN</td>\n",
       "      <td>NaN</td>\n",
       "      <td>NaN</td>\n",
       "      <td>175 Avenue Louis Pasteur</td>\n",
       "      <td>ROQUEBRUNE-CAP-MARTIN</td>\n",
       "    </tr>\n",
       "    <tr>\n",
       "      <th>534</th>\n",
       "      <td>2019</td>\n",
       "      <td>6220004.0</td>\n",
       "      <td>43.579880</td>\n",
       "      <td>7.062040</td>\n",
       "      <td>6220</td>\n",
       "      <td>R</td>\n",
       "      <td>NaN</td>\n",
       "      <td>NaN</td>\n",
       "      <td>NaN</td>\n",
       "      <td>D6007</td>\n",
       "      <td>Vallauris</td>\n",
       "    </tr>\n",
       "    <tr>\n",
       "      <th>...</th>\n",
       "      <td>...</td>\n",
       "      <td>...</td>\n",
       "      <td>...</td>\n",
       "      <td>...</td>\n",
       "      <td>...</td>\n",
       "      <td>...</td>\n",
       "      <td>...</td>\n",
       "      <td>...</td>\n",
       "      <td>...</td>\n",
       "      <td>...</td>\n",
       "      <td>...</td>\n",
       "    </tr>\n",
       "    <tr>\n",
       "      <th>136478</th>\n",
       "      <td>2016</td>\n",
       "      <td>94500001.0</td>\n",
       "      <td>48.823150</td>\n",
       "      <td>2.494980</td>\n",
       "      <td>94500</td>\n",
       "      <td>R</td>\n",
       "      <td>06:00:00</td>\n",
       "      <td>21:00:00</td>\n",
       "      <td>NaN</td>\n",
       "      <td>ral de Gaulle</td>\n",
       "      <td>CHAMPIGNY-SUR-MARNE</td>\n",
       "    </tr>\n",
       "    <tr>\n",
       "      <th>136665</th>\n",
       "      <td>2016</td>\n",
       "      <td>95500002.0</td>\n",
       "      <td>48.967186</td>\n",
       "      <td>2.464734</td>\n",
       "      <td>95500</td>\n",
       "      <td>R</td>\n",
       "      <td>05:30:00</td>\n",
       "      <td>20:30:00</td>\n",
       "      <td>NaN</td>\n",
       "      <td>RN 370</td>\n",
       "      <td>GONESSE</td>\n",
       "    </tr>\n",
       "  </tbody>\n",
       "</table>\n",
       "<p>1956 rows × 11 columns</p>\n",
       "</div>"
      ],
      "text/plain": [
       "       annee          id   latitude  longitude     cp pop ouverture_debut  \\\n",
       "502     2019   6190006.0  43.763940   7.480690   6190   R             NaN   \n",
       "534     2019   6220004.0  43.579880   7.062040   6220   R             NaN   \n",
       "...      ...         ...        ...        ...    ...  ..             ...   \n",
       "136478  2016  94500001.0  48.823150   2.494980  94500   R        06:00:00   \n",
       "136665  2016  95500002.0  48.967186   2.464734  95500   R        05:30:00   \n",
       "\n",
       "       ouverture_fin ouverture_saufjour                   adresse  \\\n",
       "502              NaN                NaN  175 Avenue Louis Pasteur   \n",
       "534              NaN                NaN                     D6007   \n",
       "...              ...                ...                       ...   \n",
       "136478      21:00:00                NaN             ral de Gaulle   \n",
       "136665      20:30:00                NaN                    RN 370   \n",
       "\n",
       "                        ville  \n",
       "502     ROQUEBRUNE-CAP-MARTIN  \n",
       "534                 Vallauris  \n",
       "...                       ...  \n",
       "136478    CHAMPIGNY-SUR-MARNE  \n",
       "136665                GONESSE  \n",
       "\n",
       "[1956 rows x 11 columns]"
      ]
     },
     "execution_count": 12,
     "metadata": {},
     "output_type": "execute_result"
    }
   ],
   "source": [
    "# update the originale DataFrame and verify it\n",
    "pdv.update(sub_pdv)\n",
    "pdv.loc[sub_pdv.index]"
   ]
  },
  {
   "cell_type": "markdown",
   "metadata": {},
   "source": [
    "Now, latitudes and longitudes that remain outside of the correcte range will be converted to **Nan**"
   ]
  },
  {
   "cell_type": "code",
   "execution_count": 13,
   "metadata": {},
   "outputs": [],
   "source": [
    "d = pdv.loc[(-5 > pdv.longitude) | (pdv.longitude > 10) | (pdv.latitude > 51) |  (pdv.latitude < 42)]"
   ]
  },
  {
   "cell_type": "code",
   "execution_count": 14,
   "metadata": {},
   "outputs": [
    {
     "data": {
      "text/html": [
       "<div>\n",
       "<style scoped>\n",
       "    .dataframe tbody tr th:only-of-type {\n",
       "        vertical-align: middle;\n",
       "    }\n",
       "\n",
       "    .dataframe tbody tr th {\n",
       "        vertical-align: top;\n",
       "    }\n",
       "\n",
       "    .dataframe thead th {\n",
       "        text-align: right;\n",
       "    }\n",
       "</style>\n",
       "<table border=\"1\" class=\"dataframe\">\n",
       "  <thead>\n",
       "    <tr style=\"text-align: right;\">\n",
       "      <th></th>\n",
       "      <th>annee</th>\n",
       "      <th>id</th>\n",
       "      <th>latitude</th>\n",
       "      <th>longitude</th>\n",
       "      <th>cp</th>\n",
       "      <th>pop</th>\n",
       "      <th>ouverture_debut</th>\n",
       "      <th>ouverture_fin</th>\n",
       "      <th>ouverture_saufjour</th>\n",
       "      <th>adresse</th>\n",
       "      <th>ville</th>\n",
       "    </tr>\n",
       "  </thead>\n",
       "  <tbody>\n",
       "    <tr>\n",
       "      <th>1221</th>\n",
       "      <td>2019</td>\n",
       "      <td>13015012.0</td>\n",
       "      <td>0.000000</td>\n",
       "      <td>0.000000</td>\n",
       "      <td>13015</td>\n",
       "      <td>R</td>\n",
       "      <td>NaN</td>\n",
       "      <td>NaN</td>\n",
       "      <td>NaN</td>\n",
       "      <td>20-22, RN DE ST ANTOINE</td>\n",
       "      <td>MARSEILLE</td>\n",
       "    </tr>\n",
       "    <tr>\n",
       "      <th>2086</th>\n",
       "      <td>2019</td>\n",
       "      <td>20000002.0</td>\n",
       "      <td>41.933360</td>\n",
       "      <td>8.744030</td>\n",
       "      <td>20090</td>\n",
       "      <td>R</td>\n",
       "      <td>NaN</td>\n",
       "      <td>NaN</td>\n",
       "      <td>NaN</td>\n",
       "      <td>Route du Bord de Mer</td>\n",
       "      <td>Ajaccio</td>\n",
       "    </tr>\n",
       "    <tr>\n",
       "      <th>...</th>\n",
       "      <td>...</td>\n",
       "      <td>...</td>\n",
       "      <td>...</td>\n",
       "      <td>...</td>\n",
       "      <td>...</td>\n",
       "      <td>...</td>\n",
       "      <td>...</td>\n",
       "      <td>...</td>\n",
       "      <td>...</td>\n",
       "      <td>...</td>\n",
       "      <td>...</td>\n",
       "    </tr>\n",
       "    <tr>\n",
       "      <th>135935</th>\n",
       "      <td>2016</td>\n",
       "      <td>91220003.0</td>\n",
       "      <td>-20.949714</td>\n",
       "      <td>55.295261</td>\n",
       "      <td>97420</td>\n",
       "      <td>R</td>\n",
       "      <td>01:00:00</td>\n",
       "      <td>01:00:00</td>\n",
       "      <td>NaN</td>\n",
       "      <td>19 Avenue du 19 Mars 1946</td>\n",
       "      <td>Le Port</td>\n",
       "    </tr>\n",
       "    <tr>\n",
       "      <th>136282</th>\n",
       "      <td>2016</td>\n",
       "      <td>93240003.0</td>\n",
       "      <td>62.606560</td>\n",
       "      <td>2.649195</td>\n",
       "      <td>93240</td>\n",
       "      <td>R</td>\n",
       "      <td>06:00:34</td>\n",
       "      <td>22:00:34</td>\n",
       "      <td>NaN</td>\n",
       "      <td>17 Avenue Marcel Cachin</td>\n",
       "      <td>STAINS</td>\n",
       "    </tr>\n",
       "  </tbody>\n",
       "</table>\n",
       "<p>992 rows × 11 columns</p>\n",
       "</div>"
      ],
      "text/plain": [
       "       annee          id   latitude  longitude     cp pop ouverture_debut  \\\n",
       "1221    2019  13015012.0   0.000000   0.000000  13015   R             NaN   \n",
       "2086    2019  20000002.0  41.933360   8.744030  20090   R             NaN   \n",
       "...      ...         ...        ...        ...    ...  ..             ...   \n",
       "135935  2016  91220003.0 -20.949714  55.295261  97420   R        01:00:00   \n",
       "136282  2016  93240003.0  62.606560   2.649195  93240   R        06:00:34   \n",
       "\n",
       "       ouverture_fin ouverture_saufjour                    adresse      ville  \n",
       "1221             NaN                NaN    20-22, RN DE ST ANTOINE  MARSEILLE  \n",
       "2086             NaN                NaN       Route du Bord de Mer    Ajaccio  \n",
       "...              ...                ...                        ...        ...  \n",
       "135935      01:00:00                NaN  19 Avenue du 19 Mars 1946    Le Port  \n",
       "136282      22:00:34                NaN    17 Avenue Marcel Cachin     STAINS  \n",
       "\n",
       "[992 rows x 11 columns]"
      ]
     },
     "execution_count": 14,
     "metadata": {},
     "output_type": "execute_result"
    }
   ],
   "source": [
    "d"
   ]
  },
  {
   "cell_type": "code",
   "execution_count": 15,
   "metadata": {},
   "outputs": [],
   "source": [
    "d.loc[:,\"latitude\"] = np.nan\n",
    "d.loc[:,\"longitude\"] = np.nan"
   ]
  },
  {
   "cell_type": "code",
   "execution_count": 16,
   "metadata": {},
   "outputs": [],
   "source": [
    "pdv.update(d)"
   ]
  },
  {
   "cell_type": "code",
   "execution_count": 17,
   "metadata": {},
   "outputs": [
    {
     "name": "stderr",
     "output_type": "stream",
     "text": [
      "/home/houcine/anaconda3/lib/python3.7/site-packages/scipy/stats/stats.py:1713: FutureWarning: Using a non-tuple sequence for multidimensional indexing is deprecated; use `arr[tuple(seq)]` instead of `arr[seq]`. In the future this will be interpreted as an array index, `arr[np.array(seq)]`, which will result either in an error or a different result.\n",
      "  return np.add.reduce(sorted[indexer] * weights, axis=axis) / sumval\n"
     ]
    },
    {
     "data": {
      "text/plain": [
       "<matplotlib.axes._subplots.AxesSubplot at 0x7f55c88bd438>"
      ]
     },
     "execution_count": 17,
     "metadata": {},
     "output_type": "execute_result"
    },
    {
     "data": {
      "image/png": "[encoded data removed]",
      "text/plain": [
       "<Figure size 432x288 with 1 Axes>"
      ]
     },
     "metadata": {
      "needs_background": "light"
     },
     "output_type": "display_data"
    }
   ],
   "source": [
    "sns.distplot(pdv.dropna().longitude)"
   ]
  },
  {
   "cell_type": "code",
   "execution_count": 18,
   "metadata": {},
   "outputs": [
    {
     "data": {
      "text/plain": [
       "<matplotlib.axes._subplots.AxesSubplot at 0x7f55c8994860>"
      ]
     },
     "execution_count": 18,
     "metadata": {},
     "output_type": "execute_result"
    },
    {
     "data": {
      "image/png": "[encoded data removed]",
      "text/plain": [
       "<Figure size 432x288 with 1 Axes>"
      ]
     },
     "metadata": {
      "needs_background": "light"
     },
     "output_type": "display_data"
    }
   ],
   "source": [
    "sns.distplot(pdv.dropna().latitude)"
   ]
  },
  {
   "cell_type": "markdown",
   "metadata": {},
   "source": [
    "we can conclde that the vast majority of longitude and latitude are correcte now. <br>\n",
    "of course we can add some modifications but I am satisfied with the results I have got."
   ]
  },
  {
   "cell_type": "markdown",
   "metadata": {},
   "source": [
    "correcting one ***cp***"
   ]
  },
  {
   "cell_type": "code",
   "execution_count": 19,
   "metadata": {},
   "outputs": [],
   "source": [
    "pdv.loc[pdv.cp==\"35***\",\"cp\"] = 35000"
   ]
  },
  {
   "cell_type": "markdown",
   "metadata": {},
   "source": [
    "- **convertion des categories**"
   ]
  },
  {
   "cell_type": "markdown",
   "metadata": {},
   "source": [
    "columns **'annee','pop','ouverture_saufjour'** it will be better to consider them as categories"
   ]
  },
  {
   "cell_type": "code",
   "execution_count": 20,
   "metadata": {},
   "outputs": [],
   "source": [
    "pdv['annee']              = pdv['annee'].astype('category')\n",
    "pdv['pop']                = pdv['pop'].astype('category')\n",
    "pdv['ouverture_saufjour'] = pdv['ouverture_saufjour'].astype('category')"
   ]
  },
  {
   "cell_type": "markdown",
   "metadata": {},
   "source": [
    "- **convertion des dates et temps**"
   ]
  },
  {
   "cell_type": "code",
   "execution_count": 21,
   "metadata": {},
   "outputs": [],
   "source": [
    "mask = pdv['ouverture_debut'].str.len() == 5\n",
    "pdv.loc[mask,'ouverture_debut'] = pdv.loc[mask,'ouverture_debut'] + \":00\""
   ]
  },
  {
   "cell_type": "code",
   "execution_count": 22,
   "metadata": {},
   "outputs": [],
   "source": [
    "mask = pdv['ouverture_fin'].str.len() == 5\n",
    "pdv.loc[mask,'ouverture_fin'] = pdv.loc[mask,'ouverture_fin'] + \":00\""
   ]
  },
  {
   "cell_type": "markdown",
   "metadata": {},
   "source": [
    "Pour pouvooir faire des calcule sur des heures, on les converte en *timedelta*"
   ]
  },
  {
   "cell_type": "code",
   "execution_count": 23,
   "metadata": {},
   "outputs": [],
   "source": [
    "pdv['ouverture_debut'] = pd.to_timedelta((pdv['ouverture_debut']))\n",
    "pdv['ouverture_fin']   = pd.to_timedelta((pdv['ouverture_fin']))"
   ]
  },
  {
   "cell_type": "code",
   "execution_count": 24,
   "metadata": {},
   "outputs": [
    {
     "name": "stdout",
     "output_type": "stream",
     "text": [
      "<class 'pandas.core.frame.DataFrame'>\n",
      "RangeIndex: 136712 entries, 0 to 136711\n",
      "Data columns (total 11 columns):\n",
      "annee                 136712 non-null category\n",
      "id                    136712 non-null float64\n",
      "latitude              135706 non-null float64\n",
      "longitude             135728 non-null float64\n",
      "cp                    136712 non-null object\n",
      "pop                   136712 non-null category\n",
      "ouverture_debut       124114 non-null timedelta64[ns]\n",
      "ouverture_fin         124114 non-null timedelta64[ns]\n",
      "ouverture_saufjour    21174 non-null category\n",
      "adresse               136712 non-null object\n",
      "ville                 136709 non-null object\n",
      "dtypes: category(3), float64(3), object(3), timedelta64[ns](2)\n",
      "memory usage: 8.7+ MB\n"
     ]
    }
   ],
   "source": [
    "pdv.info()"
   ]
  },
  {
   "cell_type": "markdown",
   "metadata": {},
   "source": [
    "tout est bon!"
   ]
  },
  {
   "cell_type": "markdown",
   "metadata": {},
   "source": [
    "- **enregistrer la df compréssée**"
   ]
  },
  {
   "cell_type": "code",
   "execution_count": 25,
   "metadata": {},
   "outputs": [],
   "source": [
    "pdv.to_parquet('pdv.gzip', engine='fastparquet',\n",
    "               compression='gzip')"
   ]
  },
  {
   "cell_type": "markdown",
   "metadata": {},
   "source": [
    "- **liberer la mémoire**"
   ]
  },
  {
   "cell_type": "code",
   "execution_count": 26,
   "metadata": {},
   "outputs": [],
   "source": [
    "del pdv"
   ]
  },
  {
   "cell_type": "markdown",
   "metadata": {},
   "source": [
    "### netoyage de **prix**"
   ]
  },
  {
   "cell_type": "code",
   "execution_count": 27,
   "metadata": {},
   "outputs": [],
   "source": [
    "prix = pd.read_csv('prix.csv')"
   ]
  },
  {
   "cell_type": "code",
   "execution_count": 28,
   "metadata": {},
   "outputs": [
    {
     "data": {
      "text/html": [
       "<div>\n",
       "<style scoped>\n",
       "    .dataframe tbody tr th:only-of-type {\n",
       "        vertical-align: middle;\n",
       "    }\n",
       "\n",
       "    .dataframe tbody tr th {\n",
       "        vertical-align: top;\n",
       "    }\n",
       "\n",
       "    .dataframe thead th {\n",
       "        text-align: right;\n",
       "    }\n",
       "</style>\n",
       "<table border=\"1\" class=\"dataframe\">\n",
       "  <thead>\n",
       "    <tr style=\"text-align: right;\">\n",
       "      <th></th>\n",
       "      <th>annee</th>\n",
       "      <th>id_pdv</th>\n",
       "      <th>nom</th>\n",
       "      <th>id</th>\n",
       "      <th>maj</th>\n",
       "      <th>valeur</th>\n",
       "    </tr>\n",
       "  </thead>\n",
       "  <tbody>\n",
       "    <tr>\n",
       "      <th>0</th>\n",
       "      <td>2019</td>\n",
       "      <td>1000001</td>\n",
       "      <td>Gazole</td>\n",
       "      <td>1</td>\n",
       "      <td>2019-01-04T10:53:48</td>\n",
       "      <td>1328</td>\n",
       "    </tr>\n",
       "    <tr>\n",
       "      <th>1</th>\n",
       "      <td>2019</td>\n",
       "      <td>1000001</td>\n",
       "      <td>Gazole</td>\n",
       "      <td>1</td>\n",
       "      <td>2019-01-07T10:25:25</td>\n",
       "      <td>1348</td>\n",
       "    </tr>\n",
       "    <tr>\n",
       "      <th>...</th>\n",
       "      <td>...</td>\n",
       "      <td>...</td>\n",
       "      <td>...</td>\n",
       "      <td>...</td>\n",
       "      <td>...</td>\n",
       "      <td>...</td>\n",
       "    </tr>\n",
       "    <tr>\n",
       "      <th>28556965</th>\n",
       "      <td>2016</td>\n",
       "      <td>95870009</td>\n",
       "      <td>SP98</td>\n",
       "      <td>6</td>\n",
       "      <td>2016-12-31T00:12:00</td>\n",
       "      <td>1439</td>\n",
       "    </tr>\n",
       "    <tr>\n",
       "      <th>28556966</th>\n",
       "      <td>2016</td>\n",
       "      <td>95870009</td>\n",
       "      <td>SP98</td>\n",
       "      <td>6</td>\n",
       "      <td>2016-12-31T00:12:00</td>\n",
       "      <td>1439</td>\n",
       "    </tr>\n",
       "  </tbody>\n",
       "</table>\n",
       "<p>28556967 rows × 6 columns</p>\n",
       "</div>"
      ],
      "text/plain": [
       "          annee    id_pdv     nom  id                  maj  valeur\n",
       "0          2019   1000001  Gazole   1  2019-01-04T10:53:48    1328\n",
       "1          2019   1000001  Gazole   1  2019-01-07T10:25:25    1348\n",
       "...         ...       ...     ...  ..                  ...     ...\n",
       "28556965   2016  95870009    SP98   6  2016-12-31T00:12:00    1439\n",
       "28556966   2016  95870009    SP98   6  2016-12-31T00:12:00    1439\n",
       "\n",
       "[28556967 rows x 6 columns]"
      ]
     },
     "execution_count": 28,
     "metadata": {},
     "output_type": "execute_result"
    }
   ],
   "source": [
    "prix"
   ]
  },
  {
   "cell_type": "code",
   "execution_count": 29,
   "metadata": {},
   "outputs": [
    {
     "name": "stdout",
     "output_type": "stream",
     "text": [
      "<class 'pandas.core.frame.DataFrame'>\n",
      "RangeIndex: 28556967 entries, 0 to 28556966\n",
      "Data columns (total 6 columns):\n",
      "annee     int64\n",
      "id_pdv    int64\n",
      "nom       object\n",
      "id        int64\n",
      "maj       object\n",
      "valeur    int64\n",
      "dtypes: int64(4), object(2)\n",
      "memory usage: 1.3+ GB\n"
     ]
    }
   ],
   "source": [
    "prix.info()"
   ]
  },
  {
   "cell_type": "markdown",
   "metadata": {},
   "source": [
    "**the DataFrame 'prix' is very large (1,3 GB). we can make it smaller by converting some variables to Categories.**"
   ]
  },
  {
   "cell_type": "markdown",
   "metadata": {},
   "source": [
    "- **convertion to categories**"
   ]
  },
  {
   "cell_type": "markdown",
   "metadata": {},
   "source": [
    "the columns **'id_pdv','annee','nom','id'** are good candidates to be converted to categories."
   ]
  },
  {
   "cell_type": "code",
   "execution_count": 30,
   "metadata": {},
   "outputs": [],
   "source": [
    "prix[\"id_pdv\"] = prix[\"id_pdv\"].astype('category')\n",
    "prix[\"annee\"]  = prix[\"annee\"].astype('category')\n",
    "prix[\"nom\"]    = prix[\"nom\"].astype('category')\n",
    "prix[\"id\"]     = prix[\"id\"].astype('category')"
   ]
  },
  {
   "cell_type": "code",
   "execution_count": 31,
   "metadata": {},
   "outputs": [
    {
     "name": "stdout",
     "output_type": "stream",
     "text": [
      "<class 'pandas.core.frame.DataFrame'>\n",
      "RangeIndex: 28556967 entries, 0 to 28556966\n",
      "Data columns (total 6 columns):\n",
      "annee     category\n",
      "id_pdv    category\n",
      "nom       category\n",
      "id        category\n",
      "maj       object\n",
      "valeur    int64\n",
      "dtypes: category(4), int64(1), object(1)\n",
      "memory usage: 572.3+ MB\n"
     ]
    }
   ],
   "source": [
    "prix.info()"
   ]
  },
  {
   "cell_type": "markdown",
   "metadata": {},
   "source": [
    "**we changed the volum of the dataframe from 1.3GB to 0.57GB**"
   ]
  },
  {
   "cell_type": "markdown",
   "metadata": {},
   "source": [
    "- **convertion of 'Maj' date**"
   ]
  },
  {
   "cell_type": "code",
   "execution_count": 32,
   "metadata": {},
   "outputs": [],
   "source": [
    "prix['maj'] = pd.to_datetime(prix['maj'])"
   ]
  },
  {
   "cell_type": "code",
   "execution_count": 33,
   "metadata": {},
   "outputs": [
    {
     "name": "stdout",
     "output_type": "stream",
     "text": [
      "<class 'pandas.core.frame.DataFrame'>\n",
      "RangeIndex: 28556967 entries, 0 to 28556966\n",
      "Data columns (total 6 columns):\n",
      "annee     category\n",
      "id_pdv    category\n",
      "nom       category\n",
      "id        category\n",
      "maj       datetime64[ns]\n",
      "valeur    int64\n",
      "dtypes: category(4), datetime64[ns](1), int64(1)\n",
      "memory usage: 572.3 MB\n"
     ]
    }
   ],
   "source": [
    "prix.info()"
   ]
  },
  {
   "cell_type": "markdown",
   "metadata": {},
   "source": [
    "- **save the compressed df**"
   ]
  },
  {
   "cell_type": "code",
   "execution_count": 34,
   "metadata": {},
   "outputs": [],
   "source": [
    "prix.to_parquet('prix.gzip', engine='fastparquet',\n",
    "               compression='gzip')"
   ]
  },
  {
   "cell_type": "markdown",
   "metadata": {},
   "source": [
    "- **liberer la mémoire**"
   ]
  },
  {
   "cell_type": "code",
   "execution_count": 35,
   "metadata": {},
   "outputs": [],
   "source": [
    "del prix"
   ]
  },
  {
   "cell_type": "markdown",
   "metadata": {},
   "source": [
    "### netoyage de **services**"
   ]
  },
  {
   "cell_type": "code",
   "execution_count": 36,
   "metadata": {},
   "outputs": [],
   "source": [
    "services = pd.read_csv('services.csv')"
   ]
  },
  {
   "cell_type": "code",
   "execution_count": 37,
   "metadata": {},
   "outputs": [
    {
     "data": {
      "text/html": [
       "<div>\n",
       "<style scoped>\n",
       "    .dataframe tbody tr th:only-of-type {\n",
       "        vertical-align: middle;\n",
       "    }\n",
       "\n",
       "    .dataframe tbody tr th {\n",
       "        vertical-align: top;\n",
       "    }\n",
       "\n",
       "    .dataframe thead th {\n",
       "        text-align: right;\n",
       "    }\n",
       "</style>\n",
       "<table border=\"1\" class=\"dataframe\">\n",
       "  <thead>\n",
       "    <tr style=\"text-align: right;\">\n",
       "      <th></th>\n",
       "      <th>annee</th>\n",
       "      <th>id_pdv</th>\n",
       "      <th>service</th>\n",
       "    </tr>\n",
       "  </thead>\n",
       "  <tbody>\n",
       "    <tr>\n",
       "      <th>0</th>\n",
       "      <td>2019</td>\n",
       "      <td>1000001</td>\n",
       "      <td>Station de gonflage</td>\n",
       "    </tr>\n",
       "    <tr>\n",
       "      <th>1</th>\n",
       "      <td>2019</td>\n",
       "      <td>1000001</td>\n",
       "      <td>Vente de gaz domestique (Butane, Propane)</td>\n",
       "    </tr>\n",
       "    <tr>\n",
       "      <th>...</th>\n",
       "      <td>...</td>\n",
       "      <td>...</td>\n",
       "      <td>...</td>\n",
       "    </tr>\n",
       "    <tr>\n",
       "      <th>962902</th>\n",
       "      <td>2016</td>\n",
       "      <td>96600001</td>\n",
       "      <td>Vente de gaz domestique</td>\n",
       "    </tr>\n",
       "    <tr>\n",
       "      <th>962903</th>\n",
       "      <td>2016</td>\n",
       "      <td>96600001</td>\n",
       "      <td></td>\n",
       "    </tr>\n",
       "  </tbody>\n",
       "</table>\n",
       "<p>962904 rows × 3 columns</p>\n",
       "</div>"
      ],
      "text/plain": [
       "        annee    id_pdv                                    service\n",
       "0        2019   1000001                        Station de gonflage\n",
       "1        2019   1000001  Vente de gaz domestique (Butane, Propane)\n",
       "...       ...       ...                                        ...\n",
       "962902   2016  96600001                    Vente de gaz domestique\n",
       "962903   2016  96600001                                           \n",
       "\n",
       "[962904 rows x 3 columns]"
      ]
     },
     "execution_count": 37,
     "metadata": {},
     "output_type": "execute_result"
    }
   ],
   "source": [
    "services"
   ]
  },
  {
   "cell_type": "markdown",
   "metadata": {},
   "source": [
    "- **convertion to categories**"
   ]
  },
  {
   "cell_type": "markdown",
   "metadata": {},
   "source": [
    "the columns **'annee','id_pdv','service'** it will be better to convert the to categories."
   ]
  },
  {
   "cell_type": "code",
   "execution_count": 38,
   "metadata": {},
   "outputs": [],
   "source": [
    "services[\"annee\"]   = services[\"annee\"].astype('category')\n",
    "services[\"id_pdv\"]  = services[\"id_pdv\"].astype('category')\n",
    "services[\"service\"] = services[\"service\"].astype('category')"
   ]
  },
  {
   "cell_type": "code",
   "execution_count": 39,
   "metadata": {},
   "outputs": [
    {
     "name": "stdout",
     "output_type": "stream",
     "text": [
      "<class 'pandas.core.frame.DataFrame'>\n",
      "RangeIndex: 962904 entries, 0 to 962903\n",
      "Data columns (total 3 columns):\n",
      "annee      962904 non-null category\n",
      "id_pdv     962904 non-null category\n",
      "service    962904 non-null category\n",
      "dtypes: category(3)\n",
      "memory usage: 5.3 MB\n"
     ]
    }
   ],
   "source": [
    "services.info()"
   ]
  },
  {
   "cell_type": "code",
   "execution_count": 40,
   "metadata": {},
   "outputs": [
    {
     "data": {
      "text/html": [
       "<div>\n",
       "<style scoped>\n",
       "    .dataframe tbody tr th:only-of-type {\n",
       "        vertical-align: middle;\n",
       "    }\n",
       "\n",
       "    .dataframe tbody tr th {\n",
       "        vertical-align: top;\n",
       "    }\n",
       "\n",
       "    .dataframe thead th {\n",
       "        text-align: right;\n",
       "    }\n",
       "</style>\n",
       "<table border=\"1\" class=\"dataframe\">\n",
       "  <thead>\n",
       "    <tr style=\"text-align: right;\">\n",
       "      <th></th>\n",
       "      <th>annee</th>\n",
       "      <th>id_pdv</th>\n",
       "      <th>service</th>\n",
       "    </tr>\n",
       "  </thead>\n",
       "  <tbody>\n",
       "    <tr>\n",
       "      <th>0</th>\n",
       "      <td>2019</td>\n",
       "      <td>1000001</td>\n",
       "      <td>Station de gonflage</td>\n",
       "    </tr>\n",
       "    <tr>\n",
       "      <th>1</th>\n",
       "      <td>2019</td>\n",
       "      <td>1000001</td>\n",
       "      <td>Vente de gaz domestique (Butane, Propane)</td>\n",
       "    </tr>\n",
       "    <tr>\n",
       "      <th>...</th>\n",
       "      <td>...</td>\n",
       "      <td>...</td>\n",
       "      <td>...</td>\n",
       "    </tr>\n",
       "    <tr>\n",
       "      <th>962902</th>\n",
       "      <td>2016</td>\n",
       "      <td>96600001</td>\n",
       "      <td>Vente de gaz domestique</td>\n",
       "    </tr>\n",
       "    <tr>\n",
       "      <th>962903</th>\n",
       "      <td>2016</td>\n",
       "      <td>96600001</td>\n",
       "      <td></td>\n",
       "    </tr>\n",
       "  </tbody>\n",
       "</table>\n",
       "<p>962904 rows × 3 columns</p>\n",
       "</div>"
      ],
      "text/plain": [
       "       annee    id_pdv                                    service\n",
       "0       2019   1000001                        Station de gonflage\n",
       "1       2019   1000001  Vente de gaz domestique (Butane, Propane)\n",
       "...      ...       ...                                        ...\n",
       "962902  2016  96600001                    Vente de gaz domestique\n",
       "962903  2016  96600001                                           \n",
       "\n",
       "[962904 rows x 3 columns]"
      ]
     },
     "execution_count": 40,
     "metadata": {},
     "output_type": "execute_result"
    }
   ],
   "source": [
    "services"
   ]
  },
  {
   "cell_type": "markdown",
   "metadata": {},
   "source": [
    "- **save te compressed df**"
   ]
  },
  {
   "cell_type": "code",
   "execution_count": 41,
   "metadata": {},
   "outputs": [],
   "source": [
    "services.to_parquet('services.gzip', engine='fastparquet',\n",
    "               compression='gzip')"
   ]
  },
  {
   "cell_type": "markdown",
   "metadata": {},
   "source": [
    "- **liberer la mémoire**"
   ]
  },
  {
   "cell_type": "code",
   "execution_count": 42,
   "metadata": {},
   "outputs": [],
   "source": [
    "del services"
   ]
  }
 ],
 "metadata": {
  "kernelspec": {
   "display_name": "Python 3",
   "language": "python",
   "name": "python3"
  },
  "language_info": {
   "codemirror_mode": {
    "name": "ipython",
    "version": 3
   },
   "file_extension": ".py",
   "mimetype": "text/x-python",
   "name": "python",
   "nbconvert_exporter": "python",
   "pygments_lexer": "ipython3",
   "version": "3.7.1"
  }
 },
 "nbformat": 4,
 "nbformat_minor": 2
}
