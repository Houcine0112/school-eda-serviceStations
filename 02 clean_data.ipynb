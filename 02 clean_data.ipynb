{
 "cells": [
  {
   "cell_type": "markdown",
   "metadata": {},
   "source": [
    "# Netoyage des données"
   ]
  },
  {
   "cell_type": "markdown",
   "metadata": {},
   "source": [
    "## Les  imports"
   ]
  },
  {
   "cell_type": "code",
   "execution_count": 23,
   "metadata": {},
   "outputs": [],
   "source": [
    "# !pip install fastparquet"
   ]
  },
  {
   "cell_type": "code",
   "execution_count": 154,
   "metadata": {},
   "outputs": [],
   "source": [
    "# !pip install -U googlemaps"
   ]
  },
  {
   "cell_type": "code",
   "execution_count": 157,
   "metadata": {},
   "outputs": [],
   "source": [
    "# !pip install geopy"
   ]
  },
  {
   "cell_type": "code",
   "execution_count": 118,
   "metadata": {},
   "outputs": [],
   "source": [
    "import pandas as pd\n",
    "import os"
   ]
  },
  {
   "cell_type": "code",
   "execution_count": 119,
   "metadata": {},
   "outputs": [
    {
     "name": "stdout",
     "output_type": "stream",
     "text": [
      "current work dir is: /tmp/gas\n"
     ]
    }
   ],
   "source": [
    "## Modifier le WorkDirectory\n",
    "wdir = '/tmp/gas'\n",
    "os.chdir(wdir)\n",
    "print('current work dir is:', os.getcwd())"
   ]
  },
  {
   "cell_type": "code",
   "execution_count": 120,
   "metadata": {},
   "outputs": [],
   "source": [
    "# limiter le nombre de lignes à afficher à 10\n",
    "# au lieu de faire un head() + un tail() il suffira d'afficher la DataFrame\n",
    "pd.options.display.max_rows = 10"
   ]
  },
  {
   "cell_type": "markdown",
   "metadata": {},
   "source": [
    "## Fonction pour detecter les colonnes susebtible de devenir des categories"
   ]
  },
  {
   "cell_type": "code",
   "execution_count": 121,
   "metadata": {},
   "outputs": [],
   "source": [
    "def findLargeCols(df):\n",
    "    head = '{:35} {:15} {:14} {:}'.format('col_name',\n",
    "                             'n',\n",
    "                             'n_distinct',\n",
    "                             'ratio')\n",
    "    print(head)\n",
    "    for col_name in list(df):\n",
    "        n          = len(df[col_name])\n",
    "        n_distinct = len(df[col_name].unique())\n",
    "        ratio      = n/n_distinct\n",
    "        row = '{:20} {:20} {:20} {:8.0f}%'.format(col_name,\n",
    "                                 n,\n",
    "                                 n_distinct,\n",
    "                                 ratio)\n",
    "        print(row)"
   ]
  },
  {
   "cell_type": "markdown",
   "metadata": {},
   "source": [
    "**Plus le Ratio est grand plus la variable a peu de modalités. c à d, les même valeurs se repetent souvent**"
   ]
  },
  {
   "cell_type": "markdown",
   "metadata": {},
   "source": [
    "## Typage des DataFrames"
   ]
  },
  {
   "cell_type": "markdown",
   "metadata": {},
   "source": [
    "### netoyage de **pdv**"
   ]
  },
  {
   "cell_type": "code",
   "execution_count": 122,
   "metadata": {},
   "outputs": [],
   "source": [
    "pdv = pd.read_csv('pdv.csv', low_memory=False)"
   ]
  },
  {
   "cell_type": "markdown",
   "metadata": {},
   "source": [
    "### Les valeurs manquantes"
   ]
  },
  {
   "cell_type": "code",
   "execution_count": 123,
   "metadata": {},
   "outputs": [
    {
     "data": {
      "text/html": [
       "<div>\n",
       "<style scoped>\n",
       "    .dataframe tbody tr th:only-of-type {\n",
       "        vertical-align: middle;\n",
       "    }\n",
       "\n",
       "    .dataframe tbody tr th {\n",
       "        vertical-align: top;\n",
       "    }\n",
       "\n",
       "    .dataframe thead th {\n",
       "        text-align: right;\n",
       "    }\n",
       "</style>\n",
       "<table border=\"1\" class=\"dataframe\">\n",
       "  <thead>\n",
       "    <tr style=\"text-align: right;\">\n",
       "      <th></th>\n",
       "      <th>annee</th>\n",
       "      <th>id</th>\n",
       "      <th>latitude</th>\n",
       "      <th>longitude</th>\n",
       "      <th>cp</th>\n",
       "      <th>pop</th>\n",
       "      <th>ouverture_debut</th>\n",
       "      <th>ouverture_fin</th>\n",
       "      <th>ouverture_saufjour</th>\n",
       "      <th>adresse</th>\n",
       "      <th>ville</th>\n",
       "      <th>rupture_id</th>\n",
       "      <th>rupture_nom</th>\n",
       "      <th>rupture_debut</th>\n",
       "      <th>rupture_fin</th>\n",
       "      <th>fermeture_type</th>\n",
       "      <th>fermeture_debut</th>\n",
       "      <th>fermeture_fin</th>\n",
       "    </tr>\n",
       "  </thead>\n",
       "  <tbody>\n",
       "    <tr>\n",
       "      <th>0</th>\n",
       "      <td>0</td>\n",
       "      <td>0</td>\n",
       "      <td>1006</td>\n",
       "      <td>984</td>\n",
       "      <td>0</td>\n",
       "      <td>0</td>\n",
       "      <td>12598</td>\n",
       "      <td>12598</td>\n",
       "      <td>115538</td>\n",
       "      <td>0</td>\n",
       "      <td>3</td>\n",
       "      <td>0</td>\n",
       "      <td>0</td>\n",
       "      <td>0</td>\n",
       "      <td>92699</td>\n",
       "      <td>43</td>\n",
       "      <td>43</td>\n",
       "      <td>96861</td>\n",
       "    </tr>\n",
       "  </tbody>\n",
       "</table>\n",
       "</div>"
      ],
      "text/plain": [
       "   annee  id  latitude  longitude  cp  pop  ouverture_debut  ouverture_fin  \\\n",
       "0      0   0      1006        984   0    0            12598          12598   \n",
       "\n",
       "   ouverture_saufjour  adresse  ville  rupture_id  rupture_nom  rupture_debut  \\\n",
       "0              115538        0      3           0            0              0   \n",
       "\n",
       "   rupture_fin  fermeture_type  fermeture_debut  fermeture_fin  \n",
       "0        92699              43               43          96861  "
      ]
     },
     "execution_count": 123,
     "metadata": {},
     "output_type": "execute_result"
    }
   ],
   "source": [
    "pd.DataFrame(pdv.isna().sum()).T"
   ]
  },
  {
   "cell_type": "code",
   "execution_count": 124,
   "metadata": {},
   "outputs": [
    {
     "data": {
      "text/html": [
       "<div>\n",
       "<style scoped>\n",
       "    .dataframe tbody tr th:only-of-type {\n",
       "        vertical-align: middle;\n",
       "    }\n",
       "\n",
       "    .dataframe tbody tr th {\n",
       "        vertical-align: top;\n",
       "    }\n",
       "\n",
       "    .dataframe thead th {\n",
       "        text-align: right;\n",
       "    }\n",
       "</style>\n",
       "<table border=\"1\" class=\"dataframe\">\n",
       "  <thead>\n",
       "    <tr style=\"text-align: right;\">\n",
       "      <th></th>\n",
       "      <th>annee</th>\n",
       "      <th>id</th>\n",
       "      <th>latitude</th>\n",
       "      <th>longitude</th>\n",
       "      <th>cp</th>\n",
       "      <th>pop</th>\n",
       "      <th>ouverture_debut</th>\n",
       "      <th>ouverture_fin</th>\n",
       "      <th>ouverture_saufjour</th>\n",
       "      <th>adresse</th>\n",
       "      <th>ville</th>\n",
       "      <th>rupture_id</th>\n",
       "      <th>rupture_nom</th>\n",
       "      <th>rupture_debut</th>\n",
       "      <th>rupture_fin</th>\n",
       "      <th>fermeture_type</th>\n",
       "      <th>fermeture_debut</th>\n",
       "      <th>fermeture_fin</th>\n",
       "    </tr>\n",
       "  </thead>\n",
       "  <tbody>\n",
       "    <tr>\n",
       "      <th>0</th>\n",
       "      <td>2019</td>\n",
       "      <td>1000001</td>\n",
       "      <td>4.620114e+06</td>\n",
       "      <td>519791.000000</td>\n",
       "      <td>01000</td>\n",
       "      <td>R</td>\n",
       "      <td>NaN</td>\n",
       "      <td>NaN</td>\n",
       "      <td>NaN</td>\n",
       "      <td>596 AVENUE DE TREVOUX</td>\n",
       "      <td>SAINT-DENIS-LèS-BOURG</td>\n",
       "      <td>4</td>\n",
       "      <td>GPLc</td>\n",
       "      <td>2017-09-16T09:50:23</td>\n",
       "      <td>NaN</td>\n",
       "      <td>NaN</td>\n",
       "      <td>NaN</td>\n",
       "      <td>NaN</td>\n",
       "    </tr>\n",
       "    <tr>\n",
       "      <th>1</th>\n",
       "      <td>2019</td>\n",
       "      <td>1000002</td>\n",
       "      <td>4.621842e+06</td>\n",
       "      <td>522767.000000</td>\n",
       "      <td>01000</td>\n",
       "      <td>R</td>\n",
       "      <td>NaN</td>\n",
       "      <td>NaN</td>\n",
       "      <td>NaN</td>\n",
       "      <td>16 Avenue de Marboz</td>\n",
       "      <td>BOURG-EN-BRESSE</td>\n",
       "      <td>5</td>\n",
       "      <td>E10</td>\n",
       "      <td>2017-09-07T11:05:59</td>\n",
       "      <td>NaN</td>\n",
       "      <td>NaN</td>\n",
       "      <td>NaN</td>\n",
       "      <td>NaN</td>\n",
       "    </tr>\n",
       "    <tr>\n",
       "      <th>2</th>\n",
       "      <td>2019</td>\n",
       "      <td>1000004</td>\n",
       "      <td>4.618800e+06</td>\n",
       "      <td>524500.000000</td>\n",
       "      <td>01000</td>\n",
       "      <td>R</td>\n",
       "      <td>NaN</td>\n",
       "      <td>NaN</td>\n",
       "      <td>NaN</td>\n",
       "      <td>chal Juin</td>\n",
       "      <td>Bourg-en-Bresse</td>\n",
       "      <td>5</td>\n",
       "      <td>E10</td>\n",
       "      <td>2018-04-21T15:38:51</td>\n",
       "      <td>NaN</td>\n",
       "      <td>NaN</td>\n",
       "      <td>NaN</td>\n",
       "      <td>NaN</td>\n",
       "    </tr>\n",
       "    <tr>\n",
       "      <th>3</th>\n",
       "      <td>2019</td>\n",
       "      <td>1000005</td>\n",
       "      <td>4.620094e+06</td>\n",
       "      <td>519942.024022</td>\n",
       "      <td>01000</td>\n",
       "      <td>R</td>\n",
       "      <td>NaN</td>\n",
       "      <td>NaN</td>\n",
       "      <td>NaN</td>\n",
       "      <td>voux</td>\n",
       "      <td>SAINT-DENIS-LèS-BOURG</td>\n",
       "      <td>2</td>\n",
       "      <td>SP95</td>\n",
       "      <td>2011-06-01T00:00:00</td>\n",
       "      <td>NaN</td>\n",
       "      <td>NaN</td>\n",
       "      <td>NaN</td>\n",
       "      <td>NaN</td>\n",
       "    </tr>\n",
       "    <tr>\n",
       "      <th>4</th>\n",
       "      <td>2019</td>\n",
       "      <td>1000006</td>\n",
       "      <td>4.620754e+06</td>\n",
       "      <td>523758.000000</td>\n",
       "      <td>01000</td>\n",
       "      <td>R</td>\n",
       "      <td>NaN</td>\n",
       "      <td>NaN</td>\n",
       "      <td>NaN</td>\n",
       "      <td>1 Boulevard John Kennedy</td>\n",
       "      <td>BOURG-EN-BRESSE</td>\n",
       "      <td>3</td>\n",
       "      <td>E85</td>\n",
       "      <td>2017-09-25T19:45:38</td>\n",
       "      <td>NaN</td>\n",
       "      <td>NaN</td>\n",
       "      <td>NaN</td>\n",
       "      <td>NaN</td>\n",
       "    </tr>\n",
       "    <tr>\n",
       "      <th>...</th>\n",
       "      <td>...</td>\n",
       "      <td>...</td>\n",
       "      <td>...</td>\n",
       "      <td>...</td>\n",
       "      <td>...</td>\n",
       "      <td>...</td>\n",
       "      <td>...</td>\n",
       "      <td>...</td>\n",
       "      <td>...</td>\n",
       "      <td>...</td>\n",
       "      <td>...</td>\n",
       "      <td>...</td>\n",
       "      <td>...</td>\n",
       "      <td>...</td>\n",
       "      <td>...</td>\n",
       "      <td>...</td>\n",
       "      <td>...</td>\n",
       "      <td>...</td>\n",
       "    </tr>\n",
       "    <tr>\n",
       "      <th>136707</th>\n",
       "      <td>2016</td>\n",
       "      <td>95870005</td>\n",
       "      <td>4.893676e+06</td>\n",
       "      <td>220715.000000</td>\n",
       "      <td>95870</td>\n",
       "      <td>R</td>\n",
       "      <td>06:00:43</td>\n",
       "      <td>21:00:43</td>\n",
       "      <td>NaN</td>\n",
       "      <td>ri</td>\n",
       "      <td>BEZONS</td>\n",
       "      <td>6</td>\n",
       "      <td>SP98</td>\n",
       "      <td>2016-07-20T11:07:00</td>\n",
       "      <td>2017-01-02T11:01:34</td>\n",
       "      <td>D</td>\n",
       "      <td>2016-11-03T00:11:00</td>\n",
       "      <td>2017-01-02T11:01:34</td>\n",
       "    </tr>\n",
       "    <tr>\n",
       "      <th>136708</th>\n",
       "      <td>2016</td>\n",
       "      <td>95870007</td>\n",
       "      <td>4.892824e+06</td>\n",
       "      <td>221140.000000</td>\n",
       "      <td>95870</td>\n",
       "      <td>R</td>\n",
       "      <td>06:00:01</td>\n",
       "      <td>21:00:01</td>\n",
       "      <td>NaN</td>\n",
       "      <td>ri</td>\n",
       "      <td>BEZONS</td>\n",
       "      <td>2</td>\n",
       "      <td>SP95</td>\n",
       "      <td>2011-08-31T22:08:00</td>\n",
       "      <td>2017-01-02T11:01:34</td>\n",
       "      <td>D</td>\n",
       "      <td>2016-11-03T00:11:00</td>\n",
       "      <td>2017-01-02T11:01:34</td>\n",
       "    </tr>\n",
       "    <tr>\n",
       "      <th>136709</th>\n",
       "      <td>2016</td>\n",
       "      <td>95870009</td>\n",
       "      <td>4.892770e+06</td>\n",
       "      <td>221346.318047</td>\n",
       "      <td>95870</td>\n",
       "      <td>R</td>\n",
       "      <td>06:00:00</td>\n",
       "      <td>21:30:00</td>\n",
       "      <td>NaN</td>\n",
       "      <td>151 AV GABRIEL PERI</td>\n",
       "      <td>BEZONS</td>\n",
       "      <td>2</td>\n",
       "      <td>SP95</td>\n",
       "      <td>2011-08-31T22:08:00</td>\n",
       "      <td>2017-01-02T11:01:34</td>\n",
       "      <td>D</td>\n",
       "      <td>2016-11-03T00:11:00</td>\n",
       "      <td>2017-01-02T11:01:34</td>\n",
       "    </tr>\n",
       "    <tr>\n",
       "      <th>136710</th>\n",
       "      <td>2016</td>\n",
       "      <td>96600001</td>\n",
       "      <td>4.875637e+06</td>\n",
       "      <td>241048.000000</td>\n",
       "      <td>94600</td>\n",
       "      <td>R</td>\n",
       "      <td>07:30:27</td>\n",
       "      <td>20:30:27</td>\n",
       "      <td>Dimanche</td>\n",
       "      <td>16 Avenue de Newburn</td>\n",
       "      <td>Choisy-le-Roi</td>\n",
       "      <td>1</td>\n",
       "      <td>Gazole</td>\n",
       "      <td>2009-12-21T20:12:00</td>\n",
       "      <td>2017-01-02T11:01:34</td>\n",
       "      <td>D</td>\n",
       "      <td>2016-11-03T00:11:00</td>\n",
       "      <td>2017-01-02T11:01:34</td>\n",
       "    </tr>\n",
       "    <tr>\n",
       "      <th>136711</th>\n",
       "      <td>2016</td>\n",
       "      <td>99999001</td>\n",
       "      <td>4.853943e+06</td>\n",
       "      <td>749812.000000</td>\n",
       "      <td>99999</td>\n",
       "      <td>R</td>\n",
       "      <td>01:00:00</td>\n",
       "      <td>01:00:00</td>\n",
       "      <td>NaN</td>\n",
       "      <td>station test</td>\n",
       "      <td>test</td>\n",
       "      <td>2</td>\n",
       "      <td>SP95</td>\n",
       "      <td>2014-01-12T00:01:00</td>\n",
       "      <td>2017-01-02T11:01:34</td>\n",
       "      <td>D</td>\n",
       "      <td>2016-11-03T00:11:00</td>\n",
       "      <td>2017-01-02T11:01:34</td>\n",
       "    </tr>\n",
       "  </tbody>\n",
       "</table>\n",
       "<p>136712 rows × 18 columns</p>\n",
       "</div>"
      ],
      "text/plain": [
       "        annee        id      latitude      longitude     cp pop  \\\n",
       "0        2019   1000001  4.620114e+06  519791.000000  01000   R   \n",
       "1        2019   1000002  4.621842e+06  522767.000000  01000   R   \n",
       "2        2019   1000004  4.618800e+06  524500.000000  01000   R   \n",
       "3        2019   1000005  4.620094e+06  519942.024022  01000   R   \n",
       "4        2019   1000006  4.620754e+06  523758.000000  01000   R   \n",
       "...       ...       ...           ...            ...    ...  ..   \n",
       "136707   2016  95870005  4.893676e+06  220715.000000  95870   R   \n",
       "136708   2016  95870007  4.892824e+06  221140.000000  95870   R   \n",
       "136709   2016  95870009  4.892770e+06  221346.318047  95870   R   \n",
       "136710   2016  96600001  4.875637e+06  241048.000000  94600   R   \n",
       "136711   2016  99999001  4.853943e+06  749812.000000  99999   R   \n",
       "\n",
       "       ouverture_debut ouverture_fin ouverture_saufjour  \\\n",
       "0                  NaN           NaN                NaN   \n",
       "1                  NaN           NaN                NaN   \n",
       "2                  NaN           NaN                NaN   \n",
       "3                  NaN           NaN                NaN   \n",
       "4                  NaN           NaN                NaN   \n",
       "...                ...           ...                ...   \n",
       "136707        06:00:43      21:00:43                NaN   \n",
       "136708        06:00:01      21:00:01                NaN   \n",
       "136709        06:00:00      21:30:00                NaN   \n",
       "136710        07:30:27      20:30:27           Dimanche   \n",
       "136711        01:00:00      01:00:00                NaN   \n",
       "\n",
       "                         adresse                  ville  rupture_id  \\\n",
       "0          596 AVENUE DE TREVOUX  SAINT-DENIS-LèS-BOURG           4   \n",
       "1            16 Avenue de Marboz        BOURG-EN-BRESSE           5   \n",
       "2                      chal Juin        Bourg-en-Bresse           5   \n",
       "3                           voux  SAINT-DENIS-LèS-BOURG           2   \n",
       "4       1 Boulevard John Kennedy        BOURG-EN-BRESSE           3   \n",
       "...                          ...                    ...         ...   \n",
       "136707                        ri                 BEZONS           6   \n",
       "136708                        ri                 BEZONS           2   \n",
       "136709       151 AV GABRIEL PERI                 BEZONS           2   \n",
       "136710      16 Avenue de Newburn          Choisy-le-Roi           1   \n",
       "136711              station test                   test           2   \n",
       "\n",
       "       rupture_nom        rupture_debut          rupture_fin fermeture_type  \\\n",
       "0             GPLc  2017-09-16T09:50:23                  NaN            NaN   \n",
       "1              E10  2017-09-07T11:05:59                  NaN            NaN   \n",
       "2              E10  2018-04-21T15:38:51                  NaN            NaN   \n",
       "3             SP95  2011-06-01T00:00:00                  NaN            NaN   \n",
       "4              E85  2017-09-25T19:45:38                  NaN            NaN   \n",
       "...            ...                  ...                  ...            ...   \n",
       "136707        SP98  2016-07-20T11:07:00  2017-01-02T11:01:34              D   \n",
       "136708        SP95  2011-08-31T22:08:00  2017-01-02T11:01:34              D   \n",
       "136709        SP95  2011-08-31T22:08:00  2017-01-02T11:01:34              D   \n",
       "136710      Gazole  2009-12-21T20:12:00  2017-01-02T11:01:34              D   \n",
       "136711        SP95  2014-01-12T00:01:00  2017-01-02T11:01:34              D   \n",
       "\n",
       "            fermeture_debut        fermeture_fin  \n",
       "0                       NaN                  NaN  \n",
       "1                       NaN                  NaN  \n",
       "2                       NaN                  NaN  \n",
       "3                       NaN                  NaN  \n",
       "4                       NaN                  NaN  \n",
       "...                     ...                  ...  \n",
       "136707  2016-11-03T00:11:00  2017-01-02T11:01:34  \n",
       "136708  2016-11-03T00:11:00  2017-01-02T11:01:34  \n",
       "136709  2016-11-03T00:11:00  2017-01-02T11:01:34  \n",
       "136710  2016-11-03T00:11:00  2017-01-02T11:01:34  \n",
       "136711  2016-11-03T00:11:00  2017-01-02T11:01:34  \n",
       "\n",
       "[136712 rows x 18 columns]"
      ]
     },
     "execution_count": 124,
     "metadata": {},
     "output_type": "execute_result"
    }
   ],
   "source": [
    "pdv"
   ]
  },
  {
   "cell_type": "code",
   "execution_count": 125,
   "metadata": {},
   "outputs": [
    {
     "data": {
      "text/plain": [
       "'le bleymard'"
      ]
     },
     "execution_count": 125,
     "metadata": {},
     "output_type": "execute_result"
    }
   ],
   "source": [
    "ad = list(pdv.loc[pdv.ville.isna()].loc[:,'adresse'].unique())[0]\n",
    "ad"
   ]
  },
  {
   "cell_type": "code",
   "execution_count": 126,
   "metadata": {},
   "outputs": [
    {
     "data": {
      "text/html": [
       "<div>\n",
       "<style scoped>\n",
       "    .dataframe tbody tr th:only-of-type {\n",
       "        vertical-align: middle;\n",
       "    }\n",
       "\n",
       "    .dataframe tbody tr th {\n",
       "        vertical-align: top;\n",
       "    }\n",
       "\n",
       "    .dataframe thead th {\n",
       "        text-align: right;\n",
       "    }\n",
       "</style>\n",
       "<table border=\"1\" class=\"dataframe\">\n",
       "  <thead>\n",
       "    <tr style=\"text-align: right;\">\n",
       "      <th></th>\n",
       "      <th>annee</th>\n",
       "      <th>id</th>\n",
       "      <th>latitude</th>\n",
       "      <th>longitude</th>\n",
       "      <th>cp</th>\n",
       "      <th>pop</th>\n",
       "      <th>ouverture_debut</th>\n",
       "      <th>ouverture_fin</th>\n",
       "      <th>ouverture_saufjour</th>\n",
       "      <th>adresse</th>\n",
       "      <th>ville</th>\n",
       "      <th>rupture_id</th>\n",
       "      <th>rupture_nom</th>\n",
       "      <th>rupture_debut</th>\n",
       "      <th>rupture_fin</th>\n",
       "      <th>fermeture_type</th>\n",
       "      <th>fermeture_debut</th>\n",
       "      <th>fermeture_fin</th>\n",
       "    </tr>\n",
       "  </thead>\n",
       "  <tbody>\n",
       "    <tr>\n",
       "      <th>80571</th>\n",
       "      <td>False</td>\n",
       "      <td>False</td>\n",
       "      <td>False</td>\n",
       "      <td>False</td>\n",
       "      <td>False</td>\n",
       "      <td>False</td>\n",
       "      <td>False</td>\n",
       "      <td>False</td>\n",
       "      <td>False</td>\n",
       "      <td>False</td>\n",
       "      <td>False</td>\n",
       "      <td>False</td>\n",
       "      <td>False</td>\n",
       "      <td>False</td>\n",
       "      <td>False</td>\n",
       "      <td>False</td>\n",
       "      <td>False</td>\n",
       "      <td>False</td>\n",
       "    </tr>\n",
       "  </tbody>\n",
       "</table>\n",
       "</div>"
      ],
      "text/plain": [
       "       annee     id  latitude  longitude     cp    pop  ouverture_debut  \\\n",
       "80571  False  False     False      False  False  False            False   \n",
       "\n",
       "       ouverture_fin  ouverture_saufjour  adresse  ville  rupture_id  \\\n",
       "80571          False               False    False  False       False   \n",
       "\n",
       "       rupture_nom  rupture_debut  rupture_fin  fermeture_type  \\\n",
       "80571        False          False        False           False   \n",
       "\n",
       "       fermeture_debut  fermeture_fin  \n",
       "80571            False          False  "
      ]
     },
     "execution_count": 126,
     "metadata": {},
     "output_type": "execute_result"
    }
   ],
   "source": [
    "pdv.loc[pdv.cp==\"35***\"] == \"35000\""
   ]
  },
  {
   "cell_type": "code",
   "execution_count": 11,
   "metadata": {},
   "outputs": [
    {
     "ename": "ModuleNotFoundError",
     "evalue": "No module named 'geopy'",
     "output_type": "error",
     "traceback": [
      "\u001b[0;31m---------------------------------------------------------------------------\u001b[0m",
      "\u001b[0;31mModuleNotFoundError\u001b[0m                       Traceback (most recent call last)",
      "\u001b[0;32m<ipython-input-11-5f69d3e8449e>\u001b[0m in \u001b[0;36m<module>\u001b[0;34m\u001b[0m\n\u001b[0;32m----> 1\u001b[0;31m \u001b[0;32mfrom\u001b[0m \u001b[0mgeopy\u001b[0m\u001b[0;34m.\u001b[0m\u001b[0mgeocoders\u001b[0m \u001b[0;32mimport\u001b[0m \u001b[0mNominatim\u001b[0m\u001b[0;34m\u001b[0m\u001b[0;34m\u001b[0m\u001b[0m\n\u001b[0m",
      "\u001b[0;31mModuleNotFoundError\u001b[0m: No module named 'geopy'"
     ]
    }
   ],
   "source": [
    "from geopy.geocoders import Nominatim"
   ]
  },
  {
   "cell_type": "code",
   "execution_count": null,
   "metadata": {},
   "outputs": [],
   "source": [
    "geolocator = Nominatim(user_agent=\"nominatim.openstreetmap.org\")\n",
    "location = geolocator.reverse(\"46.201140,  5.197910\")\n",
    "print(location.raw)"
   ]
  },
  {
   "cell_type": "code",
   "execution_count": null,
   "metadata": {},
   "outputs": [],
   "source": [
    "!pip install pgeocode"
   ]
  },
  {
   "cell_type": "code",
   "execution_count": 12,
   "metadata": {},
   "outputs": [
    {
     "ename": "ModuleNotFoundError",
     "evalue": "No module named 'pgeocode'",
     "output_type": "error",
     "traceback": [
      "\u001b[0;31m---------------------------------------------------------------------------\u001b[0m",
      "\u001b[0;31mModuleNotFoundError\u001b[0m                       Traceback (most recent call last)",
      "\u001b[0;32m<ipython-input-12-14e76cf7e5d5>\u001b[0m in \u001b[0;36m<module>\u001b[0;34m\u001b[0m\n\u001b[0;32m----> 1\u001b[0;31m \u001b[0;32mimport\u001b[0m \u001b[0mpgeocode\u001b[0m\u001b[0;34m\u001b[0m\u001b[0;34m\u001b[0m\u001b[0m\n\u001b[0m\u001b[1;32m      2\u001b[0m \u001b[0mnomi\u001b[0m \u001b[0;34m=\u001b[0m \u001b[0mpgeocode\u001b[0m\u001b[0;34m.\u001b[0m\u001b[0mNominatim\u001b[0m\u001b[0;34m(\u001b[0m\u001b[0;34m'fr'\u001b[0m\u001b[0;34m)\u001b[0m\u001b[0;34m\u001b[0m\u001b[0;34m\u001b[0m\u001b[0m\n\u001b[1;32m      3\u001b[0m \u001b[0mnomi\u001b[0m\u001b[0;34m.\u001b[0m\u001b[0mquery_postal_code\u001b[0m\u001b[0;34m(\u001b[0m\u001b[0;34m\"75013\"\u001b[0m\u001b[0;34m)\u001b[0m\u001b[0;34m\u001b[0m\u001b[0;34m\u001b[0m\u001b[0m\n",
      "\u001b[0;31mModuleNotFoundError\u001b[0m: No module named 'pgeocode'"
     ]
    }
   ],
   "source": [
    "import pgeocode\n",
    "nomi = pgeocode.Nominatim('fr')\n",
    "nomi.query_postal_code(\"75013\")"
   ]
  },
  {
   "cell_type": "code",
   "execution_count": 127,
   "metadata": {},
   "outputs": [
    {
     "data": {
      "text/html": [
       "<div>\n",
       "<style scoped>\n",
       "    .dataframe tbody tr th:only-of-type {\n",
       "        vertical-align: middle;\n",
       "    }\n",
       "\n",
       "    .dataframe tbody tr th {\n",
       "        vertical-align: top;\n",
       "    }\n",
       "\n",
       "    .dataframe thead th {\n",
       "        text-align: right;\n",
       "    }\n",
       "</style>\n",
       "<table border=\"1\" class=\"dataframe\">\n",
       "  <thead>\n",
       "    <tr style=\"text-align: right;\">\n",
       "      <th></th>\n",
       "      <th>annee</th>\n",
       "      <th>id</th>\n",
       "      <th>latitude</th>\n",
       "      <th>longitude</th>\n",
       "      <th>cp</th>\n",
       "      <th>pop</th>\n",
       "      <th>ouverture_debut</th>\n",
       "      <th>ouverture_fin</th>\n",
       "      <th>ouverture_saufjour</th>\n",
       "      <th>adresse</th>\n",
       "      <th>ville</th>\n",
       "      <th>rupture_id</th>\n",
       "      <th>rupture_nom</th>\n",
       "      <th>rupture_debut</th>\n",
       "      <th>rupture_fin</th>\n",
       "      <th>fermeture_type</th>\n",
       "      <th>fermeture_debut</th>\n",
       "      <th>fermeture_fin</th>\n",
       "    </tr>\n",
       "  </thead>\n",
       "  <tbody>\n",
       "    <tr>\n",
       "      <th>5865</th>\n",
       "      <td>2019</td>\n",
       "      <td>48190001</td>\n",
       "      <td>4448600.000</td>\n",
       "      <td>373500.000</td>\n",
       "      <td>48190</td>\n",
       "      <td>R</td>\n",
       "      <td>NaN</td>\n",
       "      <td>NaN</td>\n",
       "      <td>NaN</td>\n",
       "      <td>le bleymard</td>\n",
       "      <td>NaN</td>\n",
       "      <td>4</td>\n",
       "      <td>GPLc</td>\n",
       "      <td>2018-03-05T09:41:34</td>\n",
       "      <td>NaN</td>\n",
       "      <td>T</td>\n",
       "      <td>2010-10-26T00:00:00</td>\n",
       "      <td>NaN</td>\n",
       "    </tr>\n",
       "    <tr>\n",
       "      <th>29224</th>\n",
       "      <td>2018</td>\n",
       "      <td>48190001</td>\n",
       "      <td>4448600.000</td>\n",
       "      <td>373500.000</td>\n",
       "      <td>48190</td>\n",
       "      <td>R</td>\n",
       "      <td>01:00</td>\n",
       "      <td>01:00</td>\n",
       "      <td>NaN</td>\n",
       "      <td>le bleymard</td>\n",
       "      <td>NaN</td>\n",
       "      <td>5</td>\n",
       "      <td>E10</td>\n",
       "      <td>2018-03-05T09:41:34</td>\n",
       "      <td>NaN</td>\n",
       "      <td>D</td>\n",
       "      <td>2018-09-12T00:00:00</td>\n",
       "      <td>NaN</td>\n",
       "    </tr>\n",
       "    <tr>\n",
       "      <th>41563</th>\n",
       "      <td>2017</td>\n",
       "      <td>48190001</td>\n",
       "      <td>3.735</td>\n",
       "      <td>44.486</td>\n",
       "      <td>48190</td>\n",
       "      <td>R</td>\n",
       "      <td>01:00:00</td>\n",
       "      <td>01:00:00</td>\n",
       "      <td>NaN</td>\n",
       "      <td>le bleymard</td>\n",
       "      <td>NaN</td>\n",
       "      <td>2</td>\n",
       "      <td>SP95</td>\n",
       "      <td>2013-06-30T00:00:00</td>\n",
       "      <td>2017-10-13T18:35:08</td>\n",
       "      <td>D</td>\n",
       "      <td>2017-12-05T00:00:00</td>\n",
       "      <td>NaN</td>\n",
       "    </tr>\n",
       "  </tbody>\n",
       "</table>\n",
       "</div>"
      ],
      "text/plain": [
       "       annee        id     latitude   longitude     cp pop ouverture_debut  \\\n",
       "5865    2019  48190001  4448600.000  373500.000  48190   R             NaN   \n",
       "29224   2018  48190001  4448600.000  373500.000  48190   R           01:00   \n",
       "41563   2017  48190001        3.735      44.486  48190   R        01:00:00   \n",
       "\n",
       "      ouverture_fin ouverture_saufjour      adresse ville  rupture_id  \\\n",
       "5865            NaN                NaN  le bleymard   NaN           4   \n",
       "29224         01:00                NaN  le bleymard   NaN           5   \n",
       "41563      01:00:00                NaN  le bleymard   NaN           2   \n",
       "\n",
       "      rupture_nom        rupture_debut          rupture_fin fermeture_type  \\\n",
       "5865         GPLc  2018-03-05T09:41:34                  NaN              T   \n",
       "29224         E10  2018-03-05T09:41:34                  NaN              D   \n",
       "41563        SP95  2013-06-30T00:00:00  2017-10-13T18:35:08              D   \n",
       "\n",
       "           fermeture_debut fermeture_fin  \n",
       "5865   2010-10-26T00:00:00           NaN  \n",
       "29224  2018-09-12T00:00:00           NaN  \n",
       "41563  2017-12-05T00:00:00           NaN  "
      ]
     },
     "execution_count": 127,
     "metadata": {},
     "output_type": "execute_result"
    }
   ],
   "source": [
    "pdv.loc[(pdv.adresse == ad) & (pdv.ville.isna())]"
   ]
  },
  {
   "cell_type": "code",
   "execution_count": 128,
   "metadata": {},
   "outputs": [
    {
     "data": {
      "text/plain": [
       "annee                  0\n",
       "id                     0\n",
       "latitude            1006\n",
       "longitude            984\n",
       "cp                     0\n",
       "                   ...  \n",
       "rupture_debut          0\n",
       "rupture_fin        92699\n",
       "fermeture_type        43\n",
       "fermeture_debut       43\n",
       "fermeture_fin      96861\n",
       "Length: 18, dtype: int64"
      ]
     },
     "execution_count": 128,
     "metadata": {},
     "output_type": "execute_result"
    }
   ],
   "source": [
    "pdv.isna().sum()"
   ]
  },
  {
   "cell_type": "code",
   "execution_count": 15,
   "metadata": {},
   "outputs": [],
   "source": [
    "# normalisation des longitudes et latitude \n",
    "pdv.loc[:,'latitude']   = pdv.latitude/100000\n",
    "pdv.loc[:, 'longitude'] = pdv.longitude/100000"
   ]
  },
  {
   "cell_type": "code",
   "execution_count": null,
   "metadata": {},
   "outputs": [],
   "source": []
  },
  {
   "cell_type": "code",
   "execution_count": 32,
   "metadata": {},
   "outputs": [
    {
     "name": "stdout",
     "output_type": "stream",
     "text": [
      "<class 'pandas.core.frame.DataFrame'>\n",
      "RangeIndex: 136712 entries, 0 to 136711\n",
      "Data columns (total 18 columns):\n",
      "annee                 136712 non-null int64\n",
      "id                    136712 non-null int64\n",
      "latitude              135706 non-null float64\n",
      "longitude             135728 non-null float64\n",
      "cp                    136712 non-null object\n",
      "pop                   136712 non-null object\n",
      "ouverture_debut       124114 non-null object\n",
      "ouverture_fin         124114 non-null object\n",
      "ouverture_saufjour    21174 non-null object\n",
      "adresse               136712 non-null object\n",
      "ville                 136709 non-null object\n",
      "rupture_id            136712 non-null int64\n",
      "rupture_nom           136712 non-null object\n",
      "rupture_debut         136712 non-null object\n",
      "rupture_fin           44013 non-null object\n",
      "fermeture_type        136669 non-null object\n",
      "fermeture_debut       136669 non-null object\n",
      "fermeture_fin         39851 non-null object\n",
      "dtypes: float64(2), int64(3), object(13)\n",
      "memory usage: 18.8+ MB\n"
     ]
    }
   ],
   "source": [
    "pdv.info()"
   ]
  },
  {
   "cell_type": "markdown",
   "metadata": {},
   "source": [
    "- **convertion des categories**"
   ]
  },
  {
   "cell_type": "code",
   "execution_count": 17,
   "metadata": {},
   "outputs": [
    {
     "name": "stdout",
     "output_type": "stream",
     "text": [
      "col_name                            n               n_distinct     ratio\n",
      "annee                              136712                   13    10516%\n",
      "id                                 136712                16811        8%\n",
      "latitude                           136712                19704        7%\n",
      "longitude                          136712                19974        7%\n",
      "cp                                 136712                 4467       31%\n",
      "pop                                136712                    4    34178%\n",
      "ouverture_debut                    136712                  765      179%\n",
      "ouverture_fin                      136712                  880      155%\n",
      "ouverture_saufjour                 136712                   31     4410%\n",
      "adresse                            136712                13901       10%\n",
      "ville                              136712                 9171       15%\n",
      "rupture_id                         136712                    6    22785%\n",
      "rupture_nom                        136712                    6    22785%\n",
      "rupture_debut                      136712                33087        4%\n",
      "rupture_fin                        136712                10248       13%\n",
      "fermeture_type                     136712                    3    45571%\n",
      "fermeture_debut                    136712                 3304       41%\n",
      "fermeture_fin                      136712                  806      170%\n"
     ]
    }
   ],
   "source": [
    "findLargeCols(pdv)"
   ]
  },
  {
   "cell_type": "markdown",
   "metadata": {},
   "source": [
    "les columns **'annee','pop','ouverture_saufjour','rupture_id','rupture_nom','fermeture_type'** mieux vaut les considérer des categories"
   ]
  },
  {
   "cell_type": "code",
   "execution_count": 18,
   "metadata": {},
   "outputs": [],
   "source": [
    "pdv['annee']              = pdv['annee'].astype('category')\n",
    "pdv['pop']                = pdv['pop'].astype('category')\n",
    "pdv['ouverture_saufjour'] = pdv['ouverture_saufjour'].astype('category')\n",
    "pdv['rupture_id']         = pdv['rupture_id'].astype('category')\n",
    "pdv['rupture_nom']        = pdv['rupture_nom'].astype('category')\n",
    "pdv['fermeture_type']     = pdv['fermeture_type'].astype('category')\n"
   ]
  },
  {
   "cell_type": "markdown",
   "metadata": {},
   "source": [
    "- **convertion des dates et temps**"
   ]
  },
  {
   "cell_type": "code",
   "execution_count": 129,
   "metadata": {},
   "outputs": [],
   "source": [
    "mask = pdv['ouverture_debut'].str.len() == 5\n",
    "pdv.loc[mask,'ouverture_debut'] = pdv.loc[mask,'ouverture_debut'] + \":00\""
   ]
  },
  {
   "cell_type": "code",
   "execution_count": 134,
   "metadata": {},
   "outputs": [],
   "source": [
    "mask = pdv['ouverture_fin'].str.len() == 5\n",
    "pdv.loc[mask,'ouverture_fin'] = pdv.loc[mask,'ouverture_fin'] + \":00\""
   ]
  },
  {
   "cell_type": "code",
   "execution_count": 76,
   "metadata": {},
   "outputs": [],
   "source": [
    "mask = pdv['rupture_debut'].str[:4] == \"0216\"\n",
    "pdv.loc[mask,'rupture_debut'] = \"2016\" + pdv[mask]['rupture_debut'].str[4:]"
   ]
  },
  {
   "cell_type": "code",
   "execution_count": 77,
   "metadata": {},
   "outputs": [
    {
     "data": {
      "text/plain": [
       "Series([], Name: rupture_debut, dtype: object)"
      ]
     },
     "execution_count": 77,
     "metadata": {},
     "output_type": "execute_result"
    }
   ],
   "source": [
    "mask = pdv['rupture_debut'].str[:4] == \"0216\"\n",
    "pdv[mask]['rupture_debut']"
   ]
  },
  {
   "cell_type": "code",
   "execution_count": 135,
   "metadata": {},
   "outputs": [],
   "source": [
    "pdv['ouverture_debut'] = pd.to_timedelta((pdv['ouverture_debut']))\n",
    "pdv['ouverture_fin']   = pd.to_timedelta((pdv['ouverture_fin']))"
   ]
  },
  {
   "cell_type": "code",
   "execution_count": 140,
   "metadata": {},
   "outputs": [
    {
     "data": {
      "text/plain": [
       "(Timedelta('0 days 06:00:43'), Timedelta('0 days 21:00:43'))"
      ]
     },
     "execution_count": 140,
     "metadata": {},
     "output_type": "execute_result"
    }
   ],
   "source": [
    "pdv['ouverture_debut'][136707] , pdv['ouverture_fin'][136707]"
   ]
  },
  {
   "cell_type": "code",
   "execution_count": 143,
   "metadata": {},
   "outputs": [
    {
     "data": {
      "text/plain": [
       "Timedelta('0 days 15:00:00')"
      ]
     },
     "execution_count": 143,
     "metadata": {},
     "output_type": "execute_result"
    }
   ],
   "source": [
    "pdv['ouverture_fin'][136707] - pdv['ouverture_debut'][136707]"
   ]
  },
  {
   "cell_type": "code",
   "execution_count": 136,
   "metadata": {},
   "outputs": [
    {
     "name": "stdout",
     "output_type": "stream",
     "text": [
      "<class 'pandas.core.frame.DataFrame'>\n",
      "RangeIndex: 136712 entries, 0 to 136711\n",
      "Data columns (total 18 columns):\n",
      "annee                 136712 non-null int64\n",
      "id                    136712 non-null int64\n",
      "latitude              135706 non-null float64\n",
      "longitude             135728 non-null float64\n",
      "cp                    136712 non-null object\n",
      "pop                   136712 non-null object\n",
      "ouverture_debut       124114 non-null timedelta64[ns]\n",
      "ouverture_fin         124114 non-null timedelta64[ns]\n",
      "ouverture_saufjour    21174 non-null object\n",
      "adresse               136712 non-null object\n",
      "ville                 136709 non-null object\n",
      "rupture_id            136712 non-null int64\n",
      "rupture_nom           136712 non-null object\n",
      "rupture_debut         136712 non-null object\n",
      "rupture_fin           44013 non-null object\n",
      "fermeture_type        136669 non-null object\n",
      "fermeture_debut       136669 non-null object\n",
      "fermeture_fin         39851 non-null object\n",
      "dtypes: float64(2), int64(3), object(11), timedelta64[ns](2)\n",
      "memory usage: 18.8+ MB\n"
     ]
    }
   ],
   "source": [
    "pdv.info()"
   ]
  },
  {
   "cell_type": "code",
   "execution_count": 22,
   "metadata": {},
   "outputs": [],
   "source": [
    "pdv['rupture_debut']   = pd.to_datetime(pdv['rupture_debut'])\n",
    "pdv['rupture_fin']     = pd.to_datetime(pdv['rupture_fin'])\n",
    "pdv['fermeture_debut'] = pd.to_datetime(pdv['fermeture_debut'])\n",
    "pdv['fermeture_fin']   = pd.to_datetime(pdv['fermeture_fin'])"
   ]
  },
  {
   "cell_type": "code",
   "execution_count": 23,
   "metadata": {},
   "outputs": [
    {
     "name": "stdout",
     "output_type": "stream",
     "text": [
      "<class 'pandas.core.frame.DataFrame'>\n",
      "RangeIndex: 136712 entries, 0 to 136711\n",
      "Data columns (total 18 columns):\n",
      "annee                 136712 non-null category\n",
      "id                    136712 non-null int64\n",
      "latitude              135706 non-null float64\n",
      "longitude             135728 non-null float64\n",
      "cp                    136712 non-null object\n",
      "pop                   136712 non-null category\n",
      "ouverture_debut       124114 non-null timedelta64[ns]\n",
      "ouverture_fin         124114 non-null timedelta64[ns]\n",
      "ouverture_saufjour    136712 non-null category\n",
      "adresse               136712 non-null object\n",
      "ville                 136709 non-null object\n",
      "rupture_id            136712 non-null category\n",
      "rupture_nom           136712 non-null category\n",
      "rupture_debut         136712 non-null datetime64[ns]\n",
      "rupture_fin           44013 non-null datetime64[ns]\n",
      "fermeture_type        136669 non-null category\n",
      "fermeture_debut       136669 non-null datetime64[ns]\n",
      "fermeture_fin         39851 non-null datetime64[ns]\n",
      "dtypes: category(6), datetime64[ns](4), float64(2), int64(1), object(3), timedelta64[ns](2)\n",
      "memory usage: 13.3+ MB\n"
     ]
    }
   ],
   "source": [
    "pdv.info()"
   ]
  },
  {
   "cell_type": "code",
   "execution_count": 98,
   "metadata": {},
   "outputs": [
    {
     "data": {
      "text/html": [
       "<div>\n",
       "<style scoped>\n",
       "    .dataframe tbody tr th:only-of-type {\n",
       "        vertical-align: middle;\n",
       "    }\n",
       "\n",
       "    .dataframe tbody tr th {\n",
       "        vertical-align: top;\n",
       "    }\n",
       "\n",
       "    .dataframe thead th {\n",
       "        text-align: right;\n",
       "    }\n",
       "</style>\n",
       "<table border=\"1\" class=\"dataframe\">\n",
       "  <thead>\n",
       "    <tr style=\"text-align: right;\">\n",
       "      <th></th>\n",
       "      <th>annee</th>\n",
       "      <th>id</th>\n",
       "      <th>latitude</th>\n",
       "      <th>longitude</th>\n",
       "      <th>cp</th>\n",
       "      <th>pop</th>\n",
       "      <th>ouverture_debut</th>\n",
       "      <th>ouverture_fin</th>\n",
       "      <th>ouverture_saufjour</th>\n",
       "      <th>adresse</th>\n",
       "      <th>ville</th>\n",
       "      <th>rupture_id</th>\n",
       "      <th>rupture_nom</th>\n",
       "      <th>rupture_debut</th>\n",
       "      <th>rupture_fin</th>\n",
       "      <th>fermeture_type</th>\n",
       "      <th>fermeture_debut</th>\n",
       "      <th>fermeture_fin</th>\n",
       "    </tr>\n",
       "  </thead>\n",
       "  <tbody>\n",
       "    <tr>\n",
       "      <th>0</th>\n",
       "      <td>2007</td>\n",
       "      <td>1000001</td>\n",
       "      <td>4.620114e+06</td>\n",
       "      <td>519791.000000</td>\n",
       "      <td>01000</td>\n",
       "      <td>R</td>\n",
       "      <td>01:00:00</td>\n",
       "      <td>01:00:00</td>\n",
       "      <td>NaN</td>\n",
       "      <td>ROUTE NATIONALE</td>\n",
       "      <td>S-BOURG</td>\n",
       "      <td>NaN</td>\n",
       "      <td>NaN</td>\n",
       "      <td>NaN</td>\n",
       "      <td>NaN</td>\n",
       "      <td>NaN</td>\n",
       "      <td>NaN</td>\n",
       "      <td>NaN</td>\n",
       "    </tr>\n",
       "    <tr>\n",
       "      <th>1</th>\n",
       "      <td>2007</td>\n",
       "      <td>1000002</td>\n",
       "      <td>4.621842e+06</td>\n",
       "      <td>522767.000000</td>\n",
       "      <td>01000</td>\n",
       "      <td>R</td>\n",
       "      <td>08:45:00</td>\n",
       "      <td>19:30:00</td>\n",
       "      <td>Dimanche</td>\n",
       "      <td>16 Avenue de Marboz</td>\n",
       "      <td>BOURG-EN-BRESSE</td>\n",
       "      <td>NaN</td>\n",
       "      <td>NaN</td>\n",
       "      <td>NaN</td>\n",
       "      <td>NaN</td>\n",
       "      <td>NaN</td>\n",
       "      <td>NaN</td>\n",
       "      <td>NaN</td>\n",
       "    </tr>\n",
       "    <tr>\n",
       "      <th>2</th>\n",
       "      <td>2007</td>\n",
       "      <td>1000003</td>\n",
       "      <td>4.619965e+06</td>\n",
       "      <td>524047.000000</td>\n",
       "      <td>01000</td>\n",
       "      <td>R</td>\n",
       "      <td>16:00:00</td>\n",
       "      <td>20:00:00</td>\n",
       "      <td>Samedi;Dimanche</td>\n",
       "      <td>Bld Charles De Gaulle</td>\n",
       "      <td>Bourg-en-Bresse</td>\n",
       "      <td>NaN</td>\n",
       "      <td>NaN</td>\n",
       "      <td>NaN</td>\n",
       "      <td>NaN</td>\n",
       "      <td>D</td>\n",
       "      <td>2007-10-30 09:47:04.590533</td>\n",
       "      <td>NaN</td>\n",
       "    </tr>\n",
       "    <tr>\n",
       "      <th>3</th>\n",
       "      <td>2007</td>\n",
       "      <td>1000004</td>\n",
       "      <td>4.618836e+06</td>\n",
       "      <td>524447.000000</td>\n",
       "      <td>01000</td>\n",
       "      <td>R</td>\n",
       "      <td>01:00:00</td>\n",
       "      <td>01:00:00</td>\n",
       "      <td>NaN</td>\n",
       "      <td>chal Juin</td>\n",
       "      <td>Bourg-en-Bresse</td>\n",
       "      <td>NaN</td>\n",
       "      <td>NaN</td>\n",
       "      <td>NaN</td>\n",
       "      <td>NaN</td>\n",
       "      <td>D</td>\n",
       "      <td>2007-10-30 09:47:04.590533</td>\n",
       "      <td>NaN</td>\n",
       "    </tr>\n",
       "    <tr>\n",
       "      <th>4</th>\n",
       "      <td>2007</td>\n",
       "      <td>1000006</td>\n",
       "      <td>4.620754e+06</td>\n",
       "      <td>523758.000000</td>\n",
       "      <td>01000</td>\n",
       "      <td>R</td>\n",
       "      <td>01:00:00</td>\n",
       "      <td>01:00:00</td>\n",
       "      <td>Dimanche</td>\n",
       "      <td>1 Boulevard John Kennedy</td>\n",
       "      <td>BOURG-EN-BRESSE</td>\n",
       "      <td>NaN</td>\n",
       "      <td>NaN</td>\n",
       "      <td>NaN</td>\n",
       "      <td>NaN</td>\n",
       "      <td>D</td>\n",
       "      <td>2007-10-30 09:47:04.590533</td>\n",
       "      <td>NaN</td>\n",
       "    </tr>\n",
       "    <tr>\n",
       "      <th>...</th>\n",
       "      <td>...</td>\n",
       "      <td>...</td>\n",
       "      <td>...</td>\n",
       "      <td>...</td>\n",
       "      <td>...</td>\n",
       "      <td>...</td>\n",
       "      <td>...</td>\n",
       "      <td>...</td>\n",
       "      <td>...</td>\n",
       "      <td>...</td>\n",
       "      <td>...</td>\n",
       "      <td>...</td>\n",
       "      <td>...</td>\n",
       "      <td>...</td>\n",
       "      <td>...</td>\n",
       "      <td>...</td>\n",
       "      <td>...</td>\n",
       "      <td>...</td>\n",
       "    </tr>\n",
       "    <tr>\n",
       "      <th>140719</th>\n",
       "      <td>2017</td>\n",
       "      <td>95870005</td>\n",
       "      <td>4.893676e+06</td>\n",
       "      <td>220715.000000</td>\n",
       "      <td>95870</td>\n",
       "      <td>R</td>\n",
       "      <td>06:00:43</td>\n",
       "      <td>21:00:43</td>\n",
       "      <td>NaN</td>\n",
       "      <td>ri</td>\n",
       "      <td>BEZONS</td>\n",
       "      <td>2.0</td>\n",
       "      <td>SP95</td>\n",
       "      <td>2013-03-20T16:58:00</td>\n",
       "      <td>NaN</td>\n",
       "      <td>D</td>\n",
       "      <td>2017-12-19T00:00:00</td>\n",
       "      <td>NaN</td>\n",
       "    </tr>\n",
       "    <tr>\n",
       "      <th>140720</th>\n",
       "      <td>2017</td>\n",
       "      <td>95870007</td>\n",
       "      <td>4.892824e+06</td>\n",
       "      <td>221140.000000</td>\n",
       "      <td>95870</td>\n",
       "      <td>R</td>\n",
       "      <td>06:00:01</td>\n",
       "      <td>21:00:01</td>\n",
       "      <td>NaN</td>\n",
       "      <td>ri</td>\n",
       "      <td>BEZONS</td>\n",
       "      <td>2.0</td>\n",
       "      <td>SP95</td>\n",
       "      <td>2011-08-31T22:43:00</td>\n",
       "      <td>NaN</td>\n",
       "      <td>D</td>\n",
       "      <td>2017-12-19T00:00:00</td>\n",
       "      <td>NaN</td>\n",
       "    </tr>\n",
       "    <tr>\n",
       "      <th>140721</th>\n",
       "      <td>2017</td>\n",
       "      <td>95870009</td>\n",
       "      <td>4.892770e+06</td>\n",
       "      <td>221346.318047</td>\n",
       "      <td>95870</td>\n",
       "      <td>R</td>\n",
       "      <td>06:00:00</td>\n",
       "      <td>21:30:00</td>\n",
       "      <td>NaN</td>\n",
       "      <td>151 AV GABRIEL PERI</td>\n",
       "      <td>BEZONS</td>\n",
       "      <td>2.0</td>\n",
       "      <td>SP95</td>\n",
       "      <td>2011-08-31T22:43:00</td>\n",
       "      <td>NaN</td>\n",
       "      <td>D</td>\n",
       "      <td>2017-12-19T00:00:00</td>\n",
       "      <td>NaN</td>\n",
       "    </tr>\n",
       "    <tr>\n",
       "      <th>140722</th>\n",
       "      <td>2017</td>\n",
       "      <td>96600001</td>\n",
       "      <td>4.875637e+06</td>\n",
       "      <td>241048.000000</td>\n",
       "      <td>94600</td>\n",
       "      <td>R</td>\n",
       "      <td>07:30:27</td>\n",
       "      <td>20:30:27</td>\n",
       "      <td>Dimanche</td>\n",
       "      <td>16 Avenue de Newburn</td>\n",
       "      <td>Choisy-le-Roi</td>\n",
       "      <td>5.0</td>\n",
       "      <td>E10</td>\n",
       "      <td>2009-12-11T21:53:00</td>\n",
       "      <td>NaN</td>\n",
       "      <td>D</td>\n",
       "      <td>2017-12-19T00:00:00</td>\n",
       "      <td>NaN</td>\n",
       "    </tr>\n",
       "    <tr>\n",
       "      <th>140723</th>\n",
       "      <td>2017</td>\n",
       "      <td>99999001</td>\n",
       "      <td>4.853943e+06</td>\n",
       "      <td>749812.000000</td>\n",
       "      <td>99999</td>\n",
       "      <td>R</td>\n",
       "      <td>01:00:00</td>\n",
       "      <td>01:00:00</td>\n",
       "      <td>NaN</td>\n",
       "      <td>rue victor hugo</td>\n",
       "      <td>Paris</td>\n",
       "      <td>2.0</td>\n",
       "      <td>SP95</td>\n",
       "      <td>2014-01-12T00:00:00</td>\n",
       "      <td>NaN</td>\n",
       "      <td>T</td>\n",
       "      <td>2015-11-12T00:00:00</td>\n",
       "      <td>2017-08-30T00:00:00</td>\n",
       "    </tr>\n",
       "  </tbody>\n",
       "</table>\n",
       "<p>140724 rows × 18 columns</p>\n",
       "</div>"
      ],
      "text/plain": [
       "       annee        id      latitude      longitude     cp pop  \\\n",
       "0       2007   1000001  4.620114e+06  519791.000000  01000   R   \n",
       "1       2007   1000002  4.621842e+06  522767.000000  01000   R   \n",
       "2       2007   1000003  4.619965e+06  524047.000000  01000   R   \n",
       "3       2007   1000004  4.618836e+06  524447.000000  01000   R   \n",
       "4       2007   1000006  4.620754e+06  523758.000000  01000   R   \n",
       "...      ...       ...           ...            ...    ...  ..   \n",
       "140719  2017  95870005  4.893676e+06  220715.000000  95870   R   \n",
       "140720  2017  95870007  4.892824e+06  221140.000000  95870   R   \n",
       "140721  2017  95870009  4.892770e+06  221346.318047  95870   R   \n",
       "140722  2017  96600001  4.875637e+06  241048.000000  94600   R   \n",
       "140723  2017  99999001  4.853943e+06  749812.000000  99999   R   \n",
       "\n",
       "       ouverture_debut ouverture_fin ouverture_saufjour  \\\n",
       "0             01:00:00      01:00:00                NaN   \n",
       "1             08:45:00      19:30:00           Dimanche   \n",
       "2             16:00:00      20:00:00    Samedi;Dimanche   \n",
       "3             01:00:00      01:00:00                NaN   \n",
       "4             01:00:00      01:00:00           Dimanche   \n",
       "...                ...           ...                ...   \n",
       "140719        06:00:43      21:00:43                NaN   \n",
       "140720        06:00:01      21:00:01                NaN   \n",
       "140721        06:00:00      21:30:00                NaN   \n",
       "140722        07:30:27      20:30:27           Dimanche   \n",
       "140723        01:00:00      01:00:00                NaN   \n",
       "\n",
       "                         adresse            ville rupture_id rupture_nom  \\\n",
       "0                ROUTE NATIONALE          S-BOURG        NaN         NaN   \n",
       "1            16 Avenue de Marboz  BOURG-EN-BRESSE        NaN         NaN   \n",
       "2          Bld Charles De Gaulle  Bourg-en-Bresse        NaN         NaN   \n",
       "3                      chal Juin  Bourg-en-Bresse        NaN         NaN   \n",
       "4       1 Boulevard John Kennedy  BOURG-EN-BRESSE        NaN         NaN   \n",
       "...                          ...              ...        ...         ...   \n",
       "140719                        ri           BEZONS        2.0        SP95   \n",
       "140720                        ri           BEZONS        2.0        SP95   \n",
       "140721       151 AV GABRIEL PERI           BEZONS        2.0        SP95   \n",
       "140722      16 Avenue de Newburn    Choisy-le-Roi        5.0         E10   \n",
       "140723           rue victor hugo            Paris        2.0        SP95   \n",
       "\n",
       "              rupture_debut rupture_fin fermeture_type  \\\n",
       "0                       NaN         NaN            NaN   \n",
       "1                       NaN         NaN            NaN   \n",
       "2                       NaN         NaN              D   \n",
       "3                       NaN         NaN              D   \n",
       "4                       NaN         NaN              D   \n",
       "...                     ...         ...            ...   \n",
       "140719  2013-03-20T16:58:00         NaN              D   \n",
       "140720  2011-08-31T22:43:00         NaN              D   \n",
       "140721  2011-08-31T22:43:00         NaN              D   \n",
       "140722  2009-12-11T21:53:00         NaN              D   \n",
       "140723  2014-01-12T00:00:00         NaN              T   \n",
       "\n",
       "                   fermeture_debut        fermeture_fin  \n",
       "0                              NaN                  NaN  \n",
       "1                              NaN                  NaN  \n",
       "2       2007-10-30 09:47:04.590533                  NaN  \n",
       "3       2007-10-30 09:47:04.590533                  NaN  \n",
       "4       2007-10-30 09:47:04.590533                  NaN  \n",
       "...                            ...                  ...  \n",
       "140719         2017-12-19T00:00:00                  NaN  \n",
       "140720         2017-12-19T00:00:00                  NaN  \n",
       "140721         2017-12-19T00:00:00                  NaN  \n",
       "140722         2017-12-19T00:00:00                  NaN  \n",
       "140723         2015-11-12T00:00:00  2017-08-30T00:00:00  \n",
       "\n",
       "[140724 rows x 18 columns]"
      ]
     },
     "execution_count": 98,
     "metadata": {},
     "output_type": "execute_result"
    }
   ],
   "source": [
    "pdv"
   ]
  },
  {
   "cell_type": "markdown",
   "metadata": {},
   "source": [
    "- **enregistrer la df compréssée**"
   ]
  },
  {
   "cell_type": "code",
   "execution_count": 15,
   "metadata": {},
   "outputs": [],
   "source": [
    "pdv.to_parquet('pdv.gzip', \n",
    "               compression='gzip')"
   ]
  },
  {
   "cell_type": "markdown",
   "metadata": {},
   "source": [
    "- **liberer la mémoire**"
   ]
  },
  {
   "cell_type": "code",
   "execution_count": 144,
   "metadata": {},
   "outputs": [],
   "source": [
    "del pdv"
   ]
  },
  {
   "cell_type": "markdown",
   "metadata": {},
   "source": [
    "### netoyage de **prix**"
   ]
  },
  {
   "cell_type": "code",
   "execution_count": null,
   "metadata": {},
   "outputs": [],
   "source": [
    "prix = pd.read_csv('prix.csv', low_memory=False)"
   ]
  },
  {
   "cell_type": "code",
   "execution_count": 18,
   "metadata": {},
   "outputs": [
    {
     "data": {
      "text/html": [
       "<div>\n",
       "<style scoped>\n",
       "    .dataframe tbody tr th:only-of-type {\n",
       "        vertical-align: middle;\n",
       "    }\n",
       "\n",
       "    .dataframe tbody tr th {\n",
       "        vertical-align: top;\n",
       "    }\n",
       "\n",
       "    .dataframe thead th {\n",
       "        text-align: right;\n",
       "    }\n",
       "</style>\n",
       "<table border=\"1\" class=\"dataframe\">\n",
       "  <thead>\n",
       "    <tr style=\"text-align: right;\">\n",
       "      <th></th>\n",
       "      <th>annee</th>\n",
       "      <th>id_pdv</th>\n",
       "      <th>nom</th>\n",
       "      <th>id</th>\n",
       "      <th>maj</th>\n",
       "      <th>valeur</th>\n",
       "    </tr>\n",
       "  </thead>\n",
       "  <tbody>\n",
       "    <tr>\n",
       "      <th>0</th>\n",
       "      <td>2017</td>\n",
       "      <td>1000001</td>\n",
       "      <td>Gazole</td>\n",
       "      <td>1</td>\n",
       "      <td>2017-01-02T09:37:03</td>\n",
       "      <td>1258</td>\n",
       "    </tr>\n",
       "    <tr>\n",
       "      <th>1</th>\n",
       "      <td>2017</td>\n",
       "      <td>1000001</td>\n",
       "      <td>Gazole</td>\n",
       "      <td>1</td>\n",
       "      <td>2017-01-03T09:54:58</td>\n",
       "      <td>1258</td>\n",
       "    </tr>\n",
       "    <tr>\n",
       "      <th>2</th>\n",
       "      <td>2017</td>\n",
       "      <td>1000001</td>\n",
       "      <td>Gazole</td>\n",
       "      <td>1</td>\n",
       "      <td>2017-01-06T12:33:57</td>\n",
       "      <td>1258</td>\n",
       "    </tr>\n",
       "    <tr>\n",
       "      <th>3</th>\n",
       "      <td>2017</td>\n",
       "      <td>1000001</td>\n",
       "      <td>Gazole</td>\n",
       "      <td>1</td>\n",
       "      <td>2017-01-09T08:59:53</td>\n",
       "      <td>1258</td>\n",
       "    </tr>\n",
       "    <tr>\n",
       "      <th>4</th>\n",
       "      <td>2017</td>\n",
       "      <td>1000001</td>\n",
       "      <td>Gazole</td>\n",
       "      <td>1</td>\n",
       "      <td>2017-01-10T10:38:39</td>\n",
       "      <td>1258</td>\n",
       "    </tr>\n",
       "    <tr>\n",
       "      <th>...</th>\n",
       "      <td>...</td>\n",
       "      <td>...</td>\n",
       "      <td>...</td>\n",
       "      <td>...</td>\n",
       "      <td>...</td>\n",
       "      <td>...</td>\n",
       "    </tr>\n",
       "    <tr>\n",
       "      <th>28552949</th>\n",
       "      <td>2012</td>\n",
       "      <td>95870008</td>\n",
       "      <td>E10</td>\n",
       "      <td>5</td>\n",
       "      <td>2012-12-24 08:12:41.12514</td>\n",
       "      <td>1446</td>\n",
       "    </tr>\n",
       "    <tr>\n",
       "      <th>28552950</th>\n",
       "      <td>2012</td>\n",
       "      <td>95870008</td>\n",
       "      <td>E10</td>\n",
       "      <td>5</td>\n",
       "      <td>2012-12-26 09:59:50.402522</td>\n",
       "      <td>1453</td>\n",
       "    </tr>\n",
       "    <tr>\n",
       "      <th>28552951</th>\n",
       "      <td>2012</td>\n",
       "      <td>95870008</td>\n",
       "      <td>E10</td>\n",
       "      <td>5</td>\n",
       "      <td>2012-12-27 06:37:54.702091</td>\n",
       "      <td>1449</td>\n",
       "    </tr>\n",
       "    <tr>\n",
       "      <th>28552952</th>\n",
       "      <td>2012</td>\n",
       "      <td>95870008</td>\n",
       "      <td>E10</td>\n",
       "      <td>5</td>\n",
       "      <td>2012-12-28 10:30:37.417588</td>\n",
       "      <td>1448</td>\n",
       "    </tr>\n",
       "    <tr>\n",
       "      <th>28552953</th>\n",
       "      <td>2012</td>\n",
       "      <td>95870008</td>\n",
       "      <td>E10</td>\n",
       "      <td>5</td>\n",
       "      <td>2012-12-31 11:45:55.480437</td>\n",
       "      <td>1447</td>\n",
       "    </tr>\n",
       "  </tbody>\n",
       "</table>\n",
       "<p>28552954 rows × 6 columns</p>\n",
       "</div>"
      ],
      "text/plain": [
       "          annee    id_pdv     nom  id                         maj  valeur\n",
       "0          2017   1000001  Gazole   1         2017-01-02T09:37:03    1258\n",
       "1          2017   1000001  Gazole   1         2017-01-03T09:54:58    1258\n",
       "2          2017   1000001  Gazole   1         2017-01-06T12:33:57    1258\n",
       "3          2017   1000001  Gazole   1         2017-01-09T08:59:53    1258\n",
       "4          2017   1000001  Gazole   1         2017-01-10T10:38:39    1258\n",
       "...         ...       ...     ...  ..                         ...     ...\n",
       "28552949   2012  95870008     E10   5   2012-12-24 08:12:41.12514    1446\n",
       "28552950   2012  95870008     E10   5  2012-12-26 09:59:50.402522    1453\n",
       "28552951   2012  95870008     E10   5  2012-12-27 06:37:54.702091    1449\n",
       "28552952   2012  95870008     E10   5  2012-12-28 10:30:37.417588    1448\n",
       "28552953   2012  95870008     E10   5  2012-12-31 11:45:55.480437    1447\n",
       "\n",
       "[28552954 rows x 6 columns]"
      ]
     },
     "execution_count": 18,
     "metadata": {},
     "output_type": "execute_result"
    }
   ],
   "source": [
    "prix"
   ]
  },
  {
   "cell_type": "code",
   "execution_count": 19,
   "metadata": {},
   "outputs": [
    {
     "name": "stdout",
     "output_type": "stream",
     "text": [
      "<class 'pandas.core.frame.DataFrame'>\n",
      "RangeIndex: 28552954 entries, 0 to 28552953\n",
      "Data columns (total 6 columns):\n",
      "annee     int64\n",
      "id_pdv    int64\n",
      "nom       object\n",
      "id        int64\n",
      "maj       object\n",
      "valeur    int64\n",
      "dtypes: int64(4), object(2)\n",
      "memory usage: 1.3+ GB\n"
     ]
    }
   ],
   "source": [
    "prix.info()"
   ]
  },
  {
   "cell_type": "markdown",
   "metadata": {},
   "source": [
    "**la DataFrame prix est trés grande (1,3 GB).On peut diminuer sa taille en convertant des variables en Category.**"
   ]
  },
  {
   "cell_type": "markdown",
   "metadata": {},
   "source": [
    "- **convertion des categories**"
   ]
  },
  {
   "cell_type": "code",
   "execution_count": 20,
   "metadata": {},
   "outputs": [
    {
     "name": "stdout",
     "output_type": "stream",
     "text": [
      "col_name                            n               n_distinct     ratio\n",
      "annee                            28552954                   13  2196381%\n",
      "id_pdv                           28552954                12179     2344%\n",
      "nom                              28552954                    6  4758826%\n",
      "id                               28552954                    6  4758826%\n",
      "maj                              28552954             11299902        3%\n",
      "valeur                           28552954                 1943    14695%\n"
     ]
    }
   ],
   "source": [
    "findLargeCols(prix)"
   ]
  },
  {
   "cell_type": "markdown",
   "metadata": {},
   "source": [
    "les columns **'id_pdv','annee','nom','id'** mieux vaut les considérer des categories. on laisse **'valeur'** en **int**"
   ]
  },
  {
   "cell_type": "code",
   "execution_count": 21,
   "metadata": {},
   "outputs": [],
   "source": [
    "prix[\"id_pdv\"] = prix[\"id_pdv\"].astype('category')\n",
    "prix[\"annee\"]  = prix[\"annee\"].astype('category')\n",
    "prix[\"nom\"]    = prix[\"nom\"].astype('category')\n",
    "prix[\"id\"]     = prix[\"id\"].astype('category')"
   ]
  },
  {
   "cell_type": "code",
   "execution_count": 22,
   "metadata": {},
   "outputs": [
    {
     "name": "stdout",
     "output_type": "stream",
     "text": [
      "<class 'pandas.core.frame.DataFrame'>\n",
      "RangeIndex: 28552954 entries, 0 to 28552953\n",
      "Data columns (total 6 columns):\n",
      "annee     category\n",
      "id_pdv    category\n",
      "nom       category\n",
      "id        category\n",
      "maj       object\n",
      "valeur    int64\n",
      "dtypes: category(4), int64(1), object(1)\n",
      "memory usage: 572.2+ MB\n"
     ]
    }
   ],
   "source": [
    "prix.info()"
   ]
  },
  {
   "cell_type": "markdown",
   "metadata": {},
   "source": [
    "**la taille de la df diminue de 1.3GB à 0.57GB**"
   ]
  },
  {
   "cell_type": "markdown",
   "metadata": {},
   "source": [
    "- **convertion des dates et temps**"
   ]
  },
  {
   "cell_type": "code",
   "execution_count": 23,
   "metadata": {},
   "outputs": [],
   "source": [
    "prix['maj'] = pd.to_datetime(prix['maj'])"
   ]
  },
  {
   "cell_type": "code",
   "execution_count": 24,
   "metadata": {},
   "outputs": [
    {
     "name": "stdout",
     "output_type": "stream",
     "text": [
      "<class 'pandas.core.frame.DataFrame'>\n",
      "RangeIndex: 28552954 entries, 0 to 28552953\n",
      "Data columns (total 6 columns):\n",
      "annee     category\n",
      "id_pdv    category\n",
      "nom       category\n",
      "id        category\n",
      "maj       datetime64[ns]\n",
      "valeur    int64\n",
      "dtypes: category(4), datetime64[ns](1), int64(1)\n",
      "memory usage: 572.2 MB\n"
     ]
    }
   ],
   "source": [
    "prix.info()"
   ]
  },
  {
   "cell_type": "code",
   "execution_count": 25,
   "metadata": {},
   "outputs": [
    {
     "data": {
      "text/html": [
       "<div>\n",
       "<style scoped>\n",
       "    .dataframe tbody tr th:only-of-type {\n",
       "        vertical-align: middle;\n",
       "    }\n",
       "\n",
       "    .dataframe tbody tr th {\n",
       "        vertical-align: top;\n",
       "    }\n",
       "\n",
       "    .dataframe thead th {\n",
       "        text-align: right;\n",
       "    }\n",
       "</style>\n",
       "<table border=\"1\" class=\"dataframe\">\n",
       "  <thead>\n",
       "    <tr style=\"text-align: right;\">\n",
       "      <th></th>\n",
       "      <th>annee</th>\n",
       "      <th>id_pdv</th>\n",
       "      <th>nom</th>\n",
       "      <th>id</th>\n",
       "      <th>maj</th>\n",
       "      <th>valeur</th>\n",
       "    </tr>\n",
       "  </thead>\n",
       "  <tbody>\n",
       "    <tr>\n",
       "      <th>0</th>\n",
       "      <td>2017</td>\n",
       "      <td>1000001</td>\n",
       "      <td>Gazole</td>\n",
       "      <td>1</td>\n",
       "      <td>2017-01-02 09:37:03.000000</td>\n",
       "      <td>1258</td>\n",
       "    </tr>\n",
       "    <tr>\n",
       "      <th>1</th>\n",
       "      <td>2017</td>\n",
       "      <td>1000001</td>\n",
       "      <td>Gazole</td>\n",
       "      <td>1</td>\n",
       "      <td>2017-01-03 09:54:58.000000</td>\n",
       "      <td>1258</td>\n",
       "    </tr>\n",
       "    <tr>\n",
       "      <th>2</th>\n",
       "      <td>2017</td>\n",
       "      <td>1000001</td>\n",
       "      <td>Gazole</td>\n",
       "      <td>1</td>\n",
       "      <td>2017-01-06 12:33:57.000000</td>\n",
       "      <td>1258</td>\n",
       "    </tr>\n",
       "    <tr>\n",
       "      <th>3</th>\n",
       "      <td>2017</td>\n",
       "      <td>1000001</td>\n",
       "      <td>Gazole</td>\n",
       "      <td>1</td>\n",
       "      <td>2017-01-09 08:59:53.000000</td>\n",
       "      <td>1258</td>\n",
       "    </tr>\n",
       "    <tr>\n",
       "      <th>4</th>\n",
       "      <td>2017</td>\n",
       "      <td>1000001</td>\n",
       "      <td>Gazole</td>\n",
       "      <td>1</td>\n",
       "      <td>2017-01-10 10:38:39.000000</td>\n",
       "      <td>1258</td>\n",
       "    </tr>\n",
       "    <tr>\n",
       "      <th>...</th>\n",
       "      <td>...</td>\n",
       "      <td>...</td>\n",
       "      <td>...</td>\n",
       "      <td>...</td>\n",
       "      <td>...</td>\n",
       "      <td>...</td>\n",
       "    </tr>\n",
       "    <tr>\n",
       "      <th>28552949</th>\n",
       "      <td>2012</td>\n",
       "      <td>95870008</td>\n",
       "      <td>E10</td>\n",
       "      <td>5</td>\n",
       "      <td>2012-12-24 08:12:41.125140</td>\n",
       "      <td>1446</td>\n",
       "    </tr>\n",
       "    <tr>\n",
       "      <th>28552950</th>\n",
       "      <td>2012</td>\n",
       "      <td>95870008</td>\n",
       "      <td>E10</td>\n",
       "      <td>5</td>\n",
       "      <td>2012-12-26 09:59:50.402522</td>\n",
       "      <td>1453</td>\n",
       "    </tr>\n",
       "    <tr>\n",
       "      <th>28552951</th>\n",
       "      <td>2012</td>\n",
       "      <td>95870008</td>\n",
       "      <td>E10</td>\n",
       "      <td>5</td>\n",
       "      <td>2012-12-27 06:37:54.702091</td>\n",
       "      <td>1449</td>\n",
       "    </tr>\n",
       "    <tr>\n",
       "      <th>28552952</th>\n",
       "      <td>2012</td>\n",
       "      <td>95870008</td>\n",
       "      <td>E10</td>\n",
       "      <td>5</td>\n",
       "      <td>2012-12-28 10:30:37.417588</td>\n",
       "      <td>1448</td>\n",
       "    </tr>\n",
       "    <tr>\n",
       "      <th>28552953</th>\n",
       "      <td>2012</td>\n",
       "      <td>95870008</td>\n",
       "      <td>E10</td>\n",
       "      <td>5</td>\n",
       "      <td>2012-12-31 11:45:55.480437</td>\n",
       "      <td>1447</td>\n",
       "    </tr>\n",
       "  </tbody>\n",
       "</table>\n",
       "<p>28552954 rows × 6 columns</p>\n",
       "</div>"
      ],
      "text/plain": [
       "         annee    id_pdv     nom id                        maj  valeur\n",
       "0         2017   1000001  Gazole  1 2017-01-02 09:37:03.000000    1258\n",
       "1         2017   1000001  Gazole  1 2017-01-03 09:54:58.000000    1258\n",
       "2         2017   1000001  Gazole  1 2017-01-06 12:33:57.000000    1258\n",
       "3         2017   1000001  Gazole  1 2017-01-09 08:59:53.000000    1258\n",
       "4         2017   1000001  Gazole  1 2017-01-10 10:38:39.000000    1258\n",
       "...        ...       ...     ... ..                        ...     ...\n",
       "28552949  2012  95870008     E10  5 2012-12-24 08:12:41.125140    1446\n",
       "28552950  2012  95870008     E10  5 2012-12-26 09:59:50.402522    1453\n",
       "28552951  2012  95870008     E10  5 2012-12-27 06:37:54.702091    1449\n",
       "28552952  2012  95870008     E10  5 2012-12-28 10:30:37.417588    1448\n",
       "28552953  2012  95870008     E10  5 2012-12-31 11:45:55.480437    1447\n",
       "\n",
       "[28552954 rows x 6 columns]"
      ]
     },
     "execution_count": 25,
     "metadata": {},
     "output_type": "execute_result"
    }
   ],
   "source": [
    "prix"
   ]
  },
  {
   "cell_type": "markdown",
   "metadata": {},
   "source": [
    "- **enregistrer la df compréssée**"
   ]
  },
  {
   "cell_type": "code",
   "execution_count": 26,
   "metadata": {},
   "outputs": [],
   "source": [
    "prix.to_parquet('prix.gzip',\n",
    "               compression='gzip')"
   ]
  },
  {
   "cell_type": "markdown",
   "metadata": {},
   "source": [
    "- **liberer la mémoire**"
   ]
  },
  {
   "cell_type": "code",
   "execution_count": 27,
   "metadata": {},
   "outputs": [],
   "source": [
    "del prix"
   ]
  },
  {
   "cell_type": "markdown",
   "metadata": {},
   "source": [
    "### netoyage de **services**"
   ]
  },
  {
   "cell_type": "code",
   "execution_count": 28,
   "metadata": {},
   "outputs": [],
   "source": [
    "services = pd.read_csv('services.csv', low_memory=False)"
   ]
  },
  {
   "cell_type": "code",
   "execution_count": 29,
   "metadata": {},
   "outputs": [
    {
     "data": {
      "text/html": [
       "<div>\n",
       "<style scoped>\n",
       "    .dataframe tbody tr th:only-of-type {\n",
       "        vertical-align: middle;\n",
       "    }\n",
       "\n",
       "    .dataframe tbody tr th {\n",
       "        vertical-align: top;\n",
       "    }\n",
       "\n",
       "    .dataframe thead th {\n",
       "        text-align: right;\n",
       "    }\n",
       "</style>\n",
       "<table border=\"1\" class=\"dataframe\">\n",
       "  <thead>\n",
       "    <tr style=\"text-align: right;\">\n",
       "      <th></th>\n",
       "      <th>annee</th>\n",
       "      <th>id_pdv</th>\n",
       "      <th>service</th>\n",
       "    </tr>\n",
       "  </thead>\n",
       "  <tbody>\n",
       "    <tr>\n",
       "      <th>0</th>\n",
       "      <td>2017</td>\n",
       "      <td>1000001</td>\n",
       "      <td>Station de gonflage</td>\n",
       "    </tr>\n",
       "    <tr>\n",
       "      <th>1</th>\n",
       "      <td>2017</td>\n",
       "      <td>1000001</td>\n",
       "      <td>Vente de gaz domestique</td>\n",
       "    </tr>\n",
       "    <tr>\n",
       "      <th>2</th>\n",
       "      <td>2017</td>\n",
       "      <td>1000001</td>\n",
       "      <td>Automate CB</td>\n",
       "    </tr>\n",
       "    <tr>\n",
       "      <th>3</th>\n",
       "      <td>2017</td>\n",
       "      <td>1000002</td>\n",
       "      <td>Vente de gaz domestique</td>\n",
       "    </tr>\n",
       "    <tr>\n",
       "      <th>4</th>\n",
       "      <td>2017</td>\n",
       "      <td>1000002</td>\n",
       "      <td>Automate CB</td>\n",
       "    </tr>\n",
       "    <tr>\n",
       "      <th>...</th>\n",
       "      <td>...</td>\n",
       "      <td>...</td>\n",
       "      <td>...</td>\n",
       "    </tr>\n",
       "    <tr>\n",
       "      <th>837086</th>\n",
       "      <td>2012</td>\n",
       "      <td>95870008</td>\n",
       "      <td>Piste poids lourds</td>\n",
       "    </tr>\n",
       "    <tr>\n",
       "      <th>837087</th>\n",
       "      <td>2012</td>\n",
       "      <td>96600001</td>\n",
       "      <td>Boutique non alimentaire</td>\n",
       "    </tr>\n",
       "    <tr>\n",
       "      <th>837088</th>\n",
       "      <td>2012</td>\n",
       "      <td>96600001</td>\n",
       "      <td>Vente de gaz domestique</td>\n",
       "    </tr>\n",
       "    <tr>\n",
       "      <th>837089</th>\n",
       "      <td>2012</td>\n",
       "      <td>96600001</td>\n",
       "      <td>rieure</td>\n",
       "    </tr>\n",
       "    <tr>\n",
       "      <th>837090</th>\n",
       "      <td>2012</td>\n",
       "      <td>96600001</td>\n",
       "      <td>Baie de service auto</td>\n",
       "    </tr>\n",
       "  </tbody>\n",
       "</table>\n",
       "<p>837091 rows × 3 columns</p>\n",
       "</div>"
      ],
      "text/plain": [
       "        annee    id_pdv                   service\n",
       "0        2017   1000001       Station de gonflage\n",
       "1        2017   1000001   Vente de gaz domestique\n",
       "2        2017   1000001               Automate CB\n",
       "3        2017   1000002   Vente de gaz domestique\n",
       "4        2017   1000002               Automate CB\n",
       "...       ...       ...                       ...\n",
       "837086   2012  95870008        Piste poids lourds\n",
       "837087   2012  96600001  Boutique non alimentaire\n",
       "837088   2012  96600001   Vente de gaz domestique\n",
       "837089   2012  96600001                    rieure\n",
       "837090   2012  96600001      Baie de service auto\n",
       "\n",
       "[837091 rows x 3 columns]"
      ]
     },
     "execution_count": 29,
     "metadata": {},
     "output_type": "execute_result"
    }
   ],
   "source": [
    "services"
   ]
  },
  {
   "cell_type": "code",
   "execution_count": 30,
   "metadata": {},
   "outputs": [
    {
     "name": "stdout",
     "output_type": "stream",
     "text": [
      "<class 'pandas.core.frame.DataFrame'>\n",
      "RangeIndex: 837091 entries, 0 to 837090\n",
      "Data columns (total 3 columns):\n",
      "annee      837091 non-null int64\n",
      "id_pdv     837091 non-null int64\n",
      "service    837091 non-null object\n",
      "dtypes: int64(2), object(1)\n",
      "memory usage: 19.2+ MB\n"
     ]
    }
   ],
   "source": [
    "services.info()"
   ]
  },
  {
   "cell_type": "markdown",
   "metadata": {},
   "source": [
    "- **convertion des categories**"
   ]
  },
  {
   "cell_type": "code",
   "execution_count": 31,
   "metadata": {},
   "outputs": [
    {
     "name": "stdout",
     "output_type": "stream",
     "text": [
      "col_name                            n               n_distinct     ratio\n",
      "annee                              837091                   13    64392%\n",
      "id_pdv                             837091                15179       55%\n",
      "service                            837091                  172     4867%\n"
     ]
    }
   ],
   "source": [
    "findLargeCols(services)"
   ]
  },
  {
   "cell_type": "markdown",
   "metadata": {},
   "source": [
    "les columns **'annee','id_pdv','service'** mieux vaut les considérer des categories."
   ]
  },
  {
   "cell_type": "code",
   "execution_count": 32,
   "metadata": {},
   "outputs": [],
   "source": [
    "services[\"annee\"]   = services[\"annee\"].astype('category')\n",
    "services[\"id_pdv\"]  = services[\"id_pdv\"].astype('category')\n",
    "services[\"service\"] = services[\"service\"].astype('category')"
   ]
  },
  {
   "cell_type": "code",
   "execution_count": 33,
   "metadata": {},
   "outputs": [
    {
     "name": "stdout",
     "output_type": "stream",
     "text": [
      "<class 'pandas.core.frame.DataFrame'>\n",
      "RangeIndex: 837091 entries, 0 to 837090\n",
      "Data columns (total 3 columns):\n",
      "annee      837091 non-null category\n",
      "id_pdv     837091 non-null category\n",
      "service    837091 non-null category\n",
      "dtypes: category(3)\n",
      "memory usage: 4.7 MB\n"
     ]
    }
   ],
   "source": [
    "services.info()"
   ]
  },
  {
   "cell_type": "code",
   "execution_count": 34,
   "metadata": {},
   "outputs": [
    {
     "data": {
      "text/html": [
       "<div>\n",
       "<style scoped>\n",
       "    .dataframe tbody tr th:only-of-type {\n",
       "        vertical-align: middle;\n",
       "    }\n",
       "\n",
       "    .dataframe tbody tr th {\n",
       "        vertical-align: top;\n",
       "    }\n",
       "\n",
       "    .dataframe thead th {\n",
       "        text-align: right;\n",
       "    }\n",
       "</style>\n",
       "<table border=\"1\" class=\"dataframe\">\n",
       "  <thead>\n",
       "    <tr style=\"text-align: right;\">\n",
       "      <th></th>\n",
       "      <th>annee</th>\n",
       "      <th>id_pdv</th>\n",
       "      <th>service</th>\n",
       "    </tr>\n",
       "  </thead>\n",
       "  <tbody>\n",
       "    <tr>\n",
       "      <th>0</th>\n",
       "      <td>2017</td>\n",
       "      <td>1000001</td>\n",
       "      <td>Station de gonflage</td>\n",
       "    </tr>\n",
       "    <tr>\n",
       "      <th>1</th>\n",
       "      <td>2017</td>\n",
       "      <td>1000001</td>\n",
       "      <td>Vente de gaz domestique</td>\n",
       "    </tr>\n",
       "    <tr>\n",
       "      <th>2</th>\n",
       "      <td>2017</td>\n",
       "      <td>1000001</td>\n",
       "      <td>Automate CB</td>\n",
       "    </tr>\n",
       "    <tr>\n",
       "      <th>3</th>\n",
       "      <td>2017</td>\n",
       "      <td>1000002</td>\n",
       "      <td>Vente de gaz domestique</td>\n",
       "    </tr>\n",
       "    <tr>\n",
       "      <th>4</th>\n",
       "      <td>2017</td>\n",
       "      <td>1000002</td>\n",
       "      <td>Automate CB</td>\n",
       "    </tr>\n",
       "    <tr>\n",
       "      <th>...</th>\n",
       "      <td>...</td>\n",
       "      <td>...</td>\n",
       "      <td>...</td>\n",
       "    </tr>\n",
       "    <tr>\n",
       "      <th>837086</th>\n",
       "      <td>2012</td>\n",
       "      <td>95870008</td>\n",
       "      <td>Piste poids lourds</td>\n",
       "    </tr>\n",
       "    <tr>\n",
       "      <th>837087</th>\n",
       "      <td>2012</td>\n",
       "      <td>96600001</td>\n",
       "      <td>Boutique non alimentaire</td>\n",
       "    </tr>\n",
       "    <tr>\n",
       "      <th>837088</th>\n",
       "      <td>2012</td>\n",
       "      <td>96600001</td>\n",
       "      <td>Vente de gaz domestique</td>\n",
       "    </tr>\n",
       "    <tr>\n",
       "      <th>837089</th>\n",
       "      <td>2012</td>\n",
       "      <td>96600001</td>\n",
       "      <td>rieure</td>\n",
       "    </tr>\n",
       "    <tr>\n",
       "      <th>837090</th>\n",
       "      <td>2012</td>\n",
       "      <td>96600001</td>\n",
       "      <td>Baie de service auto</td>\n",
       "    </tr>\n",
       "  </tbody>\n",
       "</table>\n",
       "<p>837091 rows × 3 columns</p>\n",
       "</div>"
      ],
      "text/plain": [
       "       annee    id_pdv                   service\n",
       "0       2017   1000001       Station de gonflage\n",
       "1       2017   1000001   Vente de gaz domestique\n",
       "2       2017   1000001               Automate CB\n",
       "3       2017   1000002   Vente de gaz domestique\n",
       "4       2017   1000002               Automate CB\n",
       "...      ...       ...                       ...\n",
       "837086  2012  95870008        Piste poids lourds\n",
       "837087  2012  96600001  Boutique non alimentaire\n",
       "837088  2012  96600001   Vente de gaz domestique\n",
       "837089  2012  96600001                    rieure\n",
       "837090  2012  96600001      Baie de service auto\n",
       "\n",
       "[837091 rows x 3 columns]"
      ]
     },
     "execution_count": 34,
     "metadata": {},
     "output_type": "execute_result"
    }
   ],
   "source": [
    "services"
   ]
  },
  {
   "cell_type": "markdown",
   "metadata": {},
   "source": [
    "- **enregistrer la df compréssée**"
   ]
  },
  {
   "cell_type": "code",
   "execution_count": 35,
   "metadata": {},
   "outputs": [],
   "source": [
    "services.to_parquet('services.gzip',\n",
    "               compression='gzip')"
   ]
  },
  {
   "cell_type": "markdown",
   "metadata": {},
   "source": [
    "- **liberer la mémoire**"
   ]
  },
  {
   "cell_type": "code",
   "execution_count": 36,
   "metadata": {},
   "outputs": [],
   "source": [
    "del services"
   ]
  }
 ],
 "metadata": {
  "kernelspec": {
   "display_name": "Python 3",
   "language": "python",
   "name": "python3"
  },
  "language_info": {
   "codemirror_mode": {
    "name": "ipython",
    "version": 3
   },
   "file_extension": ".py",
   "mimetype": "text/x-python",
   "name": "python",
   "nbconvert_exporter": "python",
   "pygments_lexer": "ipython3",
   "version": "3.7.1"
  }
 },
 "nbformat": 4,
 "nbformat_minor": 2
}
