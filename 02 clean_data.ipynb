{
 "cells": [
  {
   "cell_type": "markdown",
   "metadata": {},
   "source": [
    "# Netoyage des données"
   ]
  },
  {
   "cell_type": "markdown",
   "metadata": {},
   "source": [
    "## Les  imports"
   ]
  },
  {
   "cell_type": "code",
   "execution_count": 1,
   "metadata": {},
   "outputs": [],
   "source": [
    "# !pip install fastparquet"
   ]
  },
  {
   "cell_type": "code",
   "execution_count": null,
   "metadata": {},
   "outputs": [],
   "source": [
    "## Modifier le WorkDirectory\n",
    "wdir = '/tmp/gas'\n",
    "os.chdir(wdir)"
   ]
  },
  {
   "cell_type": "code",
   "execution_count": 2,
   "metadata": {},
   "outputs": [],
   "source": [
    "#!pip install geopy"
   ]
  },
  {
   "cell_type": "code",
   "execution_count": 1,
   "metadata": {},
   "outputs": [],
   "source": [
    "import pandas as pd\n",
    "import numpy as np\n",
    "import os\n",
    "import matplotlib.pyplot as plt\n",
    "%matplotlib inline\n",
    "import seaborn as sns\n",
    "import pgeocode\n",
    "nomi = pgeocode.Nominatim('fr')"
   ]
  },
  {
   "cell_type": "code",
   "execution_count": 2,
   "metadata": {},
   "outputs": [
    {
     "name": "stdout",
     "output_type": "stream",
     "text": [
      "current work dir is: /home/houcine/workspace/school-eda-serviceStations\n"
     ]
    }
   ],
   "source": [
    "print('current work dir is:', os.getcwd())"
   ]
  },
  {
   "cell_type": "code",
   "execution_count": 77,
   "metadata": {},
   "outputs": [],
   "source": [
    "# limiter le nombre de lignes à afficher à 4\n",
    "# au lieu de faire un head() + un tail() il suffira d'afficher la DataFrame\n",
    "pd.options.display.max_rows = 4"
   ]
  },
  {
   "cell_type": "markdown",
   "metadata": {},
   "source": [
    "## Typage des DataFrames"
   ]
  },
  {
   "cell_type": "markdown",
   "metadata": {},
   "source": [
    "### chargement de **pdv**"
   ]
  },
  {
   "cell_type": "code",
   "execution_count": 172,
   "metadata": {},
   "outputs": [],
   "source": [
    "pdv = pd.read_csv('pdv.csv', dtype={\"annee\":str,\"cp\":str})"
   ]
  },
  {
   "cell_type": "markdown",
   "metadata": {},
   "source": [
    "### cleaning ***longitude*** and ***latitude***"
   ]
  },
  {
   "cell_type": "markdown",
   "metadata": {},
   "source": [
    "In metropolitan France :\n",
    "<br>\n",
    "the **latitude**  is between 42 and 51\n",
    "<br>\n",
    "and **longitude** is between -5 and 10"
   ]
  },
  {
   "cell_type": "markdown",
   "metadata": {},
   "source": [
    "#### First we need to scale **longitude** and **latitude** correctly"
   ]
  },
  {
   "cell_type": "markdown",
   "metadata": {},
   "source": [
    "The vaste majority should be scaled by 100,000. but there are some values that are already scaled properly.\n",
    "So, we will only scale values that aren't in the right range."
   ]
  },
  {
   "cell_type": "markdown",
   "metadata": {},
   "source": [
    "Due to possible swaping between longitude and latitude we should take into account the global minimum range and global maximum range in order to scale correctly.\n",
    "This means that values of longitude and latitude should be between -5 and 51."
   ]
  },
  {
   "cell_type": "code",
   "execution_count": 173,
   "metadata": {},
   "outputs": [],
   "source": [
    "# scale by 100,000 if longi or lati aren't in correct range\n",
    "pdv.latitude.loc[~(-5 < pdv.latitude) &  (pdv.latitude < 51)]    /= 100000\n",
    "pdv.longitude.loc[~(-5 < pdv.longitude) &  (pdv.longitude < 51)] /= 100000"
   ]
  },
  {
   "cell_type": "markdown",
   "metadata": {},
   "source": [
    "We would like to drop incorrect longitude and latitude but first we can correct the ones that were inversed"
   ]
  },
  {
   "cell_type": "code",
   "execution_count": 174,
   "metadata": {},
   "outputs": [],
   "source": [
    "# handling inversed values\n",
    "sub_pdv = pdv.loc[\n",
    "            (42 <= pdv.longitude)&\\\n",
    "            (pdv.longitude <= 51)&\\\n",
    "            (-5 <= pdv.latitude)&\\\n",
    "            (pdv.latitude <= 10)]"
   ]
  },
  {
   "cell_type": "markdown",
   "metadata": {},
   "source": [
    "the idea behind this step is this :\n",
    "<br>\n",
    "we compare longitude and latitude of the postal code with longitude and latitude of the **pdv** file"
   ]
  },
  {
   "cell_type": "code",
   "execution_count": 179,
   "metadata": {},
   "outputs": [
    {
     "name": "stdout",
     "output_type": "stream",
     "text": [
      "index : 140673\n",
      "/t cp 13546 : 43.506 5.399\n",
      "index : 140673\n",
      "/t cp 14700 : 46.165 0.204\n",
      "index : 140673\n",
      "/t cp 20148 : 43.72 7.292000000000001\n",
      "index : 140673\n",
      "/t cp 31076 : 43.608999999999995 1.3969999999999998\n",
      "index : 140673\n",
      "/t cp 53102 : 48.302 -0.622\n",
      "index : 140673\n",
      "/t cp 59156 : 48.858999999999995 2.347\n",
      "index : 140673\n",
      "/t cp 61790 : 48.787 1.666\n",
      "index : 140673\n",
      "/t cp 68124 : 48.086000000000006 7.314\n",
      "index : 140673\n",
      "/t cp 70004 : 47.635 6.157\n",
      "index : 140673\n",
      "/t cp 78205 : 48.981 1.689\n",
      "index : 140673\n",
      "/t cp 85804 : 46.696000000000005 -1.9280000000000002\n",
      "index : 140673\n",
      "/t cp 86102 : 46.792 0.526\n",
      "index : 140673\n",
      "/t cp 56890 : 47.6831 -5.0996110000000005e-05\n"
     ]
    }
   ],
   "source": [
    "# loop over all sub_pdv values by using their original index (the one in pdv dataframe)\n",
    "for index in sub_pdv.index:\n",
    "    cp        = sub_pdv.loc[index,[\"cp\"]][0]\n",
    "    latitude  = sub_pdv.loc[index,[\"latitude\"]][0]\n",
    "    longitude = sub_pdv.loc[index,[\"longitude\"]][0]\n",
    "    \n",
    "    # geographical informations associated to this postal code (note that we are only using France postal codes)\n",
    "    geo_info = nomi.query_postal_code(cp)\n",
    "    \n",
    "    # calculating the squared difference between the postal code longitude\n",
    "    # and latitude and we will compare them the to longitude and latitude of the station\n",
    "    lati_diff_squared = (latitude - geo_info.longitude)**2\n",
    "    long_diff_squared = (longitude - geo_info.latitude)**2\n",
    "    \n",
    "    is_it_near = lati_diff_squared < 2 and\\\n",
    "                     long_diff_squared < 2\n",
    "    \n",
    "    if not is_it_near:\n",
    "        print(\"index :\",i)\n",
    "        print(\"/t cp\",cp, \":\",longitude, latitude)\n",
    "        \n",
    "    # print(res['country code'], res.postal_code)"
   ]
  },
  {
   "cell_type": "markdown",
   "metadata": {},
   "source": [
    "after manually verifying the **latitude** and **longitude** that we couldn't find with *\"pgeocode\"* library \n",
    "<br>\n",
    "we conclude that all **longitudes** and **latitudes** that were in the correct range were swaped"
   ]
  },
  {
   "cell_type": "markdown",
   "metadata": {},
   "source": [
    "### swap values"
   ]
  },
  {
   "cell_type": "code",
   "execution_count": 111,
   "metadata": {},
   "outputs": [
    {
     "data": {
      "text/html": [
       "<div>\n",
       "<style scoped>\n",
       "    .dataframe tbody tr th:only-of-type {\n",
       "        vertical-align: middle;\n",
       "    }\n",
       "\n",
       "    .dataframe tbody tr th {\n",
       "        vertical-align: top;\n",
       "    }\n",
       "\n",
       "    .dataframe thead th {\n",
       "        text-align: right;\n",
       "    }\n",
       "</style>\n",
       "<table border=\"1\" class=\"dataframe\">\n",
       "  <thead>\n",
       "    <tr style=\"text-align: right;\">\n",
       "      <th></th>\n",
       "      <th>annee</th>\n",
       "      <th>id</th>\n",
       "      <th>latitude</th>\n",
       "      <th>longitude</th>\n",
       "      <th>cp</th>\n",
       "      <th>pop</th>\n",
       "      <th>ouverture_debut</th>\n",
       "      <th>ouverture_fin</th>\n",
       "      <th>ouverture_saufjour</th>\n",
       "      <th>adresse</th>\n",
       "      <th>ville</th>\n",
       "    </tr>\n",
       "  </thead>\n",
       "  <tbody>\n",
       "    <tr>\n",
       "      <th>506</th>\n",
       "      <td>2019</td>\n",
       "      <td>6190006</td>\n",
       "      <td>43.763940</td>\n",
       "      <td>7.480690</td>\n",
       "      <td>06190</td>\n",
       "      <td>R</td>\n",
       "      <td>NaN</td>\n",
       "      <td>NaN</td>\n",
       "      <td>NaN</td>\n",
       "      <td>175 Avenue Louis Pasteur</td>\n",
       "      <td>ROQUEBRUNE-CAP-MARTIN</td>\n",
       "    </tr>\n",
       "    <tr>\n",
       "      <th>538</th>\n",
       "      <td>2019</td>\n",
       "      <td>6220004</td>\n",
       "      <td>43.579880</td>\n",
       "      <td>7.062040</td>\n",
       "      <td>06220</td>\n",
       "      <td>R</td>\n",
       "      <td>NaN</td>\n",
       "      <td>NaN</td>\n",
       "      <td>NaN</td>\n",
       "      <td>D6007</td>\n",
       "      <td>Vallauris</td>\n",
       "    </tr>\n",
       "    <tr>\n",
       "      <th>...</th>\n",
       "      <td>...</td>\n",
       "      <td>...</td>\n",
       "      <td>...</td>\n",
       "      <td>...</td>\n",
       "      <td>...</td>\n",
       "      <td>...</td>\n",
       "      <td>...</td>\n",
       "      <td>...</td>\n",
       "      <td>...</td>\n",
       "      <td>...</td>\n",
       "      <td>...</td>\n",
       "    </tr>\n",
       "    <tr>\n",
       "      <th>140483</th>\n",
       "      <td>2016</td>\n",
       "      <td>94500001</td>\n",
       "      <td>48.823150</td>\n",
       "      <td>2.494980</td>\n",
       "      <td>94500</td>\n",
       "      <td>R</td>\n",
       "      <td>06:00:00</td>\n",
       "      <td>21:00:00</td>\n",
       "      <td>NaN</td>\n",
       "      <td>114 Avenue du Général de Gaulle</td>\n",
       "      <td>CHAMPIGNY-SUR-MARNE</td>\n",
       "    </tr>\n",
       "    <tr>\n",
       "      <th>140673</th>\n",
       "      <td>2016</td>\n",
       "      <td>95500002</td>\n",
       "      <td>48.967186</td>\n",
       "      <td>2.464734</td>\n",
       "      <td>95500</td>\n",
       "      <td>R</td>\n",
       "      <td>05:30:00</td>\n",
       "      <td>20:30:00</td>\n",
       "      <td>NaN</td>\n",
       "      <td>RN 370</td>\n",
       "      <td>GONESSE</td>\n",
       "    </tr>\n",
       "  </tbody>\n",
       "</table>\n",
       "<p>644 rows × 11 columns</p>\n",
       "</div>"
      ],
      "text/plain": [
       "        annee        id   latitude  longitude     cp pop ouverture_debut  \\\n",
       "506      2019   6190006  43.763940   7.480690  06190   R             NaN   \n",
       "538      2019   6220004  43.579880   7.062040  06220   R             NaN   \n",
       "...       ...       ...        ...        ...    ...  ..             ...   \n",
       "140483   2016  94500001  48.823150   2.494980  94500   R        06:00:00   \n",
       "140673   2016  95500002  48.967186   2.464734  95500   R        05:30:00   \n",
       "\n",
       "       ouverture_fin ouverture_saufjour                          adresse  \\\n",
       "506              NaN                NaN         175 Avenue Louis Pasteur   \n",
       "538              NaN                NaN                            D6007   \n",
       "...              ...                ...                              ...   \n",
       "140483      21:00:00                NaN  114 Avenue du Général de Gaulle   \n",
       "140673      20:30:00                NaN                           RN 370   \n",
       "\n",
       "                        ville  \n",
       "506     ROQUEBRUNE-CAP-MARTIN  \n",
       "538                 Vallauris  \n",
       "...                       ...  \n",
       "140483    CHAMPIGNY-SUR-MARNE  \n",
       "140673                GONESSE  \n",
       "\n",
       "[644 rows x 11 columns]"
      ]
     },
     "execution_count": 111,
     "metadata": {},
     "output_type": "execute_result"
    }
   ],
   "source": [
    "lat = sub_pdv.latitude.copy()\n",
    "sub_pdv.loc[:,\"latitude\"] = sub_pdv.longitude\n",
    "sub_pdv.loc[:,\"longitude\"] = lat\n",
    "sub_pdv"
   ]
  },
  {
   "cell_type": "code",
   "execution_count": 112,
   "metadata": {},
   "outputs": [
    {
     "data": {
      "text/html": [
       "<div>\n",
       "<style scoped>\n",
       "    .dataframe tbody tr th:only-of-type {\n",
       "        vertical-align: middle;\n",
       "    }\n",
       "\n",
       "    .dataframe tbody tr th {\n",
       "        vertical-align: top;\n",
       "    }\n",
       "\n",
       "    .dataframe thead th {\n",
       "        text-align: right;\n",
       "    }\n",
       "</style>\n",
       "<table border=\"1\" class=\"dataframe\">\n",
       "  <thead>\n",
       "    <tr style=\"text-align: right;\">\n",
       "      <th></th>\n",
       "      <th>annee</th>\n",
       "      <th>id</th>\n",
       "      <th>latitude</th>\n",
       "      <th>longitude</th>\n",
       "      <th>cp</th>\n",
       "      <th>pop</th>\n",
       "      <th>ouverture_debut</th>\n",
       "      <th>ouverture_fin</th>\n",
       "      <th>ouverture_saufjour</th>\n",
       "      <th>adresse</th>\n",
       "      <th>ville</th>\n",
       "    </tr>\n",
       "  </thead>\n",
       "  <tbody>\n",
       "    <tr>\n",
       "      <th>506</th>\n",
       "      <td>2019.0</td>\n",
       "      <td>6190006.0</td>\n",
       "      <td>43.763940</td>\n",
       "      <td>7.480690</td>\n",
       "      <td>06190</td>\n",
       "      <td>R</td>\n",
       "      <td>NaN</td>\n",
       "      <td>NaN</td>\n",
       "      <td>NaN</td>\n",
       "      <td>175 Avenue Louis Pasteur</td>\n",
       "      <td>ROQUEBRUNE-CAP-MARTIN</td>\n",
       "    </tr>\n",
       "    <tr>\n",
       "      <th>538</th>\n",
       "      <td>2019.0</td>\n",
       "      <td>6220004.0</td>\n",
       "      <td>43.579880</td>\n",
       "      <td>7.062040</td>\n",
       "      <td>06220</td>\n",
       "      <td>R</td>\n",
       "      <td>NaN</td>\n",
       "      <td>NaN</td>\n",
       "      <td>NaN</td>\n",
       "      <td>D6007</td>\n",
       "      <td>Vallauris</td>\n",
       "    </tr>\n",
       "    <tr>\n",
       "      <th>...</th>\n",
       "      <td>...</td>\n",
       "      <td>...</td>\n",
       "      <td>...</td>\n",
       "      <td>...</td>\n",
       "      <td>...</td>\n",
       "      <td>...</td>\n",
       "      <td>...</td>\n",
       "      <td>...</td>\n",
       "      <td>...</td>\n",
       "      <td>...</td>\n",
       "      <td>...</td>\n",
       "    </tr>\n",
       "    <tr>\n",
       "      <th>140483</th>\n",
       "      <td>2016.0</td>\n",
       "      <td>94500001.0</td>\n",
       "      <td>48.823150</td>\n",
       "      <td>2.494980</td>\n",
       "      <td>94500</td>\n",
       "      <td>R</td>\n",
       "      <td>06:00:00</td>\n",
       "      <td>21:00:00</td>\n",
       "      <td>NaN</td>\n",
       "      <td>114 Avenue du Général de Gaulle</td>\n",
       "      <td>CHAMPIGNY-SUR-MARNE</td>\n",
       "    </tr>\n",
       "    <tr>\n",
       "      <th>140673</th>\n",
       "      <td>2016.0</td>\n",
       "      <td>95500002.0</td>\n",
       "      <td>48.967186</td>\n",
       "      <td>2.464734</td>\n",
       "      <td>95500</td>\n",
       "      <td>R</td>\n",
       "      <td>05:30:00</td>\n",
       "      <td>20:30:00</td>\n",
       "      <td>NaN</td>\n",
       "      <td>RN 370</td>\n",
       "      <td>GONESSE</td>\n",
       "    </tr>\n",
       "  </tbody>\n",
       "</table>\n",
       "<p>644 rows × 11 columns</p>\n",
       "</div>"
      ],
      "text/plain": [
       "         annee          id   latitude  longitude     cp pop ouverture_debut  \\\n",
       "506     2019.0   6190006.0  43.763940   7.480690  06190   R             NaN   \n",
       "538     2019.0   6220004.0  43.579880   7.062040  06220   R             NaN   \n",
       "...        ...         ...        ...        ...    ...  ..             ...   \n",
       "140483  2016.0  94500001.0  48.823150   2.494980  94500   R        06:00:00   \n",
       "140673  2016.0  95500002.0  48.967186   2.464734  95500   R        05:30:00   \n",
       "\n",
       "       ouverture_fin ouverture_saufjour                          adresse  \\\n",
       "506              NaN                NaN         175 Avenue Louis Pasteur   \n",
       "538              NaN                NaN                            D6007   \n",
       "...              ...                ...                              ...   \n",
       "140483      21:00:00                NaN  114 Avenue du Général de Gaulle   \n",
       "140673      20:30:00                NaN                           RN 370   \n",
       "\n",
       "                        ville  \n",
       "506     ROQUEBRUNE-CAP-MARTIN  \n",
       "538                 Vallauris  \n",
       "...                       ...  \n",
       "140483    CHAMPIGNY-SUR-MARNE  \n",
       "140673                GONESSE  \n",
       "\n",
       "[644 rows x 11 columns]"
      ]
     },
     "execution_count": 112,
     "metadata": {},
     "output_type": "execute_result"
    }
   ],
   "source": [
    "pdv.update(sub_pdv)\n",
    "pdv.loc[sub_pdv.index]"
   ]
  },
  {
   "cell_type": "markdown",
   "metadata": {},
   "source": [
    "Now, latitudes and longitudes that remain outside of the correcte range will be converted to **Nan**"
   ]
  },
  {
   "cell_type": "code",
   "execution_count": 118,
   "metadata": {},
   "outputs": [],
   "source": [
    "d = pdv.loc[(42 > pdv.latitude)|\\\n",
    "        (pdv.latitude > 51)|\\\n",
    "        (-5 > pdv.longitude)|\\\n",
    "        (pdv.longitude > 10)]"
   ]
  },
  {
   "cell_type": "code",
   "execution_count": 132,
   "metadata": {},
   "outputs": [],
   "source": [
    "mask = d.longitude * 100000 < 100"
   ]
  },
  {
   "cell_type": "code",
   "execution_count": 134,
   "metadata": {},
   "outputs": [
    {
     "data": {
      "text/html": [
       "<div>\n",
       "<style scoped>\n",
       "    .dataframe tbody tr th:only-of-type {\n",
       "        vertical-align: middle;\n",
       "    }\n",
       "\n",
       "    .dataframe tbody tr th {\n",
       "        vertical-align: top;\n",
       "    }\n",
       "\n",
       "    .dataframe thead th {\n",
       "        text-align: right;\n",
       "    }\n",
       "</style>\n",
       "<table border=\"1\" class=\"dataframe\">\n",
       "  <thead>\n",
       "    <tr style=\"text-align: right;\">\n",
       "      <th></th>\n",
       "      <th>annee</th>\n",
       "      <th>id</th>\n",
       "      <th>latitude</th>\n",
       "      <th>longitude</th>\n",
       "      <th>cp</th>\n",
       "      <th>pop</th>\n",
       "      <th>ouverture_debut</th>\n",
       "      <th>ouverture_fin</th>\n",
       "      <th>ouverture_saufjour</th>\n",
       "      <th>adresse</th>\n",
       "      <th>ville</th>\n",
       "    </tr>\n",
       "  </thead>\n",
       "  <tbody>\n",
       "    <tr>\n",
       "      <th>1181</th>\n",
       "      <td>2019</td>\n",
       "      <td>13010007</td>\n",
       "      <td>5.421000</td>\n",
       "      <td>43.27000</td>\n",
       "      <td>13010</td>\n",
       "      <td>R</td>\n",
       "      <td>NaN</td>\n",
       "      <td>NaN</td>\n",
       "      <td>NaN</td>\n",
       "      <td>260 Boulevard Paul Claudel</td>\n",
       "      <td>MARSEILLE</td>\n",
       "    </tr>\n",
       "    <tr>\n",
       "      <th>1231</th>\n",
       "      <td>2019</td>\n",
       "      <td>13015012</td>\n",
       "      <td>0.000000</td>\n",
       "      <td>0.00000</td>\n",
       "      <td>13015</td>\n",
       "      <td>R</td>\n",
       "      <td>NaN</td>\n",
       "      <td>NaN</td>\n",
       "      <td>NaN</td>\n",
       "      <td>20-22, RN DE ST ANTOINE</td>\n",
       "      <td>MARSEILLE</td>\n",
       "    </tr>\n",
       "    <tr>\n",
       "      <th>...</th>\n",
       "      <td>...</td>\n",
       "      <td>...</td>\n",
       "      <td>...</td>\n",
       "      <td>...</td>\n",
       "      <td>...</td>\n",
       "      <td>...</td>\n",
       "      <td>...</td>\n",
       "      <td>...</td>\n",
       "      <td>...</td>\n",
       "      <td>...</td>\n",
       "      <td>...</td>\n",
       "    </tr>\n",
       "    <tr>\n",
       "      <th>136847</th>\n",
       "      <td>2016</td>\n",
       "      <td>68520009</td>\n",
       "      <td>47.715912</td>\n",
       "      <td>7.13773</td>\n",
       "      <td>68520</td>\n",
       "      <td>A</td>\n",
       "      <td>00:00:06</td>\n",
       "      <td>23:59:06</td>\n",
       "      <td>NaN</td>\n",
       "      <td>Aire de Porte d' Alsace - A36</td>\n",
       "      <td>BURNHAUPT LE BAS</td>\n",
       "    </tr>\n",
       "    <tr>\n",
       "      <th>138087</th>\n",
       "      <td>2016</td>\n",
       "      <td>76700005</td>\n",
       "      <td>49.503000</td>\n",
       "      <td>0.23300</td>\n",
       "      <td>76700</td>\n",
       "      <td>R</td>\n",
       "      <td>01:00:00</td>\n",
       "      <td>01:00:00</td>\n",
       "      <td>NaN</td>\n",
       "      <td>parc de l'estuaire</td>\n",
       "      <td>GONFREVILLE-L'ORCHER</td>\n",
       "    </tr>\n",
       "  </tbody>\n",
       "</table>\n",
       "<p>1551 rows × 11 columns</p>\n",
       "</div>"
      ],
      "text/plain": [
       "        annee        id   latitude  longitude     cp pop ouverture_debut  \\\n",
       "1181     2019  13010007   5.421000   43.27000  13010   R             NaN   \n",
       "1231     2019  13015012   0.000000    0.00000  13015   R             NaN   \n",
       "...       ...       ...        ...        ...    ...  ..             ...   \n",
       "136847   2016  68520009  47.715912    7.13773  68520   A        00:00:06   \n",
       "138087   2016  76700005  49.503000    0.23300  76700   R        01:00:00   \n",
       "\n",
       "       ouverture_fin ouverture_saufjour                        adresse  \\\n",
       "1181             NaN                NaN     260 Boulevard Paul Claudel   \n",
       "1231             NaN                NaN        20-22, RN DE ST ANTOINE   \n",
       "...              ...                ...                            ...   \n",
       "136847      23:59:06                NaN  Aire de Porte d' Alsace - A36   \n",
       "138087      01:00:00                NaN             parc de l'estuaire   \n",
       "\n",
       "                       ville  \n",
       "1181               MARSEILLE  \n",
       "1231               MARSEILLE  \n",
       "...                      ...  \n",
       "136847      BURNHAUPT LE BAS  \n",
       "138087  GONFREVILLE-L'ORCHER  \n",
       "\n",
       "[1551 rows x 11 columns]"
      ]
     },
     "execution_count": 134,
     "metadata": {},
     "output_type": "execute_result"
    }
   ],
   "source": [
    "pdv.loc[d.index[mask],:]"
   ]
  },
  {
   "cell_type": "code",
   "execution_count": 113,
   "metadata": {},
   "outputs": [
    {
     "name": "stderr",
     "output_type": "stream",
     "text": [
      "/home/houcine/anaconda3/lib/python3.7/site-packages/scipy/stats/stats.py:1713: FutureWarning: Using a non-tuple sequence for multidimensional indexing is deprecated; use `arr[tuple(seq)]` instead of `arr[seq]`. In the future this will be interpreted as an array index, `arr[np.array(seq)]`, which will result either in an error or a different result.\n",
      "  return np.add.reduce(sorted[indexer] * weights, axis=axis) / sumval\n"
     ]
    },
    {
     "data": {
      "text/plain": [
       "<matplotlib.axes._subplots.AxesSubplot at 0x7f1647533e10>"
      ]
     },
     "execution_count": 113,
     "metadata": {},
     "output_type": "execute_result"
    },
    {
     "data": {
      "image/png": "[encoded data removed]",
      "text/plain": [
       "<Figure size 432x288 with 1 Axes>"
      ]
     },
     "metadata": {
      "needs_background": "light"
     },
     "output_type": "display_data"
    }
   ],
   "source": [
    "sns.distplot(pdv.dropna().longitude)"
   ]
  },
  {
   "cell_type": "code",
   "execution_count": 114,
   "metadata": {},
   "outputs": [
    {
     "data": {
      "text/plain": [
       "<matplotlib.axes._subplots.AxesSubplot at 0x7f1647533550>"
      ]
     },
     "execution_count": 114,
     "metadata": {},
     "output_type": "execute_result"
    },
    {
     "data": {
      "image/png": "[encoded data removed]",
      "text/plain": [
       "<Figure size 432x288 with 1 Axes>"
      ]
     },
     "metadata": {
      "needs_background": "light"
     },
     "output_type": "display_data"
    }
   ],
   "source": [
    "sns.distplot(pdv.dropna().latitude)"
   ]
  },
  {
   "cell_type": "code",
   "execution_count": 13,
   "metadata": {},
   "outputs": [
    {
     "data": {
      "text/plain": [
       "count    1.396480e+05\n",
       "mean     4.608540e+06\n",
       "std      6.176435e+05\n",
       "min     -2.433288e+06\n",
       "25%      4.476511e+06\n",
       "50%      4.715301e+06\n",
       "75%      4.876788e+06\n",
       "max      6.260656e+06\n",
       "Name: latitude, dtype: float64"
      ]
     },
     "execution_count": 13,
     "metadata": {},
     "output_type": "execute_result"
    }
   ],
   "source": [
    "pdv.latitude.describe()"
   ]
  },
  {
   "cell_type": "code",
   "execution_count": 7,
   "metadata": {},
   "outputs": [],
   "source": [
    "pdv.loc[pdv.cp==\"35***\",\"cp\"] = 35000"
   ]
  },
  {
   "cell_type": "code",
   "execution_count": 28,
   "metadata": {},
   "outputs": [
    {
     "name": "stdout",
     "output_type": "stream",
     "text": [
      "Collecting pgeocode\n",
      "  Downloading https://files.pythonhosted.org/packages/40/32/477ae060daf5a54a26caeb7c63901bb8c017c70fc8888c3073e29a11982e/pgeocode-0.1.1-py2.py3-none-any.whl\n",
      "Requirement already satisfied: requests in /home/houcine/anaconda3/lib/python3.7/site-packages (from pgeocode) (2.21.0)\n",
      "Requirement already satisfied: pandas in /home/houcine/anaconda3/lib/python3.7/site-packages (from pgeocode) (0.23.4)\n",
      "Requirement already satisfied: numpy in /home/houcine/anaconda3/lib/python3.7/site-packages (from pgeocode) (1.15.4)\n",
      "Requirement already satisfied: idna<2.9,>=2.5 in /home/houcine/anaconda3/lib/python3.7/site-packages (from requests->pgeocode) (2.8)\n",
      "Requirement already satisfied: urllib3<1.25,>=1.21.1 in /home/houcine/anaconda3/lib/python3.7/site-packages (from requests->pgeocode) (1.24.1)\n",
      "Requirement already satisfied: chardet<3.1.0,>=3.0.2 in /home/houcine/anaconda3/lib/python3.7/site-packages (from requests->pgeocode) (3.0.4)\n",
      "Requirement already satisfied: certifi>=2017.4.17 in /home/houcine/anaconda3/lib/python3.7/site-packages (from requests->pgeocode) (2018.11.29)\n",
      "Requirement already satisfied: python-dateutil>=2.5.0 in /home/houcine/anaconda3/lib/python3.7/site-packages (from pandas->pgeocode) (2.7.5)\n",
      "Requirement already satisfied: pytz>=2011k in /home/houcine/anaconda3/lib/python3.7/site-packages (from pandas->pgeocode) (2018.7)\n",
      "Requirement already satisfied: six>=1.5 in /home/houcine/anaconda3/lib/python3.7/site-packages (from python-dateutil>=2.5.0->pandas->pgeocode) (1.12.0)\n",
      "Installing collected packages: pgeocode\n",
      "Successfully installed pgeocode-0.1.1\n"
     ]
    }
   ],
   "source": [
    "!pip install pgeocode"
   ]
  },
  {
   "cell_type": "code",
   "execution_count": 29,
   "metadata": {},
   "outputs": [
    {
     "data": {
      "text/plain": [
       "postal_code                 75013\n",
       "country code                   FR\n",
       "place_name        Paris 13, Paris\n",
       "state_name          Île-de-France\n",
       "state_code                     11\n",
       "                       ...       \n",
       "community_name              Paris\n",
       "community_code                751\n",
       "latitude                  48.8322\n",
       "longitude                 2.35245\n",
       "accuracy                        5\n",
       "Name: 0, Length: 12, dtype: object"
      ]
     },
     "execution_count": 29,
     "metadata": {},
     "output_type": "execute_result"
    }
   ],
   "source": []
  },
  {
   "cell_type": "code",
   "execution_count": 30,
   "metadata": {},
   "outputs": [
    {
     "data": {
      "text/html": [
       "<div>\n",
       "<style scoped>\n",
       "    .dataframe tbody tr th:only-of-type {\n",
       "        vertical-align: middle;\n",
       "    }\n",
       "\n",
       "    .dataframe tbody tr th {\n",
       "        vertical-align: top;\n",
       "    }\n",
       "\n",
       "    .dataframe thead th {\n",
       "        text-align: right;\n",
       "    }\n",
       "</style>\n",
       "<table border=\"1\" class=\"dataframe\">\n",
       "  <thead>\n",
       "    <tr style=\"text-align: right;\">\n",
       "      <th></th>\n",
       "      <th>annee</th>\n",
       "      <th>id</th>\n",
       "      <th>latitude</th>\n",
       "      <th>longitude</th>\n",
       "      <th>cp</th>\n",
       "      <th>pop</th>\n",
       "      <th>ouverture_debut</th>\n",
       "      <th>ouverture_fin</th>\n",
       "      <th>ouverture_saufjour</th>\n",
       "      <th>adresse</th>\n",
       "      <th>ville</th>\n",
       "    </tr>\n",
       "  </thead>\n",
       "  <tbody>\n",
       "  </tbody>\n",
       "</table>\n",
       "</div>"
      ],
      "text/plain": [
       "Empty DataFrame\n",
       "Columns: [annee, id, latitude, longitude, cp, pop, ouverture_debut, ouverture_fin, ouverture_saufjour, adresse, ville]\n",
       "Index: []"
      ]
     },
     "execution_count": 30,
     "metadata": {},
     "output_type": "execute_result"
    }
   ],
   "source": [
    "pdv.loc[(pdv.adresse == ad) & (pdv.ville.isna())]"
   ]
  },
  {
   "cell_type": "code",
   "execution_count": 31,
   "metadata": {},
   "outputs": [
    {
     "data": {
      "text/plain": [
       "annee                      0\n",
       "id                         0\n",
       "latitude                1076\n",
       "longitude               1053\n",
       "cp                         0\n",
       "                       ...  \n",
       "ouverture_debut        25498\n",
       "ouverture_fin          25498\n",
       "ouverture_saufjour    119101\n",
       "adresse                    0\n",
       "ville                      0\n",
       "Length: 11, dtype: int64"
      ]
     },
     "execution_count": 31,
     "metadata": {},
     "output_type": "execute_result"
    }
   ],
   "source": [
    "pdv.isna().sum()"
   ]
  },
  {
   "cell_type": "code",
   "execution_count": 32,
   "metadata": {},
   "outputs": [],
   "source": [
    "# normalisation des longitudes et latitude \n",
    "pdv.loc[:,'latitude']   = pdv.latitude/100000\n",
    "pdv.loc[:, 'longitude'] = pdv.longitude/100000"
   ]
  },
  {
   "cell_type": "code",
   "execution_count": 33,
   "metadata": {},
   "outputs": [
    {
     "name": "stdout",
     "output_type": "stream",
     "text": [
      "<class 'pandas.core.frame.DataFrame'>\n",
      "RangeIndex: 140724 entries, 0 to 140723\n",
      "Data columns (total 11 columns):\n",
      "annee                 140724 non-null int64\n",
      "id                    140724 non-null int64\n",
      "latitude              139648 non-null float64\n",
      "longitude             139671 non-null float64\n",
      "cp                    140724 non-null object\n",
      "pop                   140724 non-null object\n",
      "ouverture_debut       115226 non-null object\n",
      "ouverture_fin         115226 non-null object\n",
      "ouverture_saufjour    21623 non-null object\n",
      "adresse               140724 non-null object\n",
      "ville                 140724 non-null object\n",
      "dtypes: float64(2), int64(2), object(7)\n",
      "memory usage: 11.8+ MB\n"
     ]
    }
   ],
   "source": [
    "pdv.info()"
   ]
  },
  {
   "cell_type": "markdown",
   "metadata": {},
   "source": [
    "- **convertion des categories**"
   ]
  },
  {
   "cell_type": "code",
   "execution_count": 34,
   "metadata": {},
   "outputs": [
    {
     "name": "stdout",
     "output_type": "stream",
     "text": [
      "col_name                            n               n_distinct     ratio\n",
      "annee                              140724                   13    10825%\n",
      "id                                 140724                16826        8%\n",
      "latitude                           140724                19737        7%\n",
      "longitude                          140724                20006        7%\n",
      "cp                                 140724                 8770       16%\n",
      "pop                                140724                    4    35181%\n",
      "ouverture_debut                    140724                  766      184%\n",
      "ouverture_fin                      140724                  880      160%\n",
      "ouverture_saufjour                 140724                   32     4398%\n",
      "adresse                            140724                15393        9%\n",
      "ville                              140724                 9174       15%\n"
     ]
    }
   ],
   "source": [
    "findLargeCols(pdv)"
   ]
  },
  {
   "cell_type": "markdown",
   "metadata": {},
   "source": [
    "les columns **'annee','pop','ouverture_saufjour','rupture_id','rupture_nom','fermeture_type'** mieux vaut les considérer des categories"
   ]
  },
  {
   "cell_type": "code",
   "execution_count": 35,
   "metadata": {},
   "outputs": [
    {
     "ename": "KeyError",
     "evalue": "'rupture_id'",
     "output_type": "error",
     "traceback": [
      "\u001b[0;31m---------------------------------------------------------------------------\u001b[0m",
      "\u001b[0;31mKeyError\u001b[0m                                  Traceback (most recent call last)",
      "\u001b[0;32m~/anaconda3/lib/python3.7/site-packages/pandas/core/indexes/base.py\u001b[0m in \u001b[0;36mget_loc\u001b[0;34m(self, key, method, tolerance)\u001b[0m\n\u001b[1;32m   3077\u001b[0m             \u001b[0;32mtry\u001b[0m\u001b[0;34m:\u001b[0m\u001b[0;34m\u001b[0m\u001b[0;34m\u001b[0m\u001b[0m\n\u001b[0;32m-> 3078\u001b[0;31m                 \u001b[0;32mreturn\u001b[0m \u001b[0mself\u001b[0m\u001b[0;34m.\u001b[0m\u001b[0m_engine\u001b[0m\u001b[0;34m.\u001b[0m\u001b[0mget_loc\u001b[0m\u001b[0;34m(\u001b[0m\u001b[0mkey\u001b[0m\u001b[0;34m)\u001b[0m\u001b[0;34m\u001b[0m\u001b[0;34m\u001b[0m\u001b[0m\n\u001b[0m\u001b[1;32m   3079\u001b[0m             \u001b[0;32mexcept\u001b[0m \u001b[0mKeyError\u001b[0m\u001b[0;34m:\u001b[0m\u001b[0;34m\u001b[0m\u001b[0;34m\u001b[0m\u001b[0m\n",
      "\u001b[0;32mpandas/_libs/index.pyx\u001b[0m in \u001b[0;36mpandas._libs.index.IndexEngine.get_loc\u001b[0;34m()\u001b[0m\n",
      "\u001b[0;32mpandas/_libs/index.pyx\u001b[0m in \u001b[0;36mpandas._libs.index.IndexEngine.get_loc\u001b[0;34m()\u001b[0m\n",
      "\u001b[0;32mpandas/_libs/hashtable_class_helper.pxi\u001b[0m in \u001b[0;36mpandas._libs.hashtable.PyObjectHashTable.get_item\u001b[0;34m()\u001b[0m\n",
      "\u001b[0;32mpandas/_libs/hashtable_class_helper.pxi\u001b[0m in \u001b[0;36mpandas._libs.hashtable.PyObjectHashTable.get_item\u001b[0;34m()\u001b[0m\n",
      "\u001b[0;31mKeyError\u001b[0m: 'rupture_id'",
      "\nDuring handling of the above exception, another exception occurred:\n",
      "\u001b[0;31mKeyError\u001b[0m                                  Traceback (most recent call last)",
      "\u001b[0;32m<ipython-input-35-45a98769720e>\u001b[0m in \u001b[0;36m<module>\u001b[0;34m\u001b[0m\n\u001b[1;32m      2\u001b[0m \u001b[0mpdv\u001b[0m\u001b[0;34m[\u001b[0m\u001b[0;34m'pop'\u001b[0m\u001b[0;34m]\u001b[0m                \u001b[0;34m=\u001b[0m \u001b[0mpdv\u001b[0m\u001b[0;34m[\u001b[0m\u001b[0;34m'pop'\u001b[0m\u001b[0;34m]\u001b[0m\u001b[0;34m.\u001b[0m\u001b[0mastype\u001b[0m\u001b[0;34m(\u001b[0m\u001b[0;34m'category'\u001b[0m\u001b[0;34m)\u001b[0m\u001b[0;34m\u001b[0m\u001b[0;34m\u001b[0m\u001b[0m\n\u001b[1;32m      3\u001b[0m \u001b[0mpdv\u001b[0m\u001b[0;34m[\u001b[0m\u001b[0;34m'ouverture_saufjour'\u001b[0m\u001b[0;34m]\u001b[0m \u001b[0;34m=\u001b[0m \u001b[0mpdv\u001b[0m\u001b[0;34m[\u001b[0m\u001b[0;34m'ouverture_saufjour'\u001b[0m\u001b[0;34m]\u001b[0m\u001b[0;34m.\u001b[0m\u001b[0mastype\u001b[0m\u001b[0;34m(\u001b[0m\u001b[0;34m'category'\u001b[0m\u001b[0;34m)\u001b[0m\u001b[0;34m\u001b[0m\u001b[0;34m\u001b[0m\u001b[0m\n\u001b[0;32m----> 4\u001b[0;31m \u001b[0mpdv\u001b[0m\u001b[0;34m[\u001b[0m\u001b[0;34m'rupture_id'\u001b[0m\u001b[0;34m]\u001b[0m         \u001b[0;34m=\u001b[0m \u001b[0mpdv\u001b[0m\u001b[0;34m[\u001b[0m\u001b[0;34m'rupture_id'\u001b[0m\u001b[0;34m]\u001b[0m\u001b[0;34m.\u001b[0m\u001b[0mastype\u001b[0m\u001b[0;34m(\u001b[0m\u001b[0;34m'category'\u001b[0m\u001b[0;34m)\u001b[0m\u001b[0;34m\u001b[0m\u001b[0;34m\u001b[0m\u001b[0m\n\u001b[0m\u001b[1;32m      5\u001b[0m \u001b[0mpdv\u001b[0m\u001b[0;34m[\u001b[0m\u001b[0;34m'rupture_nom'\u001b[0m\u001b[0;34m]\u001b[0m        \u001b[0;34m=\u001b[0m \u001b[0mpdv\u001b[0m\u001b[0;34m[\u001b[0m\u001b[0;34m'rupture_nom'\u001b[0m\u001b[0;34m]\u001b[0m\u001b[0;34m.\u001b[0m\u001b[0mastype\u001b[0m\u001b[0;34m(\u001b[0m\u001b[0;34m'category'\u001b[0m\u001b[0;34m)\u001b[0m\u001b[0;34m\u001b[0m\u001b[0;34m\u001b[0m\u001b[0m\n\u001b[1;32m      6\u001b[0m \u001b[0mpdv\u001b[0m\u001b[0;34m[\u001b[0m\u001b[0;34m'fermeture_type'\u001b[0m\u001b[0;34m]\u001b[0m     \u001b[0;34m=\u001b[0m \u001b[0mpdv\u001b[0m\u001b[0;34m[\u001b[0m\u001b[0;34m'fermeture_type'\u001b[0m\u001b[0;34m]\u001b[0m\u001b[0;34m.\u001b[0m\u001b[0mastype\u001b[0m\u001b[0;34m(\u001b[0m\u001b[0;34m'category'\u001b[0m\u001b[0;34m)\u001b[0m\u001b[0;34m\u001b[0m\u001b[0;34m\u001b[0m\u001b[0m\n",
      "\u001b[0;32m~/anaconda3/lib/python3.7/site-packages/pandas/core/frame.py\u001b[0m in \u001b[0;36m__getitem__\u001b[0;34m(self, key)\u001b[0m\n\u001b[1;32m   2686\u001b[0m             \u001b[0;32mreturn\u001b[0m \u001b[0mself\u001b[0m\u001b[0;34m.\u001b[0m\u001b[0m_getitem_multilevel\u001b[0m\u001b[0;34m(\u001b[0m\u001b[0mkey\u001b[0m\u001b[0;34m)\u001b[0m\u001b[0;34m\u001b[0m\u001b[0;34m\u001b[0m\u001b[0m\n\u001b[1;32m   2687\u001b[0m         \u001b[0;32melse\u001b[0m\u001b[0;34m:\u001b[0m\u001b[0;34m\u001b[0m\u001b[0;34m\u001b[0m\u001b[0m\n\u001b[0;32m-> 2688\u001b[0;31m             \u001b[0;32mreturn\u001b[0m \u001b[0mself\u001b[0m\u001b[0;34m.\u001b[0m\u001b[0m_getitem_column\u001b[0m\u001b[0;34m(\u001b[0m\u001b[0mkey\u001b[0m\u001b[0;34m)\u001b[0m\u001b[0;34m\u001b[0m\u001b[0;34m\u001b[0m\u001b[0m\n\u001b[0m\u001b[1;32m   2689\u001b[0m \u001b[0;34m\u001b[0m\u001b[0m\n\u001b[1;32m   2690\u001b[0m     \u001b[0;32mdef\u001b[0m \u001b[0m_getitem_column\u001b[0m\u001b[0;34m(\u001b[0m\u001b[0mself\u001b[0m\u001b[0;34m,\u001b[0m \u001b[0mkey\u001b[0m\u001b[0;34m)\u001b[0m\u001b[0;34m:\u001b[0m\u001b[0;34m\u001b[0m\u001b[0;34m\u001b[0m\u001b[0m\n",
      "\u001b[0;32m~/anaconda3/lib/python3.7/site-packages/pandas/core/frame.py\u001b[0m in \u001b[0;36m_getitem_column\u001b[0;34m(self, key)\u001b[0m\n\u001b[1;32m   2693\u001b[0m         \u001b[0;31m# get column\u001b[0m\u001b[0;34m\u001b[0m\u001b[0;34m\u001b[0m\u001b[0;34m\u001b[0m\u001b[0m\n\u001b[1;32m   2694\u001b[0m         \u001b[0;32mif\u001b[0m \u001b[0mself\u001b[0m\u001b[0;34m.\u001b[0m\u001b[0mcolumns\u001b[0m\u001b[0;34m.\u001b[0m\u001b[0mis_unique\u001b[0m\u001b[0;34m:\u001b[0m\u001b[0;34m\u001b[0m\u001b[0;34m\u001b[0m\u001b[0m\n\u001b[0;32m-> 2695\u001b[0;31m             \u001b[0;32mreturn\u001b[0m \u001b[0mself\u001b[0m\u001b[0;34m.\u001b[0m\u001b[0m_get_item_cache\u001b[0m\u001b[0;34m(\u001b[0m\u001b[0mkey\u001b[0m\u001b[0;34m)\u001b[0m\u001b[0;34m\u001b[0m\u001b[0;34m\u001b[0m\u001b[0m\n\u001b[0m\u001b[1;32m   2696\u001b[0m \u001b[0;34m\u001b[0m\u001b[0m\n\u001b[1;32m   2697\u001b[0m         \u001b[0;31m# duplicate columns & possible reduce dimensionality\u001b[0m\u001b[0;34m\u001b[0m\u001b[0;34m\u001b[0m\u001b[0;34m\u001b[0m\u001b[0m\n",
      "\u001b[0;32m~/anaconda3/lib/python3.7/site-packages/pandas/core/generic.py\u001b[0m in \u001b[0;36m_get_item_cache\u001b[0;34m(self, item)\u001b[0m\n\u001b[1;32m   2487\u001b[0m         \u001b[0mres\u001b[0m \u001b[0;34m=\u001b[0m \u001b[0mcache\u001b[0m\u001b[0;34m.\u001b[0m\u001b[0mget\u001b[0m\u001b[0;34m(\u001b[0m\u001b[0mitem\u001b[0m\u001b[0;34m)\u001b[0m\u001b[0;34m\u001b[0m\u001b[0;34m\u001b[0m\u001b[0m\n\u001b[1;32m   2488\u001b[0m         \u001b[0;32mif\u001b[0m \u001b[0mres\u001b[0m \u001b[0;32mis\u001b[0m \u001b[0;32mNone\u001b[0m\u001b[0;34m:\u001b[0m\u001b[0;34m\u001b[0m\u001b[0;34m\u001b[0m\u001b[0m\n\u001b[0;32m-> 2489\u001b[0;31m             \u001b[0mvalues\u001b[0m \u001b[0;34m=\u001b[0m \u001b[0mself\u001b[0m\u001b[0;34m.\u001b[0m\u001b[0m_data\u001b[0m\u001b[0;34m.\u001b[0m\u001b[0mget\u001b[0m\u001b[0;34m(\u001b[0m\u001b[0mitem\u001b[0m\u001b[0;34m)\u001b[0m\u001b[0;34m\u001b[0m\u001b[0;34m\u001b[0m\u001b[0m\n\u001b[0m\u001b[1;32m   2490\u001b[0m             \u001b[0mres\u001b[0m \u001b[0;34m=\u001b[0m \u001b[0mself\u001b[0m\u001b[0;34m.\u001b[0m\u001b[0m_box_item_values\u001b[0m\u001b[0;34m(\u001b[0m\u001b[0mitem\u001b[0m\u001b[0;34m,\u001b[0m \u001b[0mvalues\u001b[0m\u001b[0;34m)\u001b[0m\u001b[0;34m\u001b[0m\u001b[0;34m\u001b[0m\u001b[0m\n\u001b[1;32m   2491\u001b[0m             \u001b[0mcache\u001b[0m\u001b[0;34m[\u001b[0m\u001b[0mitem\u001b[0m\u001b[0;34m]\u001b[0m \u001b[0;34m=\u001b[0m \u001b[0mres\u001b[0m\u001b[0;34m\u001b[0m\u001b[0;34m\u001b[0m\u001b[0m\n",
      "\u001b[0;32m~/anaconda3/lib/python3.7/site-packages/pandas/core/internals.py\u001b[0m in \u001b[0;36mget\u001b[0;34m(self, item, fastpath)\u001b[0m\n\u001b[1;32m   4113\u001b[0m \u001b[0;34m\u001b[0m\u001b[0m\n\u001b[1;32m   4114\u001b[0m             \u001b[0;32mif\u001b[0m \u001b[0;32mnot\u001b[0m \u001b[0misna\u001b[0m\u001b[0;34m(\u001b[0m\u001b[0mitem\u001b[0m\u001b[0;34m)\u001b[0m\u001b[0;34m:\u001b[0m\u001b[0;34m\u001b[0m\u001b[0;34m\u001b[0m\u001b[0m\n\u001b[0;32m-> 4115\u001b[0;31m                 \u001b[0mloc\u001b[0m \u001b[0;34m=\u001b[0m \u001b[0mself\u001b[0m\u001b[0;34m.\u001b[0m\u001b[0mitems\u001b[0m\u001b[0;34m.\u001b[0m\u001b[0mget_loc\u001b[0m\u001b[0;34m(\u001b[0m\u001b[0mitem\u001b[0m\u001b[0;34m)\u001b[0m\u001b[0;34m\u001b[0m\u001b[0;34m\u001b[0m\u001b[0m\n\u001b[0m\u001b[1;32m   4116\u001b[0m             \u001b[0;32melse\u001b[0m\u001b[0;34m:\u001b[0m\u001b[0;34m\u001b[0m\u001b[0;34m\u001b[0m\u001b[0m\n\u001b[1;32m   4117\u001b[0m                 \u001b[0mindexer\u001b[0m \u001b[0;34m=\u001b[0m \u001b[0mnp\u001b[0m\u001b[0;34m.\u001b[0m\u001b[0marange\u001b[0m\u001b[0;34m(\u001b[0m\u001b[0mlen\u001b[0m\u001b[0;34m(\u001b[0m\u001b[0mself\u001b[0m\u001b[0;34m.\u001b[0m\u001b[0mitems\u001b[0m\u001b[0;34m)\u001b[0m\u001b[0;34m)\u001b[0m\u001b[0;34m[\u001b[0m\u001b[0misna\u001b[0m\u001b[0;34m(\u001b[0m\u001b[0mself\u001b[0m\u001b[0;34m.\u001b[0m\u001b[0mitems\u001b[0m\u001b[0;34m)\u001b[0m\u001b[0;34m]\u001b[0m\u001b[0;34m\u001b[0m\u001b[0;34m\u001b[0m\u001b[0m\n",
      "\u001b[0;32m~/anaconda3/lib/python3.7/site-packages/pandas/core/indexes/base.py\u001b[0m in \u001b[0;36mget_loc\u001b[0;34m(self, key, method, tolerance)\u001b[0m\n\u001b[1;32m   3078\u001b[0m                 \u001b[0;32mreturn\u001b[0m \u001b[0mself\u001b[0m\u001b[0;34m.\u001b[0m\u001b[0m_engine\u001b[0m\u001b[0;34m.\u001b[0m\u001b[0mget_loc\u001b[0m\u001b[0;34m(\u001b[0m\u001b[0mkey\u001b[0m\u001b[0;34m)\u001b[0m\u001b[0;34m\u001b[0m\u001b[0;34m\u001b[0m\u001b[0m\n\u001b[1;32m   3079\u001b[0m             \u001b[0;32mexcept\u001b[0m \u001b[0mKeyError\u001b[0m\u001b[0;34m:\u001b[0m\u001b[0;34m\u001b[0m\u001b[0;34m\u001b[0m\u001b[0m\n\u001b[0;32m-> 3080\u001b[0;31m                 \u001b[0;32mreturn\u001b[0m \u001b[0mself\u001b[0m\u001b[0;34m.\u001b[0m\u001b[0m_engine\u001b[0m\u001b[0;34m.\u001b[0m\u001b[0mget_loc\u001b[0m\u001b[0;34m(\u001b[0m\u001b[0mself\u001b[0m\u001b[0;34m.\u001b[0m\u001b[0m_maybe_cast_indexer\u001b[0m\u001b[0;34m(\u001b[0m\u001b[0mkey\u001b[0m\u001b[0;34m)\u001b[0m\u001b[0;34m)\u001b[0m\u001b[0;34m\u001b[0m\u001b[0;34m\u001b[0m\u001b[0m\n\u001b[0m\u001b[1;32m   3081\u001b[0m \u001b[0;34m\u001b[0m\u001b[0m\n\u001b[1;32m   3082\u001b[0m         \u001b[0mindexer\u001b[0m \u001b[0;34m=\u001b[0m \u001b[0mself\u001b[0m\u001b[0;34m.\u001b[0m\u001b[0mget_indexer\u001b[0m\u001b[0;34m(\u001b[0m\u001b[0;34m[\u001b[0m\u001b[0mkey\u001b[0m\u001b[0;34m]\u001b[0m\u001b[0;34m,\u001b[0m \u001b[0mmethod\u001b[0m\u001b[0;34m=\u001b[0m\u001b[0mmethod\u001b[0m\u001b[0;34m,\u001b[0m \u001b[0mtolerance\u001b[0m\u001b[0;34m=\u001b[0m\u001b[0mtolerance\u001b[0m\u001b[0;34m)\u001b[0m\u001b[0;34m\u001b[0m\u001b[0;34m\u001b[0m\u001b[0m\n",
      "\u001b[0;32mpandas/_libs/index.pyx\u001b[0m in \u001b[0;36mpandas._libs.index.IndexEngine.get_loc\u001b[0;34m()\u001b[0m\n",
      "\u001b[0;32mpandas/_libs/index.pyx\u001b[0m in \u001b[0;36mpandas._libs.index.IndexEngine.get_loc\u001b[0;34m()\u001b[0m\n",
      "\u001b[0;32mpandas/_libs/hashtable_class_helper.pxi\u001b[0m in \u001b[0;36mpandas._libs.hashtable.PyObjectHashTable.get_item\u001b[0;34m()\u001b[0m\n",
      "\u001b[0;32mpandas/_libs/hashtable_class_helper.pxi\u001b[0m in \u001b[0;36mpandas._libs.hashtable.PyObjectHashTable.get_item\u001b[0;34m()\u001b[0m\n",
      "\u001b[0;31mKeyError\u001b[0m: 'rupture_id'"
     ]
    }
   ],
   "source": [
    "pdv['annee']              = pdv['annee'].astype('category')\n",
    "pdv['pop']                = pdv['pop'].astype('category')\n",
    "pdv['ouverture_saufjour'] = pdv['ouverture_saufjour'].astype('category')\n",
    "pdv['rupture_id']         = pdv['rupture_id'].astype('category')\n",
    "pdv['rupture_nom']        = pdv['rupture_nom'].astype('category')\n",
    "pdv['fermeture_type']     = pdv['fermeture_type'].astype('category')\n"
   ]
  },
  {
   "cell_type": "markdown",
   "metadata": {},
   "source": [
    "- **convertion des dates et temps**"
   ]
  },
  {
   "cell_type": "code",
   "execution_count": 11,
   "metadata": {},
   "outputs": [],
   "source": [
    "mask = pdv['ouverture_debut'].str.len() == 5\n",
    "pdv.loc[mask,'ouverture_debut'] = pdv.loc[mask,'ouverture_debut'] + \":00\""
   ]
  },
  {
   "cell_type": "code",
   "execution_count": 12,
   "metadata": {},
   "outputs": [],
   "source": [
    "mask = pdv['ouverture_fin'].str.len() == 5\n",
    "pdv.loc[mask,'ouverture_fin'] = pdv.loc[mask,'ouverture_fin'] + \":00\""
   ]
  },
  {
   "cell_type": "code",
   "execution_count": 13,
   "metadata": {},
   "outputs": [
    {
     "ename": "KeyError",
     "evalue": "'rupture_debut'",
     "output_type": "error",
     "traceback": [
      "\u001b[0;31m--------------------------------------------------------------------------\u001b[0m",
      "\u001b[0;31mKeyError\u001b[0m                                 Traceback (most recent call last)",
      "\u001b[0;32m~/anaconda3/lib/python3.7/site-packages/pandas/core/indexes/base.py\u001b[0m in \u001b[0;36mget_loc\u001b[0;34m(self, key, method, tolerance)\u001b[0m\n\u001b[1;32m   3077\u001b[0m             \u001b[0;32mtry\u001b[0m\u001b[0;34m:\u001b[0m\u001b[0;34m\u001b[0m\u001b[0;34m\u001b[0m\u001b[0m\n\u001b[0;32m-> 3078\u001b[0;31m                 \u001b[0;32mreturn\u001b[0m \u001b[0mself\u001b[0m\u001b[0;34m.\u001b[0m\u001b[0m_engine\u001b[0m\u001b[0;34m.\u001b[0m\u001b[0mget_loc\u001b[0m\u001b[0;34m(\u001b[0m\u001b[0mkey\u001b[0m\u001b[0;34m)\u001b[0m\u001b[0;34m\u001b[0m\u001b[0;34m\u001b[0m\u001b[0m\n\u001b[0m\u001b[1;32m   3079\u001b[0m             \u001b[0;32mexcept\u001b[0m \u001b[0mKeyError\u001b[0m\u001b[0;34m:\u001b[0m\u001b[0;34m\u001b[0m\u001b[0;34m\u001b[0m\u001b[0m\n",
      "\u001b[0;32mpandas/_libs/index.pyx\u001b[0m in \u001b[0;36mpandas._libs.index.IndexEngine.get_loc\u001b[0;34m()\u001b[0m\n",
      "\u001b[0;32mpandas/_libs/index.pyx\u001b[0m in \u001b[0;36mpandas._libs.index.IndexEngine.get_loc\u001b[0;34m()\u001b[0m\n",
      "\u001b[0;32mpandas/_libs/hashtable_class_helper.pxi\u001b[0m in \u001b[0;36mpandas._libs.hashtable.PyObjectHashTable.get_item\u001b[0;34m()\u001b[0m\n",
      "\u001b[0;32mpandas/_libs/hashtable_class_helper.pxi\u001b[0m in \u001b[0;36mpandas._libs.hashtable.PyObjectHashTable.get_item\u001b[0;34m()\u001b[0m\n",
      "\u001b[0;31mKeyError\u001b[0m: 'rupture_debut'",
      "\nDuring handling of the above exception, another exception occurred:\n",
      "\u001b[0;31mKeyError\u001b[0m                                 Traceback (most recent call last)",
      "\u001b[0;32m<ipython-input-13-b4be3cbb32ec>\u001b[0m in \u001b[0;36m<module>\u001b[0;34m\u001b[0m\n\u001b[0;32m----> 1\u001b[0;31m \u001b[0mmask\u001b[0m \u001b[0;34m=\u001b[0m \u001b[0mpdv\u001b[0m\u001b[0;34m[\u001b[0m\u001b[0;34m'rupture_debut'\u001b[0m\u001b[0;34m]\u001b[0m\u001b[0;34m.\u001b[0m\u001b[0mstr\u001b[0m\u001b[0;34m[\u001b[0m\u001b[0;34m:\u001b[0m\u001b[0;36m4\u001b[0m\u001b[0;34m]\u001b[0m \u001b[0;34m==\u001b[0m \u001b[0;34m\"0216\"\u001b[0m\u001b[0;34m\u001b[0m\u001b[0;34m\u001b[0m\u001b[0m\n\u001b[0m\u001b[1;32m      2\u001b[0m \u001b[0mpdv\u001b[0m\u001b[0;34m.\u001b[0m\u001b[0mloc\u001b[0m\u001b[0;34m[\u001b[0m\u001b[0mmask\u001b[0m\u001b[0;34m,\u001b[0m\u001b[0;34m'rupture_debut'\u001b[0m\u001b[0;34m]\u001b[0m \u001b[0;34m=\u001b[0m \u001b[0;34m\"2016\"\u001b[0m \u001b[0;34m+\u001b[0m \u001b[0mpdv\u001b[0m\u001b[0;34m[\u001b[0m\u001b[0mmask\u001b[0m\u001b[0;34m]\u001b[0m\u001b[0;34m[\u001b[0m\u001b[0;34m'rupture_debut'\u001b[0m\u001b[0;34m]\u001b[0m\u001b[0;34m.\u001b[0m\u001b[0mstr\u001b[0m\u001b[0;34m[\u001b[0m\u001b[0;36m4\u001b[0m\u001b[0;34m:\u001b[0m\u001b[0;34m]\u001b[0m\u001b[0;34m\u001b[0m\u001b[0;34m\u001b[0m\u001b[0m\n",
      "\u001b[0;32m~/anaconda3/lib/python3.7/site-packages/pandas/core/frame.py\u001b[0m in \u001b[0;36m__getitem__\u001b[0;34m(self, key)\u001b[0m\n\u001b[1;32m   2686\u001b[0m             \u001b[0;32mreturn\u001b[0m \u001b[0mself\u001b[0m\u001b[0;34m.\u001b[0m\u001b[0m_getitem_multilevel\u001b[0m\u001b[0;34m(\u001b[0m\u001b[0mkey\u001b[0m\u001b[0;34m)\u001b[0m\u001b[0;34m\u001b[0m\u001b[0;34m\u001b[0m\u001b[0m\n\u001b[1;32m   2687\u001b[0m         \u001b[0;32melse\u001b[0m\u001b[0;34m:\u001b[0m\u001b[0;34m\u001b[0m\u001b[0;34m\u001b[0m\u001b[0m\n\u001b[0;32m-> 2688\u001b[0;31m             \u001b[0;32mreturn\u001b[0m \u001b[0mself\u001b[0m\u001b[0;34m.\u001b[0m\u001b[0m_getitem_column\u001b[0m\u001b[0;34m(\u001b[0m\u001b[0mkey\u001b[0m\u001b[0;34m)\u001b[0m\u001b[0;34m\u001b[0m\u001b[0;34m\u001b[0m\u001b[0m\n\u001b[0m\u001b[1;32m   2689\u001b[0m \u001b[0;34m\u001b[0m\u001b[0m\n\u001b[1;32m   2690\u001b[0m     \u001b[0;32mdef\u001b[0m \u001b[0m_getitem_column\u001b[0m\u001b[0;34m(\u001b[0m\u001b[0mself\u001b[0m\u001b[0;34m,\u001b[0m \u001b[0mkey\u001b[0m\u001b[0;34m)\u001b[0m\u001b[0;34m:\u001b[0m\u001b[0;34m\u001b[0m\u001b[0;34m\u001b[0m\u001b[0m\n",
      "\u001b[0;32m~/anaconda3/lib/python3.7/site-packages/pandas/core/frame.py\u001b[0m in \u001b[0;36m_getitem_column\u001b[0;34m(self, key)\u001b[0m\n\u001b[1;32m   2693\u001b[0m         \u001b[0;31m# get column\u001b[0m\u001b[0;34m\u001b[0m\u001b[0;34m\u001b[0m\u001b[0;34m\u001b[0m\u001b[0m\n\u001b[1;32m   2694\u001b[0m         \u001b[0;32mif\u001b[0m \u001b[0mself\u001b[0m\u001b[0;34m.\u001b[0m\u001b[0mcolumns\u001b[0m\u001b[0;34m.\u001b[0m\u001b[0mis_unique\u001b[0m\u001b[0;34m:\u001b[0m\u001b[0;34m\u001b[0m\u001b[0;34m\u001b[0m\u001b[0m\n\u001b[0;32m-> 2695\u001b[0;31m             \u001b[0;32mreturn\u001b[0m \u001b[0mself\u001b[0m\u001b[0;34m.\u001b[0m\u001b[0m_get_item_cache\u001b[0m\u001b[0;34m(\u001b[0m\u001b[0mkey\u001b[0m\u001b[0;34m)\u001b[0m\u001b[0;34m\u001b[0m\u001b[0;34m\u001b[0m\u001b[0m\n\u001b[0m\u001b[1;32m   2696\u001b[0m \u001b[0;34m\u001b[0m\u001b[0m\n\u001b[1;32m   2697\u001b[0m         \u001b[0;31m# duplicate columns & possible reduce dimensionality\u001b[0m\u001b[0;34m\u001b[0m\u001b[0;34m\u001b[0m\u001b[0;34m\u001b[0m\u001b[0m\n",
      "\u001b[0;32m~/anaconda3/lib/python3.7/site-packages/pandas/core/generic.py\u001b[0m in \u001b[0;36m_get_item_cache\u001b[0;34m(self, item)\u001b[0m\n\u001b[1;32m   2487\u001b[0m         \u001b[0mres\u001b[0m \u001b[0;34m=\u001b[0m \u001b[0mcache\u001b[0m\u001b[0;34m.\u001b[0m\u001b[0mget\u001b[0m\u001b[0;34m(\u001b[0m\u001b[0mitem\u001b[0m\u001b[0;34m)\u001b[0m\u001b[0;34m\u001b[0m\u001b[0;34m\u001b[0m\u001b[0m\n\u001b[1;32m   2488\u001b[0m         \u001b[0;32mif\u001b[0m \u001b[0mres\u001b[0m \u001b[0;32mis\u001b[0m \u001b[0;32mNone\u001b[0m\u001b[0;34m:\u001b[0m\u001b[0;34m\u001b[0m\u001b[0;34m\u001b[0m\u001b[0m\n\u001b[0;32m-> 2489\u001b[0;31m             \u001b[0mvalues\u001b[0m \u001b[0;34m=\u001b[0m \u001b[0mself\u001b[0m\u001b[0;34m.\u001b[0m\u001b[0m_data\u001b[0m\u001b[0;34m.\u001b[0m\u001b[0mget\u001b[0m\u001b[0;34m(\u001b[0m\u001b[0mitem\u001b[0m\u001b[0;34m)\u001b[0m\u001b[0;34m\u001b[0m\u001b[0;34m\u001b[0m\u001b[0m\n\u001b[0m\u001b[1;32m   2490\u001b[0m             \u001b[0mres\u001b[0m \u001b[0;34m=\u001b[0m \u001b[0mself\u001b[0m\u001b[0;34m.\u001b[0m\u001b[0m_box_item_values\u001b[0m\u001b[0;34m(\u001b[0m\u001b[0mitem\u001b[0m\u001b[0;34m,\u001b[0m \u001b[0mvalues\u001b[0m\u001b[0;34m)\u001b[0m\u001b[0;34m\u001b[0m\u001b[0;34m\u001b[0m\u001b[0m\n\u001b[1;32m   2491\u001b[0m             \u001b[0mcache\u001b[0m\u001b[0;34m[\u001b[0m\u001b[0mitem\u001b[0m\u001b[0;34m]\u001b[0m \u001b[0;34m=\u001b[0m \u001b[0mres\u001b[0m\u001b[0;34m\u001b[0m\u001b[0;34m\u001b[0m\u001b[0m\n",
      "\u001b[0;32m~/anaconda3/lib/python3.7/site-packages/pandas/core/internals.py\u001b[0m in \u001b[0;36mget\u001b[0;34m(self, item, fastpath)\u001b[0m\n\u001b[1;32m   4113\u001b[0m \u001b[0;34m\u001b[0m\u001b[0m\n\u001b[1;32m   4114\u001b[0m             \u001b[0;32mif\u001b[0m \u001b[0;32mnot\u001b[0m \u001b[0misna\u001b[0m\u001b[0;34m(\u001b[0m\u001b[0mitem\u001b[0m\u001b[0;34m)\u001b[0m\u001b[0;34m:\u001b[0m\u001b[0;34m\u001b[0m\u001b[0;34m\u001b[0m\u001b[0m\n\u001b[0;32m-> 4115\u001b[0;31m                 \u001b[0mloc\u001b[0m \u001b[0;34m=\u001b[0m \u001b[0mself\u001b[0m\u001b[0;34m.\u001b[0m\u001b[0mitems\u001b[0m\u001b[0;34m.\u001b[0m\u001b[0mget_loc\u001b[0m\u001b[0;34m(\u001b[0m\u001b[0mitem\u001b[0m\u001b[0;34m)\u001b[0m\u001b[0;34m\u001b[0m\u001b[0;34m\u001b[0m\u001b[0m\n\u001b[0m\u001b[1;32m   4116\u001b[0m             \u001b[0;32melse\u001b[0m\u001b[0;34m:\u001b[0m\u001b[0;34m\u001b[0m\u001b[0;34m\u001b[0m\u001b[0m\n\u001b[1;32m   4117\u001b[0m                 \u001b[0mindexer\u001b[0m \u001b[0;34m=\u001b[0m \u001b[0mnp\u001b[0m\u001b[0;34m.\u001b[0m\u001b[0marange\u001b[0m\u001b[0;34m(\u001b[0m\u001b[0mlen\u001b[0m\u001b[0;34m(\u001b[0m\u001b[0mself\u001b[0m\u001b[0;34m.\u001b[0m\u001b[0mitems\u001b[0m\u001b[0;34m)\u001b[0m\u001b[0;34m)\u001b[0m\u001b[0;34m[\u001b[0m\u001b[0misna\u001b[0m\u001b[0;34m(\u001b[0m\u001b[0mself\u001b[0m\u001b[0;34m.\u001b[0m\u001b[0mitems\u001b[0m\u001b[0;34m)\u001b[0m\u001b[0;34m]\u001b[0m\u001b[0;34m\u001b[0m\u001b[0;34m\u001b[0m\u001b[0m\n",
      "\u001b[0;32m~/anaconda3/lib/python3.7/site-packages/pandas/core/indexes/base.py\u001b[0m in \u001b[0;36mget_loc\u001b[0;34m(self, key, method, tolerance)\u001b[0m\n\u001b[1;32m   3078\u001b[0m                 \u001b[0;32mreturn\u001b[0m \u001b[0mself\u001b[0m\u001b[0;34m.\u001b[0m\u001b[0m_engine\u001b[0m\u001b[0;34m.\u001b[0m\u001b[0mget_loc\u001b[0m\u001b[0;34m(\u001b[0m\u001b[0mkey\u001b[0m\u001b[0;34m)\u001b[0m\u001b[0;34m\u001b[0m\u001b[0;34m\u001b[0m\u001b[0m\n\u001b[1;32m   3079\u001b[0m             \u001b[0;32mexcept\u001b[0m \u001b[0mKeyError\u001b[0m\u001b[0;34m:\u001b[0m\u001b[0;34m\u001b[0m\u001b[0;34m\u001b[0m\u001b[0m\n\u001b[0;32m-> 3080\u001b[0;31m                 \u001b[0;32mreturn\u001b[0m \u001b[0mself\u001b[0m\u001b[0;34m.\u001b[0m\u001b[0m_engine\u001b[0m\u001b[0;34m.\u001b[0m\u001b[0mget_loc\u001b[0m\u001b[0;34m(\u001b[0m\u001b[0mself\u001b[0m\u001b[0;34m.\u001b[0m\u001b[0m_maybe_cast_indexer\u001b[0m\u001b[0;34m(\u001b[0m\u001b[0mkey\u001b[0m\u001b[0;34m)\u001b[0m\u001b[0;34m)\u001b[0m\u001b[0;34m\u001b[0m\u001b[0;34m\u001b[0m\u001b[0m\n\u001b[0m\u001b[1;32m   3081\u001b[0m \u001b[0;34m\u001b[0m\u001b[0m\n\u001b[1;32m   3082\u001b[0m         \u001b[0mindexer\u001b[0m \u001b[0;34m=\u001b[0m \u001b[0mself\u001b[0m\u001b[0;34m.\u001b[0m\u001b[0mget_indexer\u001b[0m\u001b[0;34m(\u001b[0m\u001b[0;34m[\u001b[0m\u001b[0mkey\u001b[0m\u001b[0;34m]\u001b[0m\u001b[0;34m,\u001b[0m \u001b[0mmethod\u001b[0m\u001b[0;34m=\u001b[0m\u001b[0mmethod\u001b[0m\u001b[0;34m,\u001b[0m \u001b[0mtolerance\u001b[0m\u001b[0;34m=\u001b[0m\u001b[0mtolerance\u001b[0m\u001b[0;34m)\u001b[0m\u001b[0;34m\u001b[0m\u001b[0;34m\u001b[0m\u001b[0m\n",
      "\u001b[0;32mpandas/_libs/index.pyx\u001b[0m in \u001b[0;36mpandas._libs.index.IndexEngine.get_loc\u001b[0;34m()\u001b[0m\n",
      "\u001b[0;32mpandas/_libs/index.pyx\u001b[0m in \u001b[0;36mpandas._libs.index.IndexEngine.get_loc\u001b[0;34m()\u001b[0m\n",
      "\u001b[0;32mpandas/_libs/hashtable_class_helper.pxi\u001b[0m in \u001b[0;36mpandas._libs.hashtable.PyObjectHashTable.get_item\u001b[0;34m()\u001b[0m\n",
      "\u001b[0;32mpandas/_libs/hashtable_class_helper.pxi\u001b[0m in \u001b[0;36mpandas._libs.hashtable.PyObjectHashTable.get_item\u001b[0;34m()\u001b[0m\n",
      "\u001b[0;31mKeyError\u001b[0m: 'rupture_debut'"
     ]
    }
   ],
   "source": [
    "mask = pdv['rupture_debut'].str[:4] == \"0216\"\n",
    "pdv.loc[mask,'rupture_debut'] = \"2016\" + pdv[mask]['rupture_debut'].str[4:]"
   ]
  },
  {
   "cell_type": "code",
   "execution_count": 77,
   "metadata": {},
   "outputs": [
    {
     "data": {
      "text/plain": [
       "Series([], Name: rupture_debut, dtype: object)"
      ]
     },
     "execution_count": 77,
     "metadata": {},
     "output_type": "execute_result"
    }
   ],
   "source": [
    "mask = pdv['rupture_debut'].str[:4] == \"0216\"\n",
    "pdv[mask]['rupture_debut']"
   ]
  },
  {
   "cell_type": "code",
   "execution_count": 14,
   "metadata": {},
   "outputs": [],
   "source": [
    "pdv['ouverture_debut'] = pd.to_timedelta((pdv['ouverture_debut']))\n",
    "pdv['ouverture_fin']   = pd.to_timedelta((pdv['ouverture_fin']))"
   ]
  },
  {
   "cell_type": "code",
   "execution_count": 15,
   "metadata": {},
   "outputs": [
    {
     "data": {
      "text/plain": [
       "(Timedelta('0 days 01:00:00'), Timedelta('0 days 01:00:00'))"
      ]
     },
     "execution_count": 15,
     "metadata": {},
     "output_type": "execute_result"
    }
   ],
   "source": [
    "pdv['ouverture_debut'][136707] , pdv['ouverture_fin'][136707]"
   ]
  },
  {
   "cell_type": "code",
   "execution_count": 16,
   "metadata": {},
   "outputs": [
    {
     "data": {
      "text/plain": [
       "Timedelta('0 days 00:00:00')"
      ]
     },
     "execution_count": 16,
     "metadata": {},
     "output_type": "execute_result"
    }
   ],
   "source": [
    "pdv['ouverture_fin'][136707] - pdv['ouverture_debut'][136707]"
   ]
  },
  {
   "cell_type": "code",
   "execution_count": 17,
   "metadata": {},
   "outputs": [
    {
     "name": "stdout",
     "output_type": "stream",
     "text": [
      "<class 'pandas.core.frame.DataFrame'>\n",
      "RangeIndex: 140724 entries, 0 to 140723\n",
      "Data columns (total 11 columns):\n",
      "annee                 140724 non-null int64\n",
      "id                    140724 non-null int64\n",
      "latitude              139648 non-null float64\n",
      "longitude             139671 non-null float64\n",
      "cp                    140724 non-null object\n",
      "pop                   140724 non-null object\n",
      "ouverture_debut       128011 non-null timedelta64[ns]\n",
      "ouverture_fin         128011 non-null timedelta64[ns]\n",
      "ouverture_saufjour    21623 non-null object\n",
      "adresse               140724 non-null object\n",
      "ville                 140724 non-null object\n",
      "dtypes: float64(2), int64(2), object(5), timedelta64[ns](2)\n",
      "memory usage: 11.8+ MB\n"
     ]
    }
   ],
   "source": [
    "pdv.info()"
   ]
  },
  {
   "cell_type": "code",
   "execution_count": 18,
   "metadata": {},
   "outputs": [
    {
     "ename": "KeyError",
     "evalue": "'rupture_debut'",
     "output_type": "error",
     "traceback": [
      "\u001b[0;31m--------------------------------------------------------------------------\u001b[0m",
      "\u001b[0;31mKeyError\u001b[0m                                 Traceback (most recent call last)",
      "\u001b[0;32m~/anaconda3/lib/python3.7/site-packages/pandas/core/indexes/base.py\u001b[0m in \u001b[0;36mget_loc\u001b[0;34m(self, key, method, tolerance)\u001b[0m\n\u001b[1;32m   3077\u001b[0m             \u001b[0;32mtry\u001b[0m\u001b[0;34m:\u001b[0m\u001b[0;34m\u001b[0m\u001b[0;34m\u001b[0m\u001b[0m\n\u001b[0;32m-> 3078\u001b[0;31m                 \u001b[0;32mreturn\u001b[0m \u001b[0mself\u001b[0m\u001b[0;34m.\u001b[0m\u001b[0m_engine\u001b[0m\u001b[0;34m.\u001b[0m\u001b[0mget_loc\u001b[0m\u001b[0;34m(\u001b[0m\u001b[0mkey\u001b[0m\u001b[0;34m)\u001b[0m\u001b[0;34m\u001b[0m\u001b[0;34m\u001b[0m\u001b[0m\n\u001b[0m\u001b[1;32m   3079\u001b[0m             \u001b[0;32mexcept\u001b[0m \u001b[0mKeyError\u001b[0m\u001b[0;34m:\u001b[0m\u001b[0;34m\u001b[0m\u001b[0;34m\u001b[0m\u001b[0m\n",
      "\u001b[0;32mpandas/_libs/index.pyx\u001b[0m in \u001b[0;36mpandas._libs.index.IndexEngine.get_loc\u001b[0;34m()\u001b[0m\n",
      "\u001b[0;32mpandas/_libs/index.pyx\u001b[0m in \u001b[0;36mpandas._libs.index.IndexEngine.get_loc\u001b[0;34m()\u001b[0m\n",
      "\u001b[0;32mpandas/_libs/hashtable_class_helper.pxi\u001b[0m in \u001b[0;36mpandas._libs.hashtable.PyObjectHashTable.get_item\u001b[0;34m()\u001b[0m\n",
      "\u001b[0;32mpandas/_libs/hashtable_class_helper.pxi\u001b[0m in \u001b[0;36mpandas._libs.hashtable.PyObjectHashTable.get_item\u001b[0;34m()\u001b[0m\n",
      "\u001b[0;31mKeyError\u001b[0m: 'rupture_debut'",
      "\nDuring handling of the above exception, another exception occurred:\n",
      "\u001b[0;31mKeyError\u001b[0m                                 Traceback (most recent call last)",
      "\u001b[0;32m<ipython-input-18-bbf54cf072d4>\u001b[0m in \u001b[0;36m<module>\u001b[0;34m\u001b[0m\n\u001b[0;32m----> 1\u001b[0;31m \u001b[0mpdv\u001b[0m\u001b[0;34m[\u001b[0m\u001b[0;34m'rupture_debut'\u001b[0m\u001b[0;34m]\u001b[0m   \u001b[0;34m=\u001b[0m \u001b[0mpd\u001b[0m\u001b[0;34m.\u001b[0m\u001b[0mto_datetime\u001b[0m\u001b[0;34m(\u001b[0m\u001b[0mpdv\u001b[0m\u001b[0;34m[\u001b[0m\u001b[0;34m'rupture_debut'\u001b[0m\u001b[0;34m]\u001b[0m\u001b[0;34m)\u001b[0m\u001b[0;34m\u001b[0m\u001b[0;34m\u001b[0m\u001b[0m\n\u001b[0m\u001b[1;32m      2\u001b[0m \u001b[0mpdv\u001b[0m\u001b[0;34m[\u001b[0m\u001b[0;34m'rupture_fin'\u001b[0m\u001b[0;34m]\u001b[0m     \u001b[0;34m=\u001b[0m \u001b[0mpd\u001b[0m\u001b[0;34m.\u001b[0m\u001b[0mto_datetime\u001b[0m\u001b[0;34m(\u001b[0m\u001b[0mpdv\u001b[0m\u001b[0;34m[\u001b[0m\u001b[0;34m'rupture_fin'\u001b[0m\u001b[0;34m]\u001b[0m\u001b[0;34m)\u001b[0m\u001b[0;34m\u001b[0m\u001b[0;34m\u001b[0m\u001b[0m\n\u001b[1;32m      3\u001b[0m \u001b[0mpdv\u001b[0m\u001b[0;34m[\u001b[0m\u001b[0;34m'fermeture_debut'\u001b[0m\u001b[0;34m]\u001b[0m \u001b[0;34m=\u001b[0m \u001b[0mpd\u001b[0m\u001b[0;34m.\u001b[0m\u001b[0mto_datetime\u001b[0m\u001b[0;34m(\u001b[0m\u001b[0mpdv\u001b[0m\u001b[0;34m[\u001b[0m\u001b[0;34m'fermeture_debut'\u001b[0m\u001b[0;34m]\u001b[0m\u001b[0;34m)\u001b[0m\u001b[0;34m\u001b[0m\u001b[0;34m\u001b[0m\u001b[0m\n\u001b[1;32m      4\u001b[0m \u001b[0mpdv\u001b[0m\u001b[0;34m[\u001b[0m\u001b[0;34m'fermeture_fin'\u001b[0m\u001b[0;34m]\u001b[0m   \u001b[0;34m=\u001b[0m \u001b[0mpd\u001b[0m\u001b[0;34m.\u001b[0m\u001b[0mto_datetime\u001b[0m\u001b[0;34m(\u001b[0m\u001b[0mpdv\u001b[0m\u001b[0;34m[\u001b[0m\u001b[0;34m'fermeture_fin'\u001b[0m\u001b[0;34m]\u001b[0m\u001b[0;34m)\u001b[0m\u001b[0;34m\u001b[0m\u001b[0;34m\u001b[0m\u001b[0m\n",
      "\u001b[0;32m~/anaconda3/lib/python3.7/site-packages/pandas/core/frame.py\u001b[0m in \u001b[0;36m__getitem__\u001b[0;34m(self, key)\u001b[0m\n\u001b[1;32m   2686\u001b[0m             \u001b[0;32mreturn\u001b[0m \u001b[0mself\u001b[0m\u001b[0;34m.\u001b[0m\u001b[0m_getitem_multilevel\u001b[0m\u001b[0;34m(\u001b[0m\u001b[0mkey\u001b[0m\u001b[0;34m)\u001b[0m\u001b[0;34m\u001b[0m\u001b[0;34m\u001b[0m\u001b[0m\n\u001b[1;32m   2687\u001b[0m         \u001b[0;32melse\u001b[0m\u001b[0;34m:\u001b[0m\u001b[0;34m\u001b[0m\u001b[0;34m\u001b[0m\u001b[0m\n\u001b[0;32m-> 2688\u001b[0;31m             \u001b[0;32mreturn\u001b[0m \u001b[0mself\u001b[0m\u001b[0;34m.\u001b[0m\u001b[0m_getitem_column\u001b[0m\u001b[0;34m(\u001b[0m\u001b[0mkey\u001b[0m\u001b[0;34m)\u001b[0m\u001b[0;34m\u001b[0m\u001b[0;34m\u001b[0m\u001b[0m\n\u001b[0m\u001b[1;32m   2689\u001b[0m \u001b[0;34m\u001b[0m\u001b[0m\n\u001b[1;32m   2690\u001b[0m     \u001b[0;32mdef\u001b[0m \u001b[0m_getitem_column\u001b[0m\u001b[0;34m(\u001b[0m\u001b[0mself\u001b[0m\u001b[0;34m,\u001b[0m \u001b[0mkey\u001b[0m\u001b[0;34m)\u001b[0m\u001b[0;34m:\u001b[0m\u001b[0;34m\u001b[0m\u001b[0;34m\u001b[0m\u001b[0m\n",
      "\u001b[0;32m~/anaconda3/lib/python3.7/site-packages/pandas/core/frame.py\u001b[0m in \u001b[0;36m_getitem_column\u001b[0;34m(self, key)\u001b[0m\n\u001b[1;32m   2693\u001b[0m         \u001b[0;31m# get column\u001b[0m\u001b[0;34m\u001b[0m\u001b[0;34m\u001b[0m\u001b[0;34m\u001b[0m\u001b[0m\n\u001b[1;32m   2694\u001b[0m         \u001b[0;32mif\u001b[0m \u001b[0mself\u001b[0m\u001b[0;34m.\u001b[0m\u001b[0mcolumns\u001b[0m\u001b[0;34m.\u001b[0m\u001b[0mis_unique\u001b[0m\u001b[0;34m:\u001b[0m\u001b[0;34m\u001b[0m\u001b[0;34m\u001b[0m\u001b[0m\n\u001b[0;32m-> 2695\u001b[0;31m             \u001b[0;32mreturn\u001b[0m \u001b[0mself\u001b[0m\u001b[0;34m.\u001b[0m\u001b[0m_get_item_cache\u001b[0m\u001b[0;34m(\u001b[0m\u001b[0mkey\u001b[0m\u001b[0;34m)\u001b[0m\u001b[0;34m\u001b[0m\u001b[0;34m\u001b[0m\u001b[0m\n\u001b[0m\u001b[1;32m   2696\u001b[0m \u001b[0;34m\u001b[0m\u001b[0m\n\u001b[1;32m   2697\u001b[0m         \u001b[0;31m# duplicate columns & possible reduce dimensionality\u001b[0m\u001b[0;34m\u001b[0m\u001b[0;34m\u001b[0m\u001b[0;34m\u001b[0m\u001b[0m\n",
      "\u001b[0;32m~/anaconda3/lib/python3.7/site-packages/pandas/core/generic.py\u001b[0m in \u001b[0;36m_get_item_cache\u001b[0;34m(self, item)\u001b[0m\n\u001b[1;32m   2487\u001b[0m         \u001b[0mres\u001b[0m \u001b[0;34m=\u001b[0m \u001b[0mcache\u001b[0m\u001b[0;34m.\u001b[0m\u001b[0mget\u001b[0m\u001b[0;34m(\u001b[0m\u001b[0mitem\u001b[0m\u001b[0;34m)\u001b[0m\u001b[0;34m\u001b[0m\u001b[0;34m\u001b[0m\u001b[0m\n\u001b[1;32m   2488\u001b[0m         \u001b[0;32mif\u001b[0m \u001b[0mres\u001b[0m \u001b[0;32mis\u001b[0m \u001b[0;32mNone\u001b[0m\u001b[0;34m:\u001b[0m\u001b[0;34m\u001b[0m\u001b[0;34m\u001b[0m\u001b[0m\n\u001b[0;32m-> 2489\u001b[0;31m             \u001b[0mvalues\u001b[0m \u001b[0;34m=\u001b[0m \u001b[0mself\u001b[0m\u001b[0;34m.\u001b[0m\u001b[0m_data\u001b[0m\u001b[0;34m.\u001b[0m\u001b[0mget\u001b[0m\u001b[0;34m(\u001b[0m\u001b[0mitem\u001b[0m\u001b[0;34m)\u001b[0m\u001b[0;34m\u001b[0m\u001b[0;34m\u001b[0m\u001b[0m\n\u001b[0m\u001b[1;32m   2490\u001b[0m             \u001b[0mres\u001b[0m \u001b[0;34m=\u001b[0m \u001b[0mself\u001b[0m\u001b[0;34m.\u001b[0m\u001b[0m_box_item_values\u001b[0m\u001b[0;34m(\u001b[0m\u001b[0mitem\u001b[0m\u001b[0;34m,\u001b[0m \u001b[0mvalues\u001b[0m\u001b[0;34m)\u001b[0m\u001b[0;34m\u001b[0m\u001b[0;34m\u001b[0m\u001b[0m\n\u001b[1;32m   2491\u001b[0m             \u001b[0mcache\u001b[0m\u001b[0;34m[\u001b[0m\u001b[0mitem\u001b[0m\u001b[0;34m]\u001b[0m \u001b[0;34m=\u001b[0m \u001b[0mres\u001b[0m\u001b[0;34m\u001b[0m\u001b[0;34m\u001b[0m\u001b[0m\n",
      "\u001b[0;32m~/anaconda3/lib/python3.7/site-packages/pandas/core/internals.py\u001b[0m in \u001b[0;36mget\u001b[0;34m(self, item, fastpath)\u001b[0m\n\u001b[1;32m   4113\u001b[0m \u001b[0;34m\u001b[0m\u001b[0m\n\u001b[1;32m   4114\u001b[0m             \u001b[0;32mif\u001b[0m \u001b[0;32mnot\u001b[0m \u001b[0misna\u001b[0m\u001b[0;34m(\u001b[0m\u001b[0mitem\u001b[0m\u001b[0;34m)\u001b[0m\u001b[0;34m:\u001b[0m\u001b[0;34m\u001b[0m\u001b[0;34m\u001b[0m\u001b[0m\n\u001b[0;32m-> 4115\u001b[0;31m                 \u001b[0mloc\u001b[0m \u001b[0;34m=\u001b[0m \u001b[0mself\u001b[0m\u001b[0;34m.\u001b[0m\u001b[0mitems\u001b[0m\u001b[0;34m.\u001b[0m\u001b[0mget_loc\u001b[0m\u001b[0;34m(\u001b[0m\u001b[0mitem\u001b[0m\u001b[0;34m)\u001b[0m\u001b[0;34m\u001b[0m\u001b[0;34m\u001b[0m\u001b[0m\n\u001b[0m\u001b[1;32m   4116\u001b[0m             \u001b[0;32melse\u001b[0m\u001b[0;34m:\u001b[0m\u001b[0;34m\u001b[0m\u001b[0;34m\u001b[0m\u001b[0m\n\u001b[1;32m   4117\u001b[0m                 \u001b[0mindexer\u001b[0m \u001b[0;34m=\u001b[0m \u001b[0mnp\u001b[0m\u001b[0;34m.\u001b[0m\u001b[0marange\u001b[0m\u001b[0;34m(\u001b[0m\u001b[0mlen\u001b[0m\u001b[0;34m(\u001b[0m\u001b[0mself\u001b[0m\u001b[0;34m.\u001b[0m\u001b[0mitems\u001b[0m\u001b[0;34m)\u001b[0m\u001b[0;34m)\u001b[0m\u001b[0;34m[\u001b[0m\u001b[0misna\u001b[0m\u001b[0;34m(\u001b[0m\u001b[0mself\u001b[0m\u001b[0;34m.\u001b[0m\u001b[0mitems\u001b[0m\u001b[0;34m)\u001b[0m\u001b[0;34m]\u001b[0m\u001b[0;34m\u001b[0m\u001b[0;34m\u001b[0m\u001b[0m\n",
      "\u001b[0;32m~/anaconda3/lib/python3.7/site-packages/pandas/core/indexes/base.py\u001b[0m in \u001b[0;36mget_loc\u001b[0;34m(self, key, method, tolerance)\u001b[0m\n\u001b[1;32m   3078\u001b[0m                 \u001b[0;32mreturn\u001b[0m \u001b[0mself\u001b[0m\u001b[0;34m.\u001b[0m\u001b[0m_engine\u001b[0m\u001b[0;34m.\u001b[0m\u001b[0mget_loc\u001b[0m\u001b[0;34m(\u001b[0m\u001b[0mkey\u001b[0m\u001b[0;34m)\u001b[0m\u001b[0;34m\u001b[0m\u001b[0;34m\u001b[0m\u001b[0m\n\u001b[1;32m   3079\u001b[0m             \u001b[0;32mexcept\u001b[0m \u001b[0mKeyError\u001b[0m\u001b[0;34m:\u001b[0m\u001b[0;34m\u001b[0m\u001b[0;34m\u001b[0m\u001b[0m\n\u001b[0;32m-> 3080\u001b[0;31m                 \u001b[0;32mreturn\u001b[0m \u001b[0mself\u001b[0m\u001b[0;34m.\u001b[0m\u001b[0m_engine\u001b[0m\u001b[0;34m.\u001b[0m\u001b[0mget_loc\u001b[0m\u001b[0;34m(\u001b[0m\u001b[0mself\u001b[0m\u001b[0;34m.\u001b[0m\u001b[0m_maybe_cast_indexer\u001b[0m\u001b[0;34m(\u001b[0m\u001b[0mkey\u001b[0m\u001b[0;34m)\u001b[0m\u001b[0;34m)\u001b[0m\u001b[0;34m\u001b[0m\u001b[0;34m\u001b[0m\u001b[0m\n\u001b[0m\u001b[1;32m   3081\u001b[0m \u001b[0;34m\u001b[0m\u001b[0m\n\u001b[1;32m   3082\u001b[0m         \u001b[0mindexer\u001b[0m \u001b[0;34m=\u001b[0m \u001b[0mself\u001b[0m\u001b[0;34m.\u001b[0m\u001b[0mget_indexer\u001b[0m\u001b[0;34m(\u001b[0m\u001b[0;34m[\u001b[0m\u001b[0mkey\u001b[0m\u001b[0;34m]\u001b[0m\u001b[0;34m,\u001b[0m \u001b[0mmethod\u001b[0m\u001b[0;34m=\u001b[0m\u001b[0mmethod\u001b[0m\u001b[0;34m,\u001b[0m \u001b[0mtolerance\u001b[0m\u001b[0;34m=\u001b[0m\u001b[0mtolerance\u001b[0m\u001b[0;34m)\u001b[0m\u001b[0;34m\u001b[0m\u001b[0;34m\u001b[0m\u001b[0m\n",
      "\u001b[0;32mpandas/_libs/index.pyx\u001b[0m in \u001b[0;36mpandas._libs.index.IndexEngine.get_loc\u001b[0;34m()\u001b[0m\n",
      "\u001b[0;32mpandas/_libs/index.pyx\u001b[0m in \u001b[0;36mpandas._libs.index.IndexEngine.get_loc\u001b[0;34m()\u001b[0m\n",
      "\u001b[0;32mpandas/_libs/hashtable_class_helper.pxi\u001b[0m in \u001b[0;36mpandas._libs.hashtable.PyObjectHashTable.get_item\u001b[0;34m()\u001b[0m\n",
      "\u001b[0;32mpandas/_libs/hashtable_class_helper.pxi\u001b[0m in \u001b[0;36mpandas._libs.hashtable.PyObjectHashTable.get_item\u001b[0;34m()\u001b[0m\n",
      "\u001b[0;31mKeyError\u001b[0m: 'rupture_debut'"
     ]
    }
   ],
   "source": [
    "pdv['rupture_debut']   = pd.to_datetime(pdv['rupture_debut'])\n",
    "pdv['rupture_fin']     = pd.to_datetime(pdv['rupture_fin'])\n",
    "pdv['fermeture_debut'] = pd.to_datetime(pdv['fermeture_debut'])\n",
    "pdv['fermeture_fin']   = pd.to_datetime(pdv['fermeture_fin'])"
   ]
  },
  {
   "cell_type": "code",
   "execution_count": 23,
   "metadata": {},
   "outputs": [
    {
     "name": "stdout",
     "output_type": "stream",
     "text": [
      "<class 'pandas.core.frame.DataFrame'>\n",
      "RangeIndex: 136712 entries, 0 to 136711\n",
      "Data columns (total 18 columns):\n",
      "annee                 136712 non-null category\n",
      "id                    136712 non-null int64\n",
      "latitude              135706 non-null float64\n",
      "longitude             135728 non-null float64\n",
      "cp                    136712 non-null object\n",
      "pop                   136712 non-null category\n",
      "ouverture_debut       124114 non-null timedelta64[ns]\n",
      "ouverture_fin         124114 non-null timedelta64[ns]\n",
      "ouverture_saufjour    136712 non-null category\n",
      "adresse               136712 non-null object\n",
      "ville                 136709 non-null object\n",
      "rupture_id            136712 non-null category\n",
      "rupture_nom           136712 non-null category\n",
      "rupture_debut         136712 non-null datetime64[ns]\n",
      "rupture_fin           44013 non-null datetime64[ns]\n",
      "fermeture_type        136669 non-null category\n",
      "fermeture_debut       136669 non-null datetime64[ns]\n",
      "fermeture_fin         39851 non-null datetime64[ns]\n",
      "dtypes: category(6), datetime64[ns](4), float64(2), int64(1), object(3), timedelta64[ns](2)\n",
      "memory usage: 13.3+ MB\n"
     ]
    }
   ],
   "source": [
    "pdv.info()"
   ]
  },
  {
   "cell_type": "code",
   "execution_count": 98,
   "metadata": {},
   "outputs": [
    {
     "data": {
      "text/html": [
       "<div>\n",
       "<style scoped>\n",
       "    .dataframe tbody tr th:only-of-type {\n",
       "        vertical-align: middle;\n",
       "    }\n",
       "\n",
       "    .dataframe tbody tr th {\n",
       "        vertical-align: top;\n",
       "    }\n",
       "\n",
       "    .dataframe thead th {\n",
       "        text-align: right;\n",
       "    }\n",
       "</style>\n",
       "<table border=\"1\" class=\"dataframe\">\n",
       "  <thead>\n",
       "    <tr style=\"text-align: right;\">\n",
       "      <th></th>\n",
       "      <th>annee</th>\n",
       "      <th>id</th>\n",
       "      <th>latitude</th>\n",
       "      <th>longitude</th>\n",
       "      <th>cp</th>\n",
       "      <th>pop</th>\n",
       "      <th>ouverture_debut</th>\n",
       "      <th>ouverture_fin</th>\n",
       "      <th>ouverture_saufjour</th>\n",
       "      <th>adresse</th>\n",
       "      <th>ville</th>\n",
       "      <th>rupture_id</th>\n",
       "      <th>rupture_nom</th>\n",
       "      <th>rupture_debut</th>\n",
       "      <th>rupture_fin</th>\n",
       "      <th>fermeture_type</th>\n",
       "      <th>fermeture_debut</th>\n",
       "      <th>fermeture_fin</th>\n",
       "    </tr>\n",
       "  </thead>\n",
       "  <tbody>\n",
       "    <tr>\n",
       "      <th>0</th>\n",
       "      <td>2007</td>\n",
       "      <td>1000001</td>\n",
       "      <td>4.620114e+06</td>\n",
       "      <td>519791.000000</td>\n",
       "      <td>01000</td>\n",
       "      <td>R</td>\n",
       "      <td>01:00:00</td>\n",
       "      <td>01:00:00</td>\n",
       "      <td>NaN</td>\n",
       "      <td>ROUTE NATIONALE</td>\n",
       "      <td>S-BOURG</td>\n",
       "      <td>NaN</td>\n",
       "      <td>NaN</td>\n",
       "      <td>NaN</td>\n",
       "      <td>NaN</td>\n",
       "      <td>NaN</td>\n",
       "      <td>NaN</td>\n",
       "      <td>NaN</td>\n",
       "    </tr>\n",
       "    <tr>\n",
       "      <th>1</th>\n",
       "      <td>2007</td>\n",
       "      <td>1000002</td>\n",
       "      <td>4.621842e+06</td>\n",
       "      <td>522767.000000</td>\n",
       "      <td>01000</td>\n",
       "      <td>R</td>\n",
       "      <td>08:45:00</td>\n",
       "      <td>19:30:00</td>\n",
       "      <td>Dimanche</td>\n",
       "      <td>16 Avenue de Marboz</td>\n",
       "      <td>BOURG-EN-BRESSE</td>\n",
       "      <td>NaN</td>\n",
       "      <td>NaN</td>\n",
       "      <td>NaN</td>\n",
       "      <td>NaN</td>\n",
       "      <td>NaN</td>\n",
       "      <td>NaN</td>\n",
       "      <td>NaN</td>\n",
       "    </tr>\n",
       "    <tr>\n",
       "      <th>2</th>\n",
       "      <td>2007</td>\n",
       "      <td>1000003</td>\n",
       "      <td>4.619965e+06</td>\n",
       "      <td>524047.000000</td>\n",
       "      <td>01000</td>\n",
       "      <td>R</td>\n",
       "      <td>16:00:00</td>\n",
       "      <td>20:00:00</td>\n",
       "      <td>Samedi;Dimanche</td>\n",
       "      <td>Bld Charles De Gaulle</td>\n",
       "      <td>Bourg-en-Bresse</td>\n",
       "      <td>NaN</td>\n",
       "      <td>NaN</td>\n",
       "      <td>NaN</td>\n",
       "      <td>NaN</td>\n",
       "      <td>D</td>\n",
       "      <td>2007-10-30 09:47:04.590533</td>\n",
       "      <td>NaN</td>\n",
       "    </tr>\n",
       "    <tr>\n",
       "      <th>3</th>\n",
       "      <td>2007</td>\n",
       "      <td>1000004</td>\n",
       "      <td>4.618836e+06</td>\n",
       "      <td>524447.000000</td>\n",
       "      <td>01000</td>\n",
       "      <td>R</td>\n",
       "      <td>01:00:00</td>\n",
       "      <td>01:00:00</td>\n",
       "      <td>NaN</td>\n",
       "      <td>chal Juin</td>\n",
       "      <td>Bourg-en-Bresse</td>\n",
       "      <td>NaN</td>\n",
       "      <td>NaN</td>\n",
       "      <td>NaN</td>\n",
       "      <td>NaN</td>\n",
       "      <td>D</td>\n",
       "      <td>2007-10-30 09:47:04.590533</td>\n",
       "      <td>NaN</td>\n",
       "    </tr>\n",
       "    <tr>\n",
       "      <th>4</th>\n",
       "      <td>2007</td>\n",
       "      <td>1000006</td>\n",
       "      <td>4.620754e+06</td>\n",
       "      <td>523758.000000</td>\n",
       "      <td>01000</td>\n",
       "      <td>R</td>\n",
       "      <td>01:00:00</td>\n",
       "      <td>01:00:00</td>\n",
       "      <td>Dimanche</td>\n",
       "      <td>1 Boulevard John Kennedy</td>\n",
       "      <td>BOURG-EN-BRESSE</td>\n",
       "      <td>NaN</td>\n",
       "      <td>NaN</td>\n",
       "      <td>NaN</td>\n",
       "      <td>NaN</td>\n",
       "      <td>D</td>\n",
       "      <td>2007-10-30 09:47:04.590533</td>\n",
       "      <td>NaN</td>\n",
       "    </tr>\n",
       "    <tr>\n",
       "      <th>...</th>\n",
       "      <td>...</td>\n",
       "      <td>...</td>\n",
       "      <td>...</td>\n",
       "      <td>...</td>\n",
       "      <td>...</td>\n",
       "      <td>...</td>\n",
       "      <td>...</td>\n",
       "      <td>...</td>\n",
       "      <td>...</td>\n",
       "      <td>...</td>\n",
       "      <td>...</td>\n",
       "      <td>...</td>\n",
       "      <td>...</td>\n",
       "      <td>...</td>\n",
       "      <td>...</td>\n",
       "      <td>...</td>\n",
       "      <td>...</td>\n",
       "      <td>...</td>\n",
       "    </tr>\n",
       "    <tr>\n",
       "      <th>140719</th>\n",
       "      <td>2017</td>\n",
       "      <td>95870005</td>\n",
       "      <td>4.893676e+06</td>\n",
       "      <td>220715.000000</td>\n",
       "      <td>95870</td>\n",
       "      <td>R</td>\n",
       "      <td>06:00:43</td>\n",
       "      <td>21:00:43</td>\n",
       "      <td>NaN</td>\n",
       "      <td>ri</td>\n",
       "      <td>BEZONS</td>\n",
       "      <td>2.0</td>\n",
       "      <td>SP95</td>\n",
       "      <td>2013-03-20T16:58:00</td>\n",
       "      <td>NaN</td>\n",
       "      <td>D</td>\n",
       "      <td>2017-12-19T00:00:00</td>\n",
       "      <td>NaN</td>\n",
       "    </tr>\n",
       "    <tr>\n",
       "      <th>140720</th>\n",
       "      <td>2017</td>\n",
       "      <td>95870007</td>\n",
       "      <td>4.892824e+06</td>\n",
       "      <td>221140.000000</td>\n",
       "      <td>95870</td>\n",
       "      <td>R</td>\n",
       "      <td>06:00:01</td>\n",
       "      <td>21:00:01</td>\n",
       "      <td>NaN</td>\n",
       "      <td>ri</td>\n",
       "      <td>BEZONS</td>\n",
       "      <td>2.0</td>\n",
       "      <td>SP95</td>\n",
       "      <td>2011-08-31T22:43:00</td>\n",
       "      <td>NaN</td>\n",
       "      <td>D</td>\n",
       "      <td>2017-12-19T00:00:00</td>\n",
       "      <td>NaN</td>\n",
       "    </tr>\n",
       "    <tr>\n",
       "      <th>140721</th>\n",
       "      <td>2017</td>\n",
       "      <td>95870009</td>\n",
       "      <td>4.892770e+06</td>\n",
       "      <td>221346.318047</td>\n",
       "      <td>95870</td>\n",
       "      <td>R</td>\n",
       "      <td>06:00:00</td>\n",
       "      <td>21:30:00</td>\n",
       "      <td>NaN</td>\n",
       "      <td>151 AV GABRIEL PERI</td>\n",
       "      <td>BEZONS</td>\n",
       "      <td>2.0</td>\n",
       "      <td>SP95</td>\n",
       "      <td>2011-08-31T22:43:00</td>\n",
       "      <td>NaN</td>\n",
       "      <td>D</td>\n",
       "      <td>2017-12-19T00:00:00</td>\n",
       "      <td>NaN</td>\n",
       "    </tr>\n",
       "    <tr>\n",
       "      <th>140722</th>\n",
       "      <td>2017</td>\n",
       "      <td>96600001</td>\n",
       "      <td>4.875637e+06</td>\n",
       "      <td>241048.000000</td>\n",
       "      <td>94600</td>\n",
       "      <td>R</td>\n",
       "      <td>07:30:27</td>\n",
       "      <td>20:30:27</td>\n",
       "      <td>Dimanche</td>\n",
       "      <td>16 Avenue de Newburn</td>\n",
       "      <td>Choisy-le-Roi</td>\n",
       "      <td>5.0</td>\n",
       "      <td>E10</td>\n",
       "      <td>2009-12-11T21:53:00</td>\n",
       "      <td>NaN</td>\n",
       "      <td>D</td>\n",
       "      <td>2017-12-19T00:00:00</td>\n",
       "      <td>NaN</td>\n",
       "    </tr>\n",
       "    <tr>\n",
       "      <th>140723</th>\n",
       "      <td>2017</td>\n",
       "      <td>99999001</td>\n",
       "      <td>4.853943e+06</td>\n",
       "      <td>749812.000000</td>\n",
       "      <td>99999</td>\n",
       "      <td>R</td>\n",
       "      <td>01:00:00</td>\n",
       "      <td>01:00:00</td>\n",
       "      <td>NaN</td>\n",
       "      <td>rue victor hugo</td>\n",
       "      <td>Paris</td>\n",
       "      <td>2.0</td>\n",
       "      <td>SP95</td>\n",
       "      <td>2014-01-12T00:00:00</td>\n",
       "      <td>NaN</td>\n",
       "      <td>T</td>\n",
       "      <td>2015-11-12T00:00:00</td>\n",
       "      <td>2017-08-30T00:00:00</td>\n",
       "    </tr>\n",
       "  </tbody>\n",
       "</table>\n",
       "<p>140724 rows × 18 columns</p>\n",
       "</div>"
      ],
      "text/plain": [
       "       annee        id      latitude      longitude     cp pop  \\\n",
       "0       2007   1000001  4.620114e+06  519791.000000  01000   R   \n",
       "1       2007   1000002  4.621842e+06  522767.000000  01000   R   \n",
       "2       2007   1000003  4.619965e+06  524047.000000  01000   R   \n",
       "3       2007   1000004  4.618836e+06  524447.000000  01000   R   \n",
       "4       2007   1000006  4.620754e+06  523758.000000  01000   R   \n",
       "...      ...       ...           ...            ...    ...  ..   \n",
       "140719  2017  95870005  4.893676e+06  220715.000000  95870   R   \n",
       "140720  2017  95870007  4.892824e+06  221140.000000  95870   R   \n",
       "140721  2017  95870009  4.892770e+06  221346.318047  95870   R   \n",
       "140722  2017  96600001  4.875637e+06  241048.000000  94600   R   \n",
       "140723  2017  99999001  4.853943e+06  749812.000000  99999   R   \n",
       "\n",
       "       ouverture_debut ouverture_fin ouverture_saufjour  \\\n",
       "0             01:00:00      01:00:00                NaN   \n",
       "1             08:45:00      19:30:00           Dimanche   \n",
       "2             16:00:00      20:00:00    Samedi;Dimanche   \n",
       "3             01:00:00      01:00:00                NaN   \n",
       "4             01:00:00      01:00:00           Dimanche   \n",
       "...                ...           ...                ...   \n",
       "140719        06:00:43      21:00:43                NaN   \n",
       "140720        06:00:01      21:00:01                NaN   \n",
       "140721        06:00:00      21:30:00                NaN   \n",
       "140722        07:30:27      20:30:27           Dimanche   \n",
       "140723        01:00:00      01:00:00                NaN   \n",
       "\n",
       "                         adresse            ville rupture_id rupture_nom  \\\n",
       "0                ROUTE NATIONALE          S-BOURG        NaN         NaN   \n",
       "1            16 Avenue de Marboz  BOURG-EN-BRESSE        NaN         NaN   \n",
       "2          Bld Charles De Gaulle  Bourg-en-Bresse        NaN         NaN   \n",
       "3                      chal Juin  Bourg-en-Bresse        NaN         NaN   \n",
       "4       1 Boulevard John Kennedy  BOURG-EN-BRESSE        NaN         NaN   \n",
       "...                          ...              ...        ...         ...   \n",
       "140719                        ri           BEZONS        2.0        SP95   \n",
       "140720                        ri           BEZONS        2.0        SP95   \n",
       "140721       151 AV GABRIEL PERI           BEZONS        2.0        SP95   \n",
       "140722      16 Avenue de Newburn    Choisy-le-Roi        5.0         E10   \n",
       "140723           rue victor hugo            Paris        2.0        SP95   \n",
       "\n",
       "              rupture_debut rupture_fin fermeture_type  \\\n",
       "0                       NaN         NaN            NaN   \n",
       "1                       NaN         NaN            NaN   \n",
       "2                       NaN         NaN              D   \n",
       "3                       NaN         NaN              D   \n",
       "4                       NaN         NaN              D   \n",
       "...                     ...         ...            ...   \n",
       "140719  2013-03-20T16:58:00         NaN              D   \n",
       "140720  2011-08-31T22:43:00         NaN              D   \n",
       "140721  2011-08-31T22:43:00         NaN              D   \n",
       "140722  2009-12-11T21:53:00         NaN              D   \n",
       "140723  2014-01-12T00:00:00         NaN              T   \n",
       "\n",
       "                   fermeture_debut        fermeture_fin  \n",
       "0                              NaN                  NaN  \n",
       "1                              NaN                  NaN  \n",
       "2       2007-10-30 09:47:04.590533                  NaN  \n",
       "3       2007-10-30 09:47:04.590533                  NaN  \n",
       "4       2007-10-30 09:47:04.590533                  NaN  \n",
       "...                            ...                  ...  \n",
       "140719         2017-12-19T00:00:00                  NaN  \n",
       "140720         2017-12-19T00:00:00                  NaN  \n",
       "140721         2017-12-19T00:00:00                  NaN  \n",
       "140722         2017-12-19T00:00:00                  NaN  \n",
       "140723         2015-11-12T00:00:00  2017-08-30T00:00:00  \n",
       "\n",
       "[140724 rows x 18 columns]"
      ]
     },
     "execution_count": 98,
     "metadata": {},
     "output_type": "execute_result"
    }
   ],
   "source": [
    "pdv"
   ]
  },
  {
   "cell_type": "markdown",
   "metadata": {},
   "source": [
    "- **enregistrer la df compréssée**"
   ]
  },
  {
   "cell_type": "code",
   "execution_count": 36,
   "metadata": {},
   "outputs": [],
   "source": [
    "pdv.to_parquet('pdv.gzip', \n",
    "               compression='gzip')"
   ]
  },
  {
   "cell_type": "markdown",
   "metadata": {},
   "source": [
    "- **liberer la mémoire**"
   ]
  },
  {
   "cell_type": "code",
   "execution_count": 37,
   "metadata": {},
   "outputs": [],
   "source": [
    "del pdv"
   ]
  },
  {
   "cell_type": "markdown",
   "metadata": {},
   "source": [
    "### netoyage de **prix**"
   ]
  },
  {
   "cell_type": "code",
   "execution_count": 38,
   "metadata": {},
   "outputs": [],
   "source": [
    "prix = pd.read_csv('prix.csv')"
   ]
  },
  {
   "cell_type": "code",
   "execution_count": 39,
   "metadata": {},
   "outputs": [
    {
     "data": {
      "text/html": [
       "<div>\n",
       "<style scoped>\n",
       "    .dataframe tbody tr th:only-of-type {\n",
       "        vertical-align: middle;\n",
       "    }\n",
       "\n",
       "    .dataframe tbody tr th {\n",
       "        vertical-align: top;\n",
       "    }\n",
       "\n",
       "    .dataframe thead th {\n",
       "        text-align: right;\n",
       "    }\n",
       "</style>\n",
       "<table border=\"1\" class=\"dataframe\">\n",
       "  <thead>\n",
       "    <tr style=\"text-align: right;\">\n",
       "      <th></th>\n",
       "      <th>annee</th>\n",
       "      <th>id_pdv</th>\n",
       "      <th>nom</th>\n",
       "      <th>id</th>\n",
       "      <th>maj</th>\n",
       "      <th>valeur</th>\n",
       "    </tr>\n",
       "  </thead>\n",
       "  <tbody>\n",
       "    <tr>\n",
       "      <th>0</th>\n",
       "      <td>2019</td>\n",
       "      <td>1000001</td>\n",
       "      <td>Gazole</td>\n",
       "      <td>1.0</td>\n",
       "      <td>2019-01-04T10:53:48</td>\n",
       "      <td>1328.0</td>\n",
       "    </tr>\n",
       "    <tr>\n",
       "      <th>1</th>\n",
       "      <td>2019</td>\n",
       "      <td>1000001</td>\n",
       "      <td>Gazole</td>\n",
       "      <td>1.0</td>\n",
       "      <td>2019-01-07T10:25:25</td>\n",
       "      <td>1348.0</td>\n",
       "    </tr>\n",
       "    <tr>\n",
       "      <th>2</th>\n",
       "      <td>2019</td>\n",
       "      <td>1000001</td>\n",
       "      <td>Gazole</td>\n",
       "      <td>1.0</td>\n",
       "      <td>2019-01-10T08:54:28</td>\n",
       "      <td>1374.0</td>\n",
       "    </tr>\n",
       "    <tr>\n",
       "      <th>3</th>\n",
       "      <td>2019</td>\n",
       "      <td>1000001</td>\n",
       "      <td>Gazole</td>\n",
       "      <td>1.0</td>\n",
       "      <td>2019-01-11T10:01:54</td>\n",
       "      <td>1387.0</td>\n",
       "    </tr>\n",
       "    <tr>\n",
       "      <th>4</th>\n",
       "      <td>2019</td>\n",
       "      <td>1000001</td>\n",
       "      <td>Gazole</td>\n",
       "      <td>1.0</td>\n",
       "      <td>2019-01-14T11:04:53</td>\n",
       "      <td>1394.0</td>\n",
       "    </tr>\n",
       "    <tr>\n",
       "      <th>...</th>\n",
       "      <td>...</td>\n",
       "      <td>...</td>\n",
       "      <td>...</td>\n",
       "      <td>...</td>\n",
       "      <td>...</td>\n",
       "      <td>...</td>\n",
       "    </tr>\n",
       "    <tr>\n",
       "      <th>28552949</th>\n",
       "      <td>2016</td>\n",
       "      <td>95870009</td>\n",
       "      <td>SP98</td>\n",
       "      <td>6.0</td>\n",
       "      <td>2016-12-28T00:12:00</td>\n",
       "      <td>1427.0</td>\n",
       "    </tr>\n",
       "    <tr>\n",
       "      <th>28552950</th>\n",
       "      <td>2016</td>\n",
       "      <td>95870009</td>\n",
       "      <td>SP98</td>\n",
       "      <td>6.0</td>\n",
       "      <td>2016-12-29T00:12:00</td>\n",
       "      <td>1427.0</td>\n",
       "    </tr>\n",
       "    <tr>\n",
       "      <th>28552951</th>\n",
       "      <td>2016</td>\n",
       "      <td>95870009</td>\n",
       "      <td>SP98</td>\n",
       "      <td>6.0</td>\n",
       "      <td>2016-12-30T00:12:00</td>\n",
       "      <td>1432.0</td>\n",
       "    </tr>\n",
       "    <tr>\n",
       "      <th>28552952</th>\n",
       "      <td>2016</td>\n",
       "      <td>95870009</td>\n",
       "      <td>SP98</td>\n",
       "      <td>6.0</td>\n",
       "      <td>2016-12-31T00:12:00</td>\n",
       "      <td>1439.0</td>\n",
       "    </tr>\n",
       "    <tr>\n",
       "      <th>28552953</th>\n",
       "      <td>2016</td>\n",
       "      <td>96600001</td>\n",
       "      <td>NaN</td>\n",
       "      <td>NaN</td>\n",
       "      <td>NaN</td>\n",
       "      <td>NaN</td>\n",
       "    </tr>\n",
       "  </tbody>\n",
       "</table>\n",
       "<p>28552954 rows × 6 columns</p>\n",
       "</div>"
      ],
      "text/plain": [
       "          annee    id_pdv     nom   id                  maj  valeur\n",
       "0          2019   1000001  Gazole  1.0  2019-01-04T10:53:48  1328.0\n",
       "1          2019   1000001  Gazole  1.0  2019-01-07T10:25:25  1348.0\n",
       "2          2019   1000001  Gazole  1.0  2019-01-10T08:54:28  1374.0\n",
       "3          2019   1000001  Gazole  1.0  2019-01-11T10:01:54  1387.0\n",
       "4          2019   1000001  Gazole  1.0  2019-01-14T11:04:53  1394.0\n",
       "...         ...       ...     ...  ...                  ...     ...\n",
       "28552949   2016  95870009    SP98  6.0  2016-12-28T00:12:00  1427.0\n",
       "28552950   2016  95870009    SP98  6.0  2016-12-29T00:12:00  1427.0\n",
       "28552951   2016  95870009    SP98  6.0  2016-12-30T00:12:00  1432.0\n",
       "28552952   2016  95870009    SP98  6.0  2016-12-31T00:12:00  1439.0\n",
       "28552953   2016  96600001     NaN  NaN                  NaN     NaN\n",
       "\n",
       "[28552954 rows x 6 columns]"
      ]
     },
     "execution_count": 39,
     "metadata": {},
     "output_type": "execute_result"
    }
   ],
   "source": [
    "prix"
   ]
  },
  {
   "cell_type": "code",
   "execution_count": 40,
   "metadata": {},
   "outputs": [
    {
     "name": "stdout",
     "output_type": "stream",
     "text": [
      "<class 'pandas.core.frame.DataFrame'>\n",
      "RangeIndex: 28552954 entries, 0 to 28552953\n",
      "Data columns (total 6 columns):\n",
      "annee     int64\n",
      "id_pdv    int64\n",
      "nom       object\n",
      "id        float64\n",
      "maj       object\n",
      "valeur    float64\n",
      "dtypes: float64(2), int64(2), object(2)\n",
      "memory usage: 1.3+ GB\n"
     ]
    }
   ],
   "source": [
    "prix.info()"
   ]
  },
  {
   "cell_type": "markdown",
   "metadata": {},
   "source": [
    "**la DataFrame prix est trés grande (1,3 GB).On peut diminuer sa taille en convertant des variables en Category.**"
   ]
  },
  {
   "cell_type": "markdown",
   "metadata": {},
   "source": [
    "- **convertion des categories**"
   ]
  },
  {
   "cell_type": "code",
   "execution_count": 41,
   "metadata": {},
   "outputs": [
    {
     "name": "stdout",
     "output_type": "stream",
     "text": [
      "col_name                            n               n_distinct     ratio\n",
      "annee                            28552954                   13  2196381%\n",
      "id_pdv                           28552954                16826     1697%\n",
      "nom                              28552954                    7  4078993%\n",
      "id                               28552954                    7  4078993%\n",
      "maj                              28552954             11299903        3%\n",
      "valeur                           28552954                 1944    14688%\n"
     ]
    }
   ],
   "source": [
    "findLargeCols(prix)"
   ]
  },
  {
   "cell_type": "markdown",
   "metadata": {},
   "source": [
    "les columns **'id_pdv','annee','nom','id'** mieux vaut les considérer des categories. on laisse **'valeur'** en **int**"
   ]
  },
  {
   "cell_type": "code",
   "execution_count": 42,
   "metadata": {},
   "outputs": [],
   "source": [
    "prix[\"id_pdv\"] = prix[\"id_pdv\"].astype('category')\n",
    "prix[\"annee\"]  = prix[\"annee\"].astype('category')\n",
    "prix[\"nom\"]    = prix[\"nom\"].astype('category')\n",
    "prix[\"id\"]     = prix[\"id\"].astype('category')"
   ]
  },
  {
   "cell_type": "code",
   "execution_count": 43,
   "metadata": {},
   "outputs": [
    {
     "name": "stdout",
     "output_type": "stream",
     "text": [
      "<class 'pandas.core.frame.DataFrame'>\n",
      "RangeIndex: 28552954 entries, 0 to 28552953\n",
      "Data columns (total 6 columns):\n",
      "annee     category\n",
      "id_pdv    category\n",
      "nom       category\n",
      "id        category\n",
      "maj       object\n",
      "valeur    float64\n",
      "dtypes: category(4), float64(1), object(1)\n",
      "memory usage: 572.6+ MB\n"
     ]
    }
   ],
   "source": [
    "prix.info()"
   ]
  },
  {
   "cell_type": "markdown",
   "metadata": {},
   "source": [
    "**la taille de la df diminue de 1.3GB à 0.57GB**"
   ]
  },
  {
   "cell_type": "markdown",
   "metadata": {},
   "source": [
    "- **convertion des dates et temps**"
   ]
  },
  {
   "cell_type": "code",
   "execution_count": 44,
   "metadata": {},
   "outputs": [],
   "source": [
    "prix['maj'] = pd.to_datetime(prix['maj'])"
   ]
  },
  {
   "cell_type": "code",
   "execution_count": 45,
   "metadata": {},
   "outputs": [
    {
     "name": "stdout",
     "output_type": "stream",
     "text": [
      "<class 'pandas.core.frame.DataFrame'>\n",
      "RangeIndex: 28552954 entries, 0 to 28552953\n",
      "Data columns (total 6 columns):\n",
      "annee     category\n",
      "id_pdv    category\n",
      "nom       category\n",
      "id        category\n",
      "maj       datetime64[ns]\n",
      "valeur    float64\n",
      "dtypes: category(4), datetime64[ns](1), float64(1)\n",
      "memory usage: 572.6 MB\n"
     ]
    }
   ],
   "source": [
    "prix.info()"
   ]
  },
  {
   "cell_type": "code",
   "execution_count": 46,
   "metadata": {},
   "outputs": [
    {
     "data": {
      "text/html": [
       "<div>\n",
       "<style scoped>\n",
       "    .dataframe tbody tr th:only-of-type {\n",
       "        vertical-align: middle;\n",
       "    }\n",
       "\n",
       "    .dataframe tbody tr th {\n",
       "        vertical-align: top;\n",
       "    }\n",
       "\n",
       "    .dataframe thead th {\n",
       "        text-align: right;\n",
       "    }\n",
       "</style>\n",
       "<table border=\"1\" class=\"dataframe\">\n",
       "  <thead>\n",
       "    <tr style=\"text-align: right;\">\n",
       "      <th></th>\n",
       "      <th>annee</th>\n",
       "      <th>id_pdv</th>\n",
       "      <th>nom</th>\n",
       "      <th>id</th>\n",
       "      <th>maj</th>\n",
       "      <th>valeur</th>\n",
       "    </tr>\n",
       "  </thead>\n",
       "  <tbody>\n",
       "    <tr>\n",
       "      <th>0</th>\n",
       "      <td>2019</td>\n",
       "      <td>1000001</td>\n",
       "      <td>Gazole</td>\n",
       "      <td>1.0</td>\n",
       "      <td>2019-01-04 10:53:48</td>\n",
       "      <td>1328.0</td>\n",
       "    </tr>\n",
       "    <tr>\n",
       "      <th>1</th>\n",
       "      <td>2019</td>\n",
       "      <td>1000001</td>\n",
       "      <td>Gazole</td>\n",
       "      <td>1.0</td>\n",
       "      <td>2019-01-07 10:25:25</td>\n",
       "      <td>1348.0</td>\n",
       "    </tr>\n",
       "    <tr>\n",
       "      <th>2</th>\n",
       "      <td>2019</td>\n",
       "      <td>1000001</td>\n",
       "      <td>Gazole</td>\n",
       "      <td>1.0</td>\n",
       "      <td>2019-01-10 08:54:28</td>\n",
       "      <td>1374.0</td>\n",
       "    </tr>\n",
       "    <tr>\n",
       "      <th>3</th>\n",
       "      <td>2019</td>\n",
       "      <td>1000001</td>\n",
       "      <td>Gazole</td>\n",
       "      <td>1.0</td>\n",
       "      <td>2019-01-11 10:01:54</td>\n",
       "      <td>1387.0</td>\n",
       "    </tr>\n",
       "    <tr>\n",
       "      <th>4</th>\n",
       "      <td>2019</td>\n",
       "      <td>1000001</td>\n",
       "      <td>Gazole</td>\n",
       "      <td>1.0</td>\n",
       "      <td>2019-01-14 11:04:53</td>\n",
       "      <td>1394.0</td>\n",
       "    </tr>\n",
       "    <tr>\n",
       "      <th>...</th>\n",
       "      <td>...</td>\n",
       "      <td>...</td>\n",
       "      <td>...</td>\n",
       "      <td>...</td>\n",
       "      <td>...</td>\n",
       "      <td>...</td>\n",
       "    </tr>\n",
       "    <tr>\n",
       "      <th>28552949</th>\n",
       "      <td>2016</td>\n",
       "      <td>95870009</td>\n",
       "      <td>SP98</td>\n",
       "      <td>6.0</td>\n",
       "      <td>2016-12-28 00:12:00</td>\n",
       "      <td>1427.0</td>\n",
       "    </tr>\n",
       "    <tr>\n",
       "      <th>28552950</th>\n",
       "      <td>2016</td>\n",
       "      <td>95870009</td>\n",
       "      <td>SP98</td>\n",
       "      <td>6.0</td>\n",
       "      <td>2016-12-29 00:12:00</td>\n",
       "      <td>1427.0</td>\n",
       "    </tr>\n",
       "    <tr>\n",
       "      <th>28552951</th>\n",
       "      <td>2016</td>\n",
       "      <td>95870009</td>\n",
       "      <td>SP98</td>\n",
       "      <td>6.0</td>\n",
       "      <td>2016-12-30 00:12:00</td>\n",
       "      <td>1432.0</td>\n",
       "    </tr>\n",
       "    <tr>\n",
       "      <th>28552952</th>\n",
       "      <td>2016</td>\n",
       "      <td>95870009</td>\n",
       "      <td>SP98</td>\n",
       "      <td>6.0</td>\n",
       "      <td>2016-12-31 00:12:00</td>\n",
       "      <td>1439.0</td>\n",
       "    </tr>\n",
       "    <tr>\n",
       "      <th>28552953</th>\n",
       "      <td>2016</td>\n",
       "      <td>96600001</td>\n",
       "      <td>NaN</td>\n",
       "      <td>NaN</td>\n",
       "      <td>NaT</td>\n",
       "      <td>NaN</td>\n",
       "    </tr>\n",
       "  </tbody>\n",
       "</table>\n",
       "<p>28552954 rows × 6 columns</p>\n",
       "</div>"
      ],
      "text/plain": [
       "         annee    id_pdv     nom   id                 maj  valeur\n",
       "0         2019   1000001  Gazole  1.0 2019-01-04 10:53:48  1328.0\n",
       "1         2019   1000001  Gazole  1.0 2019-01-07 10:25:25  1348.0\n",
       "2         2019   1000001  Gazole  1.0 2019-01-10 08:54:28  1374.0\n",
       "3         2019   1000001  Gazole  1.0 2019-01-11 10:01:54  1387.0\n",
       "4         2019   1000001  Gazole  1.0 2019-01-14 11:04:53  1394.0\n",
       "...        ...       ...     ...  ...                 ...     ...\n",
       "28552949  2016  95870009    SP98  6.0 2016-12-28 00:12:00  1427.0\n",
       "28552950  2016  95870009    SP98  6.0 2016-12-29 00:12:00  1427.0\n",
       "28552951  2016  95870009    SP98  6.0 2016-12-30 00:12:00  1432.0\n",
       "28552952  2016  95870009    SP98  6.0 2016-12-31 00:12:00  1439.0\n",
       "28552953  2016  96600001     NaN  NaN                 NaT     NaN\n",
       "\n",
       "[28552954 rows x 6 columns]"
      ]
     },
     "execution_count": 46,
     "metadata": {},
     "output_type": "execute_result"
    }
   ],
   "source": [
    "prix"
   ]
  },
  {
   "cell_type": "markdown",
   "metadata": {},
   "source": [
    "- **enregistrer la df compréssée**"
   ]
  },
  {
   "cell_type": "code",
   "execution_count": 47,
   "metadata": {},
   "outputs": [],
   "source": [
    "prix.to_parquet('prix.gzip',\n",
    "               compression='gzip')"
   ]
  },
  {
   "cell_type": "markdown",
   "metadata": {},
   "source": [
    "- **liberer la mémoire**"
   ]
  },
  {
   "cell_type": "code",
   "execution_count": 48,
   "metadata": {},
   "outputs": [],
   "source": [
    "del prix"
   ]
  },
  {
   "cell_type": "markdown",
   "metadata": {},
   "source": [
    "### netoyage de **services**"
   ]
  },
  {
   "cell_type": "code",
   "execution_count": 49,
   "metadata": {},
   "outputs": [],
   "source": [
    "services = pd.read_csv('services.csv')"
   ]
  },
  {
   "cell_type": "code",
   "execution_count": 50,
   "metadata": {},
   "outputs": [
    {
     "data": {
      "text/html": [
       "<div>\n",
       "<style scoped>\n",
       "    .dataframe tbody tr th:only-of-type {\n",
       "        vertical-align: middle;\n",
       "    }\n",
       "\n",
       "    .dataframe tbody tr th {\n",
       "        vertical-align: top;\n",
       "    }\n",
       "\n",
       "    .dataframe thead th {\n",
       "        text-align: right;\n",
       "    }\n",
       "</style>\n",
       "<table border=\"1\" class=\"dataframe\">\n",
       "  <thead>\n",
       "    <tr style=\"text-align: right;\">\n",
       "      <th></th>\n",
       "      <th>annee</th>\n",
       "      <th>id_pdv</th>\n",
       "      <th>service</th>\n",
       "    </tr>\n",
       "  </thead>\n",
       "  <tbody>\n",
       "    <tr>\n",
       "      <th>0</th>\n",
       "      <td>2019</td>\n",
       "      <td>1000001</td>\n",
       "      <td>Station de gonflage</td>\n",
       "    </tr>\n",
       "    <tr>\n",
       "      <th>1</th>\n",
       "      <td>2019</td>\n",
       "      <td>1000001</td>\n",
       "      <td>Vente de gaz domestique (Butane, Propane)</td>\n",
       "    </tr>\n",
       "    <tr>\n",
       "      <th>2</th>\n",
       "      <td>2019</td>\n",
       "      <td>1000001</td>\n",
       "      <td>DAB (Distributeur automatique de billets)</td>\n",
       "    </tr>\n",
       "    <tr>\n",
       "      <th>3</th>\n",
       "      <td>2019</td>\n",
       "      <td>1000002</td>\n",
       "      <td>Vente de gaz domestique (Butane, Propane)</td>\n",
       "    </tr>\n",
       "    <tr>\n",
       "      <th>4</th>\n",
       "      <td>2019</td>\n",
       "      <td>1000002</td>\n",
       "      <td>DAB (Distributeur automatique de billets)</td>\n",
       "    </tr>\n",
       "    <tr>\n",
       "      <th>...</th>\n",
       "      <td>...</td>\n",
       "      <td>...</td>\n",
       "      <td>...</td>\n",
       "    </tr>\n",
       "    <tr>\n",
       "      <th>837086</th>\n",
       "      <td>2016</td>\n",
       "      <td>95870009</td>\n",
       "      <td>Lavage multi-programmes</td>\n",
       "    </tr>\n",
       "    <tr>\n",
       "      <th>837087</th>\n",
       "      <td>2016</td>\n",
       "      <td>96600001</td>\n",
       "      <td>Carburant qualité supérieure</td>\n",
       "    </tr>\n",
       "    <tr>\n",
       "      <th>837088</th>\n",
       "      <td>2016</td>\n",
       "      <td>96600001</td>\n",
       "      <td>Boutique non alimentaire</td>\n",
       "    </tr>\n",
       "    <tr>\n",
       "      <th>837089</th>\n",
       "      <td>2016</td>\n",
       "      <td>96600001</td>\n",
       "      <td>Baie de service auto</td>\n",
       "    </tr>\n",
       "    <tr>\n",
       "      <th>837090</th>\n",
       "      <td>2016</td>\n",
       "      <td>96600001</td>\n",
       "      <td>Vente de gaz domestique</td>\n",
       "    </tr>\n",
       "  </tbody>\n",
       "</table>\n",
       "<p>837091 rows × 3 columns</p>\n",
       "</div>"
      ],
      "text/plain": [
       "        annee    id_pdv                                    service\n",
       "0        2019   1000001                        Station de gonflage\n",
       "1        2019   1000001  Vente de gaz domestique (Butane, Propane)\n",
       "2        2019   1000001  DAB (Distributeur automatique de billets)\n",
       "3        2019   1000002  Vente de gaz domestique (Butane, Propane)\n",
       "4        2019   1000002  DAB (Distributeur automatique de billets)\n",
       "...       ...       ...                                        ...\n",
       "837086   2016  95870009                    Lavage multi-programmes\n",
       "837087   2016  96600001               Carburant qualité supérieure\n",
       "837088   2016  96600001                   Boutique non alimentaire\n",
       "837089   2016  96600001                       Baie de service auto\n",
       "837090   2016  96600001                    Vente de gaz domestique\n",
       "\n",
       "[837091 rows x 3 columns]"
      ]
     },
     "execution_count": 50,
     "metadata": {},
     "output_type": "execute_result"
    }
   ],
   "source": [
    "services"
   ]
  },
  {
   "cell_type": "code",
   "execution_count": 51,
   "metadata": {},
   "outputs": [
    {
     "name": "stdout",
     "output_type": "stream",
     "text": [
      "<class 'pandas.core.frame.DataFrame'>\n",
      "RangeIndex: 837091 entries, 0 to 837090\n",
      "Data columns (total 3 columns):\n",
      "annee      837091 non-null int64\n",
      "id_pdv     837091 non-null int64\n",
      "service    837091 non-null object\n",
      "dtypes: int64(2), object(1)\n",
      "memory usage: 19.2+ MB\n"
     ]
    }
   ],
   "source": [
    "services.info()"
   ]
  },
  {
   "cell_type": "markdown",
   "metadata": {},
   "source": [
    "- **convertion des categories**"
   ]
  },
  {
   "cell_type": "code",
   "execution_count": 52,
   "metadata": {},
   "outputs": [
    {
     "name": "stdout",
     "output_type": "stream",
     "text": [
      "col_name                            n               n_distinct     ratio\n",
      "annee                              837091                   13    64392%\n",
      "id_pdv                             837091                15179       55%\n",
      "service                            837091                   36    23253%\n"
     ]
    }
   ],
   "source": [
    "findLargeCols(services)"
   ]
  },
  {
   "cell_type": "markdown",
   "metadata": {},
   "source": [
    "les columns **'annee','id_pdv','service'** mieux vaut les considérer des categories."
   ]
  },
  {
   "cell_type": "code",
   "execution_count": 53,
   "metadata": {},
   "outputs": [],
   "source": [
    "services[\"annee\"]   = services[\"annee\"].astype('category')\n",
    "services[\"id_pdv\"]  = services[\"id_pdv\"].astype('category')\n",
    "services[\"service\"] = services[\"service\"].astype('category')"
   ]
  },
  {
   "cell_type": "code",
   "execution_count": 54,
   "metadata": {},
   "outputs": [
    {
     "name": "stdout",
     "output_type": "stream",
     "text": [
      "<class 'pandas.core.frame.DataFrame'>\n",
      "RangeIndex: 837091 entries, 0 to 837090\n",
      "Data columns (total 3 columns):\n",
      "annee      837091 non-null category\n",
      "id_pdv     837091 non-null category\n",
      "service    837091 non-null category\n",
      "dtypes: category(3)\n",
      "memory usage: 3.9 MB\n"
     ]
    }
   ],
   "source": [
    "services.info()"
   ]
  },
  {
   "cell_type": "code",
   "execution_count": 56,
   "metadata": {},
   "outputs": [
    {
     "data": {
      "text/html": [
       "<div>\n",
       "<style scoped>\n",
       "    .dataframe tbody tr th:only-of-type {\n",
       "        vertical-align: middle;\n",
       "    }\n",
       "\n",
       "    .dataframe tbody tr th {\n",
       "        vertical-align: top;\n",
       "    }\n",
       "\n",
       "    .dataframe thead th {\n",
       "        text-align: right;\n",
       "    }\n",
       "</style>\n",
       "<table border=\"1\" class=\"dataframe\">\n",
       "  <thead>\n",
       "    <tr style=\"text-align: right;\">\n",
       "      <th></th>\n",
       "      <th>annee</th>\n",
       "      <th>id_pdv</th>\n",
       "      <th>service</th>\n",
       "    </tr>\n",
       "  </thead>\n",
       "  <tbody>\n",
       "    <tr>\n",
       "      <th>0</th>\n",
       "      <td>2019</td>\n",
       "      <td>1000001</td>\n",
       "      <td>Station de gonflage</td>\n",
       "    </tr>\n",
       "    <tr>\n",
       "      <th>1</th>\n",
       "      <td>2019</td>\n",
       "      <td>1000001</td>\n",
       "      <td>Vente de gaz domestique (Butane, Propane)</td>\n",
       "    </tr>\n",
       "    <tr>\n",
       "      <th>2</th>\n",
       "      <td>2019</td>\n",
       "      <td>1000001</td>\n",
       "      <td>DAB (Distributeur automatique de billets)</td>\n",
       "    </tr>\n",
       "    <tr>\n",
       "      <th>3</th>\n",
       "      <td>2019</td>\n",
       "      <td>1000002</td>\n",
       "      <td>Vente de gaz domestique (Butane, Propane)</td>\n",
       "    </tr>\n",
       "    <tr>\n",
       "      <th>4</th>\n",
       "      <td>2019</td>\n",
       "      <td>1000002</td>\n",
       "      <td>DAB (Distributeur automatique de billets)</td>\n",
       "    </tr>\n",
       "    <tr>\n",
       "      <th>...</th>\n",
       "      <td>...</td>\n",
       "      <td>...</td>\n",
       "      <td>...</td>\n",
       "    </tr>\n",
       "    <tr>\n",
       "      <th>837086</th>\n",
       "      <td>2016</td>\n",
       "      <td>95870009</td>\n",
       "      <td>Lavage multi-programmes</td>\n",
       "    </tr>\n",
       "    <tr>\n",
       "      <th>837087</th>\n",
       "      <td>2016</td>\n",
       "      <td>96600001</td>\n",
       "      <td>Carburant qualité supérieure</td>\n",
       "    </tr>\n",
       "    <tr>\n",
       "      <th>837088</th>\n",
       "      <td>2016</td>\n",
       "      <td>96600001</td>\n",
       "      <td>Boutique non alimentaire</td>\n",
       "    </tr>\n",
       "    <tr>\n",
       "      <th>837089</th>\n",
       "      <td>2016</td>\n",
       "      <td>96600001</td>\n",
       "      <td>Baie de service auto</td>\n",
       "    </tr>\n",
       "    <tr>\n",
       "      <th>837090</th>\n",
       "      <td>2016</td>\n",
       "      <td>96600001</td>\n",
       "      <td>Vente de gaz domestique</td>\n",
       "    </tr>\n",
       "  </tbody>\n",
       "</table>\n",
       "<p>837091 rows × 3 columns</p>\n",
       "</div>"
      ],
      "text/plain": [
       "       annee    id_pdv                                    service\n",
       "0       2019   1000001                        Station de gonflage\n",
       "1       2019   1000001  Vente de gaz domestique (Butane, Propane)\n",
       "2       2019   1000001  DAB (Distributeur automatique de billets)\n",
       "3       2019   1000002  Vente de gaz domestique (Butane, Propane)\n",
       "4       2019   1000002  DAB (Distributeur automatique de billets)\n",
       "...      ...       ...                                        ...\n",
       "837086  2016  95870009                    Lavage multi-programmes\n",
       "837087  2016  96600001               Carburant qualité supérieure\n",
       "837088  2016  96600001                   Boutique non alimentaire\n",
       "837089  2016  96600001                       Baie de service auto\n",
       "837090  2016  96600001                    Vente de gaz domestique\n",
       "\n",
       "[837091 rows x 3 columns]"
      ]
     },
     "execution_count": 56,
     "metadata": {},
     "output_type": "execute_result"
    }
   ],
   "source": [
    "services"
   ]
  },
  {
   "cell_type": "markdown",
   "metadata": {},
   "source": [
    "- **enregistrer la df compréssée**"
   ]
  },
  {
   "cell_type": "code",
   "execution_count": 57,
   "metadata": {},
   "outputs": [],
   "source": [
    "services.to_parquet('services.gzip',\n",
    "               compression='gzip')"
   ]
  },
  {
   "cell_type": "markdown",
   "metadata": {},
   "source": [
    "- **liberer la mémoire**"
   ]
  },
  {
   "cell_type": "code",
   "execution_count": 58,
   "metadata": {},
   "outputs": [],
   "source": [
    "del services"
   ]
  }
 ],
 "metadata": {
  "kernelspec": {
   "display_name": "Python 3",
   "language": "python",
   "name": "python3"
  },
  "language_info": {
   "codemirror_mode": {
    "name": "ipython",
    "version": 3
   },
   "file_extension": ".py",
   "mimetype": "text/x-python",
   "name": "python",
   "nbconvert_exporter": "python",
   "pygments_lexer": "ipython3",
   "version": "3.7.1"
  }
 },
 "nbformat": 4,
 "nbformat_minor": 2
}
