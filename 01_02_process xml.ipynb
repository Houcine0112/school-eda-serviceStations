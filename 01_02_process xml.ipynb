{
 "cells": [
  {
   "cell_type": "markdown",
   "metadata": {},
   "source": [
    "# lalala"
   ]
  },
  {
   "cell_type": "code",
   "execution_count": 2,
   "metadata": {},
   "outputs": [],
   "source": [
    "import glob                  # Librairie pour parcourir les dossier et fichier sur le disk\n",
    "import os\n",
    "from lxml import etree as ET # pour parcourir les fichiers XML de grande taille\n",
    "import zipfile\n",
    "import csv\n",
    "import logging\n",
    "import shutil"
   ]
  },
  {
   "cell_type": "code",
   "execution_count": null,
   "metadata": {},
   "outputs": [],
   "source": [
    "# Création du CSV qui contient les données des points de ventes\n",
    "pdvcsvfile = open('pdv.csv', 'w')\n",
    "pdvnames   = [\"annee\",\n",
    "              \"id\",\n",
    "              \"latitude\",\n",
    "              \"longitude\",\n",
    "              \"cp\",\n",
    "              \"pop\",\n",
    "              \"ouverture_debut\",\n",
    "              \"ouverture_fin\",\n",
    "              \"ouverture_saufjour\",\n",
    "              \"adresse\",\n",
    "              \"ville\"]\n",
    "pdv_writer = csv.DictWriter(pdvcsvfile, fieldnames=pdvnames)\n",
    "pdv_writer.writeheader()\n",
    "\n",
    "# Création du CSV qui contient les données des ruptures\n",
    "rupturescsvfile = open('ruptures.csv', 'w')\n",
    "rupturesnames = [\"annee\",\n",
    "                 \"id_pdv\",\n",
    "                 \"id\",\n",
    "                 \"nom\",\n",
    "                 \"debut\",\n",
    "                 \"fin\"]\n",
    "ruptures_writer = csv.DictWriter(rupturescsvfile, fieldnames=rupturesnames)\n",
    "ruptures_writer.writeheader()\n",
    "\n",
    "# Création du CSV qui contient les données des fermetures\n",
    "fermeturescsvfile = open('fermetures.csv', 'w')\n",
    "fermeturesnames = [\"annee\",\n",
    "                   \"id_pdv\",\n",
    "                   \"type\",\n",
    "                   \"debut\",\n",
    "                   \"fin\"]\n",
    "fermetures_writer = csv.DictWriter(fermeturescsvfile, fieldnames=fermeturesnames)\n",
    "fermetures_writer.writeheader()\n",
    "\n",
    "\n",
    "# Création du CSV qui contient les données des prix\n",
    "prixcsvfile = open('prix.csv', 'w')\n",
    "prixnames   = [\"annee\",\n",
    "              \"id_pdv\",\n",
    "              \"nom\",\n",
    "              \"id\",\n",
    "              \"maj\",\n",
    "              \"valeur\"]\n",
    "prix_writer = csv.DictWriter(prixcsvfile, fieldnames=prixnames)\n",
    "prix_writer.writeheader()\n",
    "\n",
    "# Création du CSV qui contient les données des services\n",
    "servicescsvfile = open('services.csv', 'w')\n",
    "servicesnames   = [\"annee\",\n",
    "                   \"id_pdv\",\n",
    "                   \"service\"]\n",
    "services_writer = csv.DictWriter(servicescsvfile, fieldnames=servicesnames)\n",
    "services_writer.writeheader()\n",
    "\n",
    "\n",
    "# Initialisation des dictionnaire des lignes temporiaires à inserer dans les csv\n",
    "pdv_row        = dict.fromkeys(pdvnames)\n",
    "ruptures_row   = dict.fromkeys(rupturesnames)\n",
    "fermetures_row = dict.fromkeys(fermeturesnames)\n",
    "prix_row       = dict.fromkeys(prixnames)\n",
    "services_row   = dict.fromkeys(servicesnames)"
   ]
  },
  {
   "cell_type": "code",
   "execution_count": null,
   "metadata": {},
   "outputs": [],
   "source": [
    "# txt_path : fonction qui prend une balise du XML (element), \n",
    "\t# le chemin de la valeur qu’on souhaite récupérer (path) \n",
    "def txt_path(element, path):\n",
    "    if element.find(path) is not None:\n",
    "        res = str(element.find(path).text)\n",
    "        return res\n",
    "    return \"\""
   ]
  },
  {
   "cell_type": "code",
   "execution_count": 3,
   "metadata": {},
   "outputs": [
    {
     "ename": "NameError",
     "evalue": "name 'pdvcsvfile' is not defined",
     "output_type": "error",
     "traceback": [
      "\u001b[0;31m---------------------------------------------------------------------------\u001b[0m",
      "\u001b[0;31mNameError\u001b[0m                                 Traceback (most recent call last)",
      "\u001b[0;32m<ipython-input-3-bcef71727477>\u001b[0m in \u001b[0;36m<module>\u001b[0;34m\u001b[0m\n\u001b[0;32m----> 1\u001b[0;31m \u001b[0mpdvcsvfile\u001b[0m\u001b[0;34m.\u001b[0m\u001b[0mclose\u001b[0m\u001b[0;34m(\u001b[0m\u001b[0;34m)\u001b[0m\u001b[0;34m\u001b[0m\u001b[0;34m\u001b[0m\u001b[0m\n\u001b[0m\u001b[1;32m      2\u001b[0m \u001b[0mrupturescsvfile\u001b[0m\u001b[0;34m.\u001b[0m\u001b[0mclose\u001b[0m\u001b[0;34m(\u001b[0m\u001b[0;34m)\u001b[0m\u001b[0;34m\u001b[0m\u001b[0;34m\u001b[0m\u001b[0m\n\u001b[1;32m      3\u001b[0m \u001b[0mfermeturescsvfile\u001b[0m\u001b[0;34m.\u001b[0m\u001b[0mclose\u001b[0m\u001b[0;34m(\u001b[0m\u001b[0;34m)\u001b[0m\u001b[0;34m\u001b[0m\u001b[0;34m\u001b[0m\u001b[0m\n\u001b[1;32m      4\u001b[0m \u001b[0mservicescsvfile\u001b[0m\u001b[0;34m.\u001b[0m\u001b[0mclose\u001b[0m\u001b[0;34m(\u001b[0m\u001b[0;34m)\u001b[0m\u001b[0;34m\u001b[0m\u001b[0;34m\u001b[0m\u001b[0m\n\u001b[1;32m      5\u001b[0m \u001b[0mprixcsvfile\u001b[0m\u001b[0;34m.\u001b[0m\u001b[0mclose\u001b[0m\u001b[0;34m(\u001b[0m\u001b[0;34m)\u001b[0m\u001b[0;34m\u001b[0m\u001b[0;34m\u001b[0m\u001b[0m\n",
      "\u001b[0;31mNameError\u001b[0m: name 'pdvcsvfile' is not defined"
     ]
    }
   ],
   "source": [
    "pdvcsvfile.close()\n",
    "rupturescsvfile.close()\n",
    "fermeturescsvfile.close()\n",
    "servicescsvfile.close()\n",
    "prixcsvfile.close()"
   ]
  },
  {
   "cell_type": "code",
   "execution_count": 4,
   "metadata": {},
   "outputs": [],
   "source": [
    "def process_prix(annee, id_pdv, prix):\n",
    "    pass"
   ]
  },
  {
   "cell_type": "code",
   "execution_count": 5,
   "metadata": {},
   "outputs": [],
   "source": [
    "def process_service(annee, id_pdv, service):\n",
    "    pass"
   ]
  },
  {
   "cell_type": "code",
   "execution_count": 6,
   "metadata": {},
   "outputs": [],
   "source": [
    "def process_rupture(annee, id_pdv, rupture):\n",
    "    pass"
   ]
  },
  {
   "cell_type": "code",
   "execution_count": 7,
   "metadata": {},
   "outputs": [],
   "source": [
    "def process_fermeture(annee, id_pdv, fermeture):\n",
    "    pass"
   ]
  },
  {
   "cell_type": "code",
   "execution_count": 8,
   "metadata": {},
   "outputs": [],
   "source": [
    "def process_pdv(annee, pdv):\n",
    "    pdv_row['annee']= annee\n",
    "    for name, value in sorted(pdv.items()):\n",
    "        pdv_row[name] = value\n",
    "        \n",
    "    id_pdv = pdv_row['id']\n",
    "    for prix in pdv.findall('prix'):\n",
    "        process_prix(annee, id_pdv, prix)\n",
    "    \n",
    "    for service in pdv.findall('services/service'):\n",
    "        process_service(annee, id_pdv, service)\n",
    "    \n",
    "    for rupture in pdv.findall('rupture'):\n",
    "        process_rupture(annee, id_pdv, rupture)\n",
    "        \n",
    "    for fermeture in pdv.findall('fermeture'):\n",
    "        process_fermeture(annee, id_pdv, fermeture)"
   ]
  },
  {
   "cell_type": "code",
   "execution_count": 9,
   "metadata": {},
   "outputs": [
    {
     "name": "stdout",
     "output_type": "stream",
     "text": [
      "PrixCarburants_annuel_2019.xml\n"
     ]
    }
   ],
   "source": [
    "import re\n",
    "i = \"aa/data/PrixCarburants_annuel_2019.zip\"\n",
    "r = re.findall('([^/]*\\d{4})\\.zip',i)[0] + \".xml\"\n",
    "print(r)"
   ]
  },
  {
   "cell_type": "code",
   "execution_count": null,
   "metadata": {},
   "outputs": [],
   "source": [
    "for pathZip in glob.glob('data/PrixC*2007.zip'):\n",
    "        annee   = re.findall('.*(\\d{4})\\.zip',i)[0]\n",
    "        xml     = re.findall('([^/]*\\d{4})\\.zip',i)[0] + \".xml\"\n",
    "\n",
    "        # lire le zip\n",
    "        logging.debug(\"Opening ZIP file \" + pathZip)    \n",
    "        zf = zipfile.ZipFile(pathZip, 'r')\n",
    "        # lire le XML\n",
    "        f  = zf.open(nameXml)\n",
    "        # créer le XMLReader\n",
    "        context = ET.iterparse(f, events=('end',), tag='pdv')\n",
    "        for event, pdv in context:\n",
    "            print(pdv.find('ouverture').items())\n",
    "        # fermer le zip\n",
    "        zf.close()"
   ]
  },
  {
   "cell_type": "code",
   "execution_count": null,
   "metadata": {},
   "outputs": [],
   "source": []
  }
 ],
 "metadata": {
  "kernelspec": {
   "display_name": "Python 3",
   "language": "python",
   "name": "python3"
  },
  "language_info": {
   "codemirror_mode": {
    "name": "ipython",
    "version": 3
   },
   "file_extension": ".py",
   "mimetype": "text/x-python",
   "name": "python",
   "nbconvert_exporter": "python",
   "pygments_lexer": "ipython3",
   "version": "3.7.1"
  }
 },
 "nbformat": 4,
 "nbformat_minor": 2
}
