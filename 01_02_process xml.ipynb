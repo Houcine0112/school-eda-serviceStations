{
 "cells": [
  {
   "cell_type": "markdown",
   "metadata": {},
   "source": [
    "# Processing XMLs with ***lxml*** library"
   ]
  },
  {
   "cell_type": "markdown",
   "metadata": {},
   "source": [
    "## Imports"
   ]
  },
  {
   "cell_type": "code",
   "execution_count": 2,
   "metadata": {},
   "outputs": [],
   "source": [
    "import glob                  \n",
    "import os\n",
    "from lxml import etree as ET \n",
    "import zipfile\n",
    "import csv\n",
    "import logging\n",
    "import shutil\n",
    "import re"
   ]
  },
  {
   "cell_type": "code",
   "execution_count": 3,
   "metadata": {},
   "outputs": [],
   "source": [
    "# Création du CSV qui contient les données des points de ventes\n",
    "pdvcsvfile = open('pdv.csv', 'w')\n",
    "pdvnames   = [\"annee\",\n",
    "              \"id\",\n",
    "              \"latitude\",\n",
    "              \"longitude\",\n",
    "              \"cp\",\n",
    "              \"pop\",\n",
    "              \"ouverture_debut\",\n",
    "              \"ouverture_fin\",\n",
    "              \"ouverture_saufjour\",\n",
    "              \"adresse\",\n",
    "              \"ville\"]\n",
    "pdv_writer = csv.DictWriter(pdvcsvfile, fieldnames=pdvnames)\n",
    "pdv_writer.writeheader()\n",
    "\n",
    "# Création du CSV qui contient les données des ruptures\n",
    "rupturescsvfile = open('ruptures.csv', 'w')\n",
    "rupturesnames = [\"annee\",\n",
    "                 \"id_pdv\",\n",
    "                 \"id\",\n",
    "                 \"nom\",\n",
    "                 \"debut\",\n",
    "                 \"fin\"]\n",
    "ruptures_writer = csv.DictWriter(rupturescsvfile, fieldnames=rupturesnames)\n",
    "ruptures_writer.writeheader()\n",
    "\n",
    "# Création du CSV qui contient les données des fermetures\n",
    "fermeturescsvfile = open('fermetures.csv', 'w')\n",
    "fermeturesnames = [\"annee\",\n",
    "                   \"id_pdv\",\n",
    "                   \"type\",\n",
    "                   \"debut\",\n",
    "                   \"fin\"]\n",
    "fermetures_writer = csv.DictWriter(fermeturescsvfile, fieldnames=fermeturesnames)\n",
    "fermetures_writer.writeheader()\n",
    "\n",
    "\n",
    "# Création du CSV qui contient les données des prix\n",
    "prixcsvfile = open('prix.csv', 'w')\n",
    "prixnames   = [\"annee\",\n",
    "              \"id_pdv\",\n",
    "              \"nom\",\n",
    "              \"id\",\n",
    "              \"maj\",\n",
    "              \"valeur\"]\n",
    "prix_writer = csv.DictWriter(prixcsvfile, fieldnames=prixnames)\n",
    "prix_writer.writeheader()\n",
    "\n",
    "# Création du CSV qui contient les données des services\n",
    "servicescsvfile = open('services.csv', 'w')\n",
    "servicesnames   = [\"annee\",\n",
    "                   \"id_pdv\",\n",
    "                   \"service\"]\n",
    "services_writer = csv.DictWriter(servicescsvfile, fieldnames=servicesnames)\n",
    "services_writer.writeheader()\n",
    "\n",
    "\n",
    "# Initialisation des dictionnaire des lignes temporiaires à inserer dans les csv\n",
    "pdv_row        = dict.fromkeys(pdvnames)\n",
    "ruptures_row   = dict.fromkeys(rupturesnames)\n",
    "fermetures_row = dict.fromkeys(fermeturesnames)\n",
    "prix_row       = dict.fromkeys(prixnames)\n",
    "services_row   = dict.fromkeys(servicesnames)"
   ]
  },
  {
   "cell_type": "code",
   "execution_count": 4,
   "metadata": {},
   "outputs": [],
   "source": [
    "# txt_path : fonction qui prend une balise du XML (element), \n",
    "\t# le chemin de la valeur qu’on souhaite récupérer (path) \n",
    "def txt_path(element, path='.'):\n",
    "    if element.find(path) is not None:\n",
    "        res = str(element.find(path).text)\n",
    "        return res\n",
    "    return \"\""
   ]
  },
  {
   "cell_type": "code",
   "execution_count": 5,
   "metadata": {},
   "outputs": [],
   "source": [
    "def process_prix(annee, id_pdv, prix):\n",
    "    prix_row['annee']  = annee\n",
    "    prix_row['id_pdv'] = id_pdv\n",
    "    for name, value in sorted(prix.items()):\n",
    "        prix_row[name] = value\n",
    "    prix_writer.writerow(prix_row)"
   ]
  },
  {
   "cell_type": "code",
   "execution_count": 6,
   "metadata": {},
   "outputs": [],
   "source": [
    "def process_service(annee, id_pdv, service):\n",
    "    services_row['annee']   = annee\n",
    "    services_row['id_pdv']  = id_pdv\n",
    "    services_row[\"service\"] = txt_path(service)\n",
    "    services_writer.writerow(services_row)"
   ]
  },
  {
   "cell_type": "code",
   "execution_count": 7,
   "metadata": {},
   "outputs": [],
   "source": [
    "def process_rupture(annee, id_pdv, rupture):\n",
    "    ruptures_row['annee']  = annee\n",
    "    ruptures_row['id_pdv'] = id_pdv\n",
    "    for name, value in sorted(rupture.items()):\n",
    "        ruptures_row[name] = value\n",
    "    ruptures_writer.writerow(ruptures_row)"
   ]
  },
  {
   "cell_type": "code",
   "execution_count": 8,
   "metadata": {},
   "outputs": [],
   "source": [
    "def process_fermeture(annee, id_pdv, fermeture):\n",
    "    fermetures_row['annee']  = annee\n",
    "    fermetures_row['id_pdv'] = id_pdv\n",
    "    for name, value in sorted(fermeture.items()):\n",
    "        fermetures_row[name] = value\n",
    "    fermetures_writer.writerow(fermetures_row)"
   ]
  },
  {
   "cell_type": "code",
   "execution_count": 12,
   "metadata": {},
   "outputs": [],
   "source": [
    "def process_pdv(annee, pdv):\n",
    "    pdv_row['annee'] = annee\n",
    "    pdv_row['adresse'] = txt_path(pdv, 'adresse')\n",
    "    pdv_row['ville'] = txt_path(pdv, 'ville')\n",
    "    \n",
    "    for name, value in sorted(pdv.items()):\n",
    "        pdv_row[name] = value\n",
    "    if not pdv.find('ouverture') is None:\n",
    "        for name, value in sorted(pdv.find('ouverture').items()):\n",
    "            pdv_row[\"ouverture_\" + name] = value\n",
    "    \n",
    "    id_pdv = pdv_row['id']\n",
    "    for prix in pdv.findall('prix'):\n",
    "        process_prix(annee, id_pdv, prix)\n",
    "    \n",
    "    for service in pdv.findall('services/service'):\n",
    "        process_service(annee, id_pdv, service)\n",
    "    \n",
    "    for rupture in pdv.findall('rupture'):\n",
    "        process_rupture(annee, id_pdv, rupture)\n",
    "        \n",
    "    for fermeture in pdv.findall('fermeture'):\n",
    "        process_fermeture(annee, id_pdv, fermeture)\n",
    "        \n",
    "    pdv_writer.writerow(pdv_row)"
   ]
  },
  {
   "cell_type": "code",
   "execution_count": 10,
   "metadata": {},
   "outputs": [
    {
     "ename": "AttributeError",
     "evalue": "'NoneType' object has no attribute 'items'",
     "output_type": "error",
     "traceback": [
      "\u001b[0;31m--------------------------------------------------------------------------\u001b[0m",
      "\u001b[0;31mAttributeError\u001b[0m                           Traceback (most recent call last)",
      "\u001b[0;32m<ipython-input-10-ce55285175c2>\u001b[0m in \u001b[0;36m<module>\u001b[0;34m\u001b[0m\n\u001b[1;32m     11\u001b[0m     \u001b[0mcontext\u001b[0m \u001b[0;34m=\u001b[0m \u001b[0mET\u001b[0m\u001b[0;34m.\u001b[0m\u001b[0miterparse\u001b[0m\u001b[0;34m(\u001b[0m\u001b[0mf\u001b[0m\u001b[0;34m,\u001b[0m \u001b[0mevents\u001b[0m\u001b[0;34m=\u001b[0m\u001b[0;34m(\u001b[0m\u001b[0;34m'end'\u001b[0m\u001b[0;34m,\u001b[0m\u001b[0;34m)\u001b[0m\u001b[0;34m,\u001b[0m \u001b[0mtag\u001b[0m\u001b[0;34m=\u001b[0m\u001b[0;34m'pdv'\u001b[0m\u001b[0;34m)\u001b[0m\u001b[0;34m\u001b[0m\u001b[0;34m\u001b[0m\u001b[0m\n\u001b[1;32m     12\u001b[0m     \u001b[0;32mfor\u001b[0m \u001b[0mevent\u001b[0m\u001b[0;34m,\u001b[0m \u001b[0mpdv\u001b[0m \u001b[0;32min\u001b[0m \u001b[0mcontext\u001b[0m\u001b[0;34m:\u001b[0m\u001b[0;34m\u001b[0m\u001b[0;34m\u001b[0m\u001b[0m\n\u001b[0;32m---> 13\u001b[0;31m         \u001b[0mprocess_pdv\u001b[0m\u001b[0;34m(\u001b[0m\u001b[0mannee\u001b[0m\u001b[0;34m,\u001b[0m \u001b[0mpdv\u001b[0m\u001b[0;34m)\u001b[0m\u001b[0;34m\u001b[0m\u001b[0;34m\u001b[0m\u001b[0m\n\u001b[0m\u001b[1;32m     14\u001b[0m         \u001b[0mpdv\u001b[0m\u001b[0;34m.\u001b[0m\u001b[0mclose\u001b[0m\u001b[0;34m(\u001b[0m\u001b[0;34m)\u001b[0m\u001b[0;34m\u001b[0m\u001b[0;34m\u001b[0m\u001b[0m\n\u001b[1;32m     15\u001b[0m     \u001b[0;31m# fermer le zip\u001b[0m\u001b[0;34m\u001b[0m\u001b[0;34m\u001b[0m\u001b[0;34m\u001b[0m\u001b[0m\n",
      "\u001b[0;32m<ipython-input-9-587d05b81492>\u001b[0m in \u001b[0;36mprocess_pdv\u001b[0;34m(annee, pdv)\u001b[0m\n\u001b[1;32m      7\u001b[0m         \u001b[0mpdv_row\u001b[0m\u001b[0;34m[\u001b[0m\u001b[0mname\u001b[0m\u001b[0;34m]\u001b[0m \u001b[0;34m=\u001b[0m \u001b[0mvalue\u001b[0m\u001b[0;34m\u001b[0m\u001b[0;34m\u001b[0m\u001b[0m\n\u001b[1;32m      8\u001b[0m \u001b[0;34m\u001b[0m\u001b[0m\n\u001b[0;32m----> 9\u001b[0;31m     \u001b[0;32mfor\u001b[0m \u001b[0mname\u001b[0m\u001b[0;34m,\u001b[0m \u001b[0mvalue\u001b[0m \u001b[0;32min\u001b[0m \u001b[0msorted\u001b[0m\u001b[0;34m(\u001b[0m\u001b[0mpdv\u001b[0m\u001b[0;34m.\u001b[0m\u001b[0mfind\u001b[0m\u001b[0;34m(\u001b[0m\u001b[0;34m'ouverture'\u001b[0m\u001b[0;34m)\u001b[0m\u001b[0;34m.\u001b[0m\u001b[0mitems\u001b[0m\u001b[0;34m(\u001b[0m\u001b[0;34m)\u001b[0m\u001b[0;34m)\u001b[0m\u001b[0;34m:\u001b[0m\u001b[0;34m\u001b[0m\u001b[0;34m\u001b[0m\u001b[0m\n\u001b[0m\u001b[1;32m     10\u001b[0m         \u001b[0mpdv_row\u001b[0m\u001b[0;34m[\u001b[0m\u001b[0;34m\"ouverture_\"\u001b[0m \u001b[0;34m+\u001b[0m \u001b[0mname\u001b[0m\u001b[0;34m]\u001b[0m \u001b[0;34m=\u001b[0m \u001b[0mvalue\u001b[0m\u001b[0;34m\u001b[0m\u001b[0;34m\u001b[0m\u001b[0m\n\u001b[1;32m     11\u001b[0m \u001b[0;34m\u001b[0m\u001b[0m\n",
      "\u001b[0;31mAttributeError\u001b[0m: 'NoneType' object has no attribute 'items'"
     ]
    }
   ],
   "source": [
    "for zip_file in glob.glob('data/PrixC*2019.zip'):\n",
    "    annee   = re.findall('.*(\\d{4})\\.zip',zip_file)[0]\n",
    "    xml     = re.findall('([^/]*\\d{4})\\.zip',zip_file)[0] + \".xml\"\n",
    "\n",
    "    # lire le zip\n",
    "    logging.debug(\"Opening ZIP file \" + zip_file)    \n",
    "    zf = zipfile.ZipFile(zip_file, 'r')\n",
    "    # lire le XML\n",
    "    f  = zf.open(xml)\n",
    "    # créer le XMLReader\n",
    "    context = ET.iterparse(f, events=('end',), tag='pdv')\n",
    "    for event, pdv in context:\n",
    "        process_pdv(annee, pdv)\n",
    "        pdv.close()\n",
    "    # fermer le zip\n",
    "    zf.close()"
   ]
  },
  {
   "cell_type": "code",
   "execution_count": 11,
   "metadata": {},
   "outputs": [],
   "source": [
    "pdvcsvfile.close()\n",
    "rupturescsvfile.close()\n",
    "fermeturescsvfile.close()\n",
    "servicescsvfile.close()\n",
    "prixcsvfile.close()"
   ]
  },
  {
   "cell_type": "code",
   "execution_count": null,
   "metadata": {},
   "outputs": [],
   "source": [
    "print(\"{:10} {}\\n\".format(\"CSVs\",\"nb de lignes\"))\n",
    "for csv in glob.glob('*.csv'):\n",
    "    with open(csv) as c:\n",
    "        print(\"{:10} {}\".format(csv[:-4],len(c.readlines())))"
   ]
  }
 ],
 "metadata": {
  "kernelspec": {
   "display_name": "Python 3",
   "language": "python",
   "name": "python3"
  },
  "language_info": {
   "codemirror_mode": {
    "name": "ipython",
    "version": 3
   },
   "file_extension": ".py",
   "mimetype": "text/x-python",
   "name": "python",
   "nbconvert_exporter": "python",
   "pygments_lexer": "ipython3",
   "version": "3.7.1"
  }
 },
 "nbformat": 4,
 "nbformat_minor": 2
}
