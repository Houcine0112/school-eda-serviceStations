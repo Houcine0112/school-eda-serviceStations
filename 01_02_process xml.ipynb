{
 "cells": [
  {
   "cell_type": "markdown",
   "metadata": {},
   "source": [
    "# Processing XMLs with ***lxml*** library"
   ]
  },
  {
   "cell_type": "markdown",
   "metadata": {},
   "source": [
    "## Imports"
   ]
  },
  {
   "cell_type": "code",
   "execution_count": 2,
   "metadata": {},
   "outputs": [],
   "source": [
    "import glob                  \n",
    "import os\n",
    "from lxml import etree as ET \n",
    "import zipfile\n",
    "import csv\n",
    "import logging\n",
    "import shutil\n",
    "import re"
   ]
  },
  {
   "cell_type": "code",
   "execution_count": 3,
   "metadata": {},
   "outputs": [],
   "source": [
    "logging.basicConfig(level='INFO')"
   ]
  },
  {
   "cell_type": "code",
   "execution_count": 4,
   "metadata": {},
   "outputs": [],
   "source": [
    "# Création du CSV qui contient les données des points de ventes\n",
    "pdvcsvfile = open('pdv.csv', 'w')\n",
    "pdvnames   = [\"annee\",\n",
    "              \"id\",\n",
    "              \"latitude\",\n",
    "              \"longitude\",\n",
    "              \"cp\",\n",
    "              \"pop\",\n",
    "              \"ouverture_debut\",\n",
    "              \"ouverture_fin\",\n",
    "              \"ouverture_saufjour\",\n",
    "              \"adresse\",\n",
    "              \"ville\"]\n",
    "pdv_writer = csv.DictWriter(pdvcsvfile, fieldnames=pdvnames)\n",
    "pdv_writer.writeheader()\n",
    "\n",
    "# Création du CSV qui contient les données des ruptures\n",
    "rupturescsvfile = open('ruptures.csv', 'w')\n",
    "rupturesnames = [\"annee\",\n",
    "                 \"id_pdv\",\n",
    "                 \"id\",\n",
    "                 \"nom\",\n",
    "                 \"debut\",\n",
    "                 \"fin\"]\n",
    "ruptures_writer = csv.DictWriter(rupturescsvfile, fieldnames=rupturesnames)\n",
    "ruptures_writer.writeheader()\n",
    "\n",
    "# Création du CSV qui contient les données des fermetures\n",
    "fermeturescsvfile = open('fermetures.csv', 'w')\n",
    "fermeturesnames = [\"annee\",\n",
    "                   \"id_pdv\",\n",
    "                   \"type\",\n",
    "                   \"debut\",\n",
    "                   \"fin\"]\n",
    "fermetures_writer = csv.DictWriter(fermeturescsvfile, fieldnames=fermeturesnames)\n",
    "fermetures_writer.writeheader()\n",
    "\n",
    "\n",
    "# Création du CSV qui contient les données des prix\n",
    "prixcsvfile = open('prix.csv', 'w')\n",
    "prixnames   = [\"annee\",\n",
    "              \"id_pdv\",\n",
    "              \"nom\",\n",
    "              \"id\",\n",
    "              \"maj\",\n",
    "              \"valeur\"]\n",
    "prix_writer = csv.DictWriter(prixcsvfile, fieldnames=prixnames)\n",
    "prix_writer.writeheader()\n",
    "\n",
    "# Création du CSV qui contient les données des services\n",
    "servicescsvfile = open('services.csv', 'w')\n",
    "servicesnames   = [\"annee\",\n",
    "                   \"id_pdv\",\n",
    "                   \"service\"]\n",
    "services_writer = csv.DictWriter(servicescsvfile, fieldnames=servicesnames)\n",
    "services_writer.writeheader()\n",
    "\n",
    "\n",
    "# horaires : les horaires par jour de la semaine,\n",
    "# Création du CSV qui contient les données des horaires\n",
    "horairescsvfile = open('horaires.csv', 'w')\n",
    "horairesnames   = [\"annee\",\n",
    "                   \"id_pdv\",\n",
    "                   \"jour\",\n",
    "                   \"ouverture\",\n",
    "                   \"fermeture\"]\n",
    "horaires_writer = csv.DictWriter(horairescsvfile, fieldnames=horairesnames)\n",
    "horaires_writer.writeheader()"
   ]
  },
  {
   "cell_type": "code",
   "execution_count": 5,
   "metadata": {},
   "outputs": [],
   "source": [
    "# form XML element and a path : return content if exists else return empty string\n",
    "def txt_path(element, path='.'):\n",
    "    content = str(element.find(path).text) if element.find(path) is not None else \"\"\n",
    "    return content"
   ]
  },
  {
   "cell_type": "code",
   "execution_count": 6,
   "metadata": {},
   "outputs": [],
   "source": [
    "def process_horaires(annee, id_pdv, jour):\n",
    "    horaires_row           = dict.fromkeys(horairesnames)\n",
    "    horaires_row['annee']  = annee\n",
    "    horaires_row['id_pdv'] = id_pdv\n",
    "    #horaires_row[\"jour\"]   = jour.items()[\"nom\"]\n",
    "    print(jour.items())\n",
    "    for horaire in jour.findall('horaire'):\n",
    "        # attributes : ouverture, fermeture\n",
    "        for name, value in sorted(horaire.items()):\n",
    "            horaires_row[name] = value\n",
    "            horaires_writer.writerow(horaires_row)"
   ]
  },
  {
   "cell_type": "code",
   "execution_count": 7,
   "metadata": {},
   "outputs": [],
   "source": [
    "def process_prix(annee, id_pdv, prix):\n",
    "    prix_row           = dict.fromkeys(prixnames)\n",
    "    prix_row['annee']  = annee\n",
    "    prix_row['id_pdv'] = id_pdv\n",
    "    # attributes : nom, id, maj, valeur\n",
    "    for name, value in sorted(prix.items()):\n",
    "        prix_row[name] = value\n",
    "    prix_writer.writerow(prix_row)"
   ]
  },
  {
   "cell_type": "code",
   "execution_count": 8,
   "metadata": {},
   "outputs": [],
   "source": [
    "def process_service(annee, id_pdv, service):\n",
    "    services_row            = dict.fromkeys(servicesnames)\n",
    "    services_row['annee']   = annee\n",
    "    services_row['id_pdv']  = id_pdv\n",
    "    services_row[\"service\"] = txt_path(service)\n",
    "    services_writer.writerow(services_row)"
   ]
  },
  {
   "cell_type": "code",
   "execution_count": 9,
   "metadata": {},
   "outputs": [],
   "source": [
    "def process_rupture(annee, id_pdv, rupture):\n",
    "    ruptures_row           = dict.fromkeys(rupturesnames)\n",
    "    ruptures_row['annee']  = annee\n",
    "    ruptures_row['id_pdv'] = id_pdv\n",
    "    # attributes : id, nom, debut, fin\n",
    "    for name, value in sorted(rupture.items()):\n",
    "        ruptures_row[name] = value\n",
    "    ruptures_writer.writerow(ruptures_row)"
   ]
  },
  {
   "cell_type": "code",
   "execution_count": 10,
   "metadata": {},
   "outputs": [],
   "source": [
    "def process_fermeture(annee, id_pdv, fermeture):\n",
    "    fermetures_row           = dict.fromkeys(fermeturesnames)\n",
    "    fermetures_row['annee']  = annee\n",
    "    fermetures_row['id_pdv'] = id_pdv\n",
    "    # attributes : type, debut, fin\n",
    "    for name, value in sorted(fermeture.items()):\n",
    "        fermetures_row[name] = value\n",
    "    fermetures_writer.writerow(fermetures_row)"
   ]
  },
  {
   "cell_type": "code",
   "execution_count": 11,
   "metadata": {},
   "outputs": [],
   "source": [
    "def process_pdv(annee, pdv):\n",
    "    pdv_row            = dict.fromkeys(pdvnames)\n",
    "    pdv_row['annee']   = annee\n",
    "    pdv_row['adresse'] = txt_path(pdv, 'adresse')\n",
    "    pdv_row['ville']   = txt_path(pdv, 'ville')\n",
    "    # attributes : id, latitude, longitude, cp, pop\n",
    "    for name, value in sorted(pdv.items()):\n",
    "        pdv_row[name] = value\n",
    "    # if 'ouverture' exists\n",
    "    # attributes : debut, fin, saufjour\n",
    "    if not pdv.find('ouverture') is None:\n",
    "        for name, value in sorted(pdv.find('ouverture').items()):\n",
    "            pdv_row[\"ouverture_\" + name] = value\n",
    "    \n",
    "    id_pdv = pdv_row['id']\n",
    "    for prix in pdv.findall('prix'):\n",
    "        process_prix(annee, id_pdv, prix)\n",
    "    \n",
    "    for service in pdv.findall('services/service'):\n",
    "        process_service(annee, id_pdv, service)\n",
    "    \n",
    "    for rupture in pdv.findall('rupture'):\n",
    "        process_rupture(annee, id_pdv, rupture)\n",
    "        \n",
    "    for fermeture in pdv.findall('fermeture'):\n",
    "        process_fermeture(annee, id_pdv, fermeture)\n",
    "    \n",
    "    for jour in pdv.findall('horaires/jour'):\n",
    "        process_horaires(annee, id_pdv, jour)\n",
    "        \n",
    "    pdv_writer.writerow(pdv_row)"
   ]
  },
  {
   "cell_type": "code",
   "execution_count": 12,
   "metadata": {},
   "outputs": [],
   "source": [
    "def process_all(data_file=\".\"):\n",
    "    for zip_file in glob.glob(data_file+'/PrixC*.zip'):\n",
    "        annee   = re.findall('.*(\\d{4})\\.zip',zip_file)[0]\n",
    "        xml     = re.findall('([^/]*\\d{4})\\.zip',zip_file)[0] + \".xml\"\n",
    "        # read zip\n",
    "        logging.debug(\"Opening ZIP file \" + zip_file)    \n",
    "        zf = zipfile.ZipFile(zip_file, 'r')\n",
    "        # read the XML\n",
    "        f  = zf.open(xml)\n",
    "        # context : it is an iterator of a map of trees built from \"<pdv></pdv>\" tags\n",
    "        context = ET.iterparse(f, events=('end',), tag='pdv')\n",
    "        for event, pdv in context:\n",
    "            process_pdv(annee, pdv)\n",
    "            pdv.clear() # clear sub-tree from memory\n",
    "        # fermer le zip\n",
    "        zf.close()"
   ]
  },
  {
   "cell_type": "code",
   "execution_count": 13,
   "metadata": {},
   "outputs": [
    {
     "ename": "TypeError",
     "evalue": "list indices must be integers or slices, not str",
     "output_type": "error",
     "traceback": [
      "\u001b[0;31m--------------------------------------------------------------------------\u001b[0m",
      "\u001b[0;31mTypeError\u001b[0m                                Traceback (most recent call last)",
      "\u001b[0;32m<ipython-input-13-87066cd387a0>\u001b[0m in \u001b[0;36m<module>\u001b[0;34m\u001b[0m\n\u001b[1;32m      1\u001b[0m \u001b[0mdata_file\u001b[0m \u001b[0;34m=\u001b[0m \u001b[0;34m'data'\u001b[0m\u001b[0;34m\u001b[0m\u001b[0;34m\u001b[0m\u001b[0m\n\u001b[1;32m      2\u001b[0m \u001b[0;31m# data_file = '/tmp/gas'\u001b[0m\u001b[0;34m\u001b[0m\u001b[0;34m\u001b[0m\u001b[0;34m\u001b[0m\u001b[0m\n\u001b[0;32m----> 3\u001b[0;31m \u001b[0mprocess_all\u001b[0m\u001b[0;34m(\u001b[0m\u001b[0mdata_file\u001b[0m\u001b[0;34m)\u001b[0m\u001b[0;34m\u001b[0m\u001b[0;34m\u001b[0m\u001b[0m\n\u001b[0m",
      "\u001b[0;32m<ipython-input-12-435fdd84c0ff>\u001b[0m in \u001b[0;36mprocess_all\u001b[0;34m(data_file)\u001b[0m\n\u001b[1;32m     11\u001b[0m         \u001b[0mcontext\u001b[0m \u001b[0;34m=\u001b[0m \u001b[0mET\u001b[0m\u001b[0;34m.\u001b[0m\u001b[0miterparse\u001b[0m\u001b[0;34m(\u001b[0m\u001b[0mf\u001b[0m\u001b[0;34m,\u001b[0m \u001b[0mevents\u001b[0m\u001b[0;34m=\u001b[0m\u001b[0;34m(\u001b[0m\u001b[0;34m'end'\u001b[0m\u001b[0;34m,\u001b[0m\u001b[0;34m)\u001b[0m\u001b[0;34m,\u001b[0m \u001b[0mtag\u001b[0m\u001b[0;34m=\u001b[0m\u001b[0;34m'pdv'\u001b[0m\u001b[0;34m)\u001b[0m\u001b[0;34m\u001b[0m\u001b[0;34m\u001b[0m\u001b[0m\n\u001b[1;32m     12\u001b[0m         \u001b[0;32mfor\u001b[0m \u001b[0mevent\u001b[0m\u001b[0;34m,\u001b[0m \u001b[0mpdv\u001b[0m \u001b[0;32min\u001b[0m \u001b[0mcontext\u001b[0m\u001b[0;34m:\u001b[0m\u001b[0;34m\u001b[0m\u001b[0;34m\u001b[0m\u001b[0m\n\u001b[0;32m---> 13\u001b[0;31m             \u001b[0mprocess_pdv\u001b[0m\u001b[0;34m(\u001b[0m\u001b[0mannee\u001b[0m\u001b[0;34m,\u001b[0m \u001b[0mpdv\u001b[0m\u001b[0;34m)\u001b[0m\u001b[0;34m\u001b[0m\u001b[0;34m\u001b[0m\u001b[0m\n\u001b[0m\u001b[1;32m     14\u001b[0m             \u001b[0mpdv\u001b[0m\u001b[0;34m.\u001b[0m\u001b[0mclear\u001b[0m\u001b[0;34m(\u001b[0m\u001b[0;34m)\u001b[0m \u001b[0;31m# clear sub-tree from memory\u001b[0m\u001b[0;34m\u001b[0m\u001b[0;34m\u001b[0m\u001b[0m\n\u001b[1;32m     15\u001b[0m         \u001b[0;31m# fermer le zip\u001b[0m\u001b[0;34m\u001b[0m\u001b[0;34m\u001b[0m\u001b[0;34m\u001b[0m\u001b[0m\n",
      "\u001b[0;32m<ipython-input-11-1a197ff9c982>\u001b[0m in \u001b[0;36mprocess_pdv\u001b[0;34m(annee, pdv)\u001b[0m\n\u001b[1;32m     27\u001b[0m \u001b[0;34m\u001b[0m\u001b[0m\n\u001b[1;32m     28\u001b[0m     \u001b[0;32mfor\u001b[0m \u001b[0mjour\u001b[0m \u001b[0;32min\u001b[0m \u001b[0mpdv\u001b[0m\u001b[0;34m.\u001b[0m\u001b[0mfindall\u001b[0m\u001b[0;34m(\u001b[0m\u001b[0;34m'horaires/jour'\u001b[0m\u001b[0;34m)\u001b[0m\u001b[0;34m:\u001b[0m\u001b[0;34m\u001b[0m\u001b[0;34m\u001b[0m\u001b[0m\n\u001b[0;32m---> 29\u001b[0;31m         \u001b[0mprocess_horaires\u001b[0m\u001b[0;34m(\u001b[0m\u001b[0mannee\u001b[0m\u001b[0;34m,\u001b[0m \u001b[0mid_pdv\u001b[0m\u001b[0;34m,\u001b[0m \u001b[0mjour\u001b[0m\u001b[0;34m)\u001b[0m\u001b[0;34m\u001b[0m\u001b[0;34m\u001b[0m\u001b[0m\n\u001b[0m\u001b[1;32m     30\u001b[0m \u001b[0;34m\u001b[0m\u001b[0m\n\u001b[1;32m     31\u001b[0m     \u001b[0mpdv_writer\u001b[0m\u001b[0;34m.\u001b[0m\u001b[0mwriterow\u001b[0m\u001b[0;34m(\u001b[0m\u001b[0mpdv_row\u001b[0m\u001b[0;34m)\u001b[0m\u001b[0;34m\u001b[0m\u001b[0;34m\u001b[0m\u001b[0m\n",
      "\u001b[0;32m<ipython-input-6-fc782d5a428c>\u001b[0m in \u001b[0;36mprocess_horaires\u001b[0;34m(annee, id_pdv, jour)\u001b[0m\n\u001b[1;32m      3\u001b[0m     \u001b[0mhoraires_row\u001b[0m\u001b[0;34m[\u001b[0m\u001b[0;34m'annee'\u001b[0m\u001b[0;34m]\u001b[0m  \u001b[0;34m=\u001b[0m \u001b[0mannee\u001b[0m\u001b[0;34m\u001b[0m\u001b[0;34m\u001b[0m\u001b[0m\n\u001b[1;32m      4\u001b[0m     \u001b[0mhoraires_row\u001b[0m\u001b[0;34m[\u001b[0m\u001b[0;34m'id_pdv'\u001b[0m\u001b[0;34m]\u001b[0m \u001b[0;34m=\u001b[0m \u001b[0mid_pdv\u001b[0m\u001b[0;34m\u001b[0m\u001b[0;34m\u001b[0m\u001b[0m\n\u001b[0;32m----> 5\u001b[0;31m     \u001b[0mhoraires_row\u001b[0m\u001b[0;34m[\u001b[0m\u001b[0;34m\"jour\"\u001b[0m\u001b[0;34m]\u001b[0m   \u001b[0;34m=\u001b[0m \u001b[0mjour\u001b[0m\u001b[0;34m.\u001b[0m\u001b[0mitems\u001b[0m\u001b[0;34m(\u001b[0m\u001b[0;34m)\u001b[0m\u001b[0;34m[\u001b[0m\u001b[0;34m\"nom\"\u001b[0m\u001b[0;34m]\u001b[0m\u001b[0;34m\u001b[0m\u001b[0;34m\u001b[0m\u001b[0m\n\u001b[0m\u001b[1;32m      6\u001b[0m     \u001b[0;32mfor\u001b[0m \u001b[0mhoraire\u001b[0m \u001b[0;32min\u001b[0m \u001b[0mjour\u001b[0m\u001b[0;34m.\u001b[0m\u001b[0mfindall\u001b[0m\u001b[0;34m(\u001b[0m\u001b[0;34m'horaire'\u001b[0m\u001b[0;34m)\u001b[0m\u001b[0;34m:\u001b[0m\u001b[0;34m\u001b[0m\u001b[0;34m\u001b[0m\u001b[0m\n\u001b[1;32m      7\u001b[0m         \u001b[0;31m# attributes : ouverture, fermeture\u001b[0m\u001b[0;34m\u001b[0m\u001b[0;34m\u001b[0m\u001b[0;34m\u001b[0m\u001b[0m\n",
      "\u001b[0;31mTypeError\u001b[0m: list indices must be integers or slices, not str"
     ]
    }
   ],
   "source": [
    "data_file = 'data'\n",
    "# data_file = '/tmp/gas'\n",
    "process_all(data_file)"
   ]
  },
  {
   "cell_type": "code",
   "execution_count": 39,
   "metadata": {},
   "outputs": [],
   "source": [
    "pdvcsvfile.close()\n",
    "rupturescsvfile.close()\n",
    "fermeturescsvfile.close()\n",
    "servicescsvfile.close()\n",
    "prixcsvfile.close()"
   ]
  },
  {
   "cell_type": "code",
   "execution_count": 40,
   "metadata": {},
   "outputs": [
    {
     "name": "stdout",
     "output_type": "stream",
     "text": [
      "CSVs       nb de lignes\n",
      "\n",
      "prix       28552955\n",
      "fermetures 139614\n",
      "pdv        140882\n",
      "ruptures   260876\n",
      "services   837092\n"
     ]
    }
   ],
   "source": [
    "print(\"{:10} {}\\n\".format(\"CSVs\",\"nb de lignes\"))\n",
    "for csv in glob.glob('*.csv'):\n",
    "    with open(csv) as c:\n",
    "        print(\"{:10} {}\".format(csv[:-4],len(c.readlines())))"
   ]
  },
  {
   "cell_type": "code",
   "execution_count": null,
   "metadata": {},
   "outputs": [],
   "source": []
  }
 ],
 "metadata": {
  "kernelspec": {
   "display_name": "Python 3",
   "language": "python",
   "name": "python3"
  },
  "language_info": {
   "codemirror_mode": {
    "name": "ipython",
    "version": 3
   },
   "file_extension": ".py",
   "mimetype": "text/x-python",
   "name": "python",
   "nbconvert_exporter": "python",
   "pygments_lexer": "ipython3",
   "version": "3.7.1"
  }
 },
 "nbformat": 4,
 "nbformat_minor": 2
}
