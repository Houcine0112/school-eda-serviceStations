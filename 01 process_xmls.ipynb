{
 "cells": [
  {
   "cell_type": "markdown",
   "metadata": {
    "pycharm": {}
   },
   "source": [
    "# Préparation des données"
   ]
  },
  {
   "cell_type": "markdown",
   "metadata": {
    "pycharm": {}
   },
   "source": [
    "## Les  imports"
   ]
  },
  {
   "cell_type": "code",
   "execution_count": 5,
   "metadata": {
    "pycharm": {
     "is_executing": false
    }
   },
   "outputs": [],
   "source": [
    "import zipfile\n",
    "import xml.sax\n",
    "import csv\n",
    "import glob\n",
    "import logging\n",
    "import shutil\n",
    "import os"
   ]
  },
  {
   "cell_type": "code",
   "execution_count": 3,
   "metadata": {
    "pycharm": {
     "is_executing": false
    }
   },
   "outputs": [],
   "source": [
    "logging.basicConfig(level='INFO')"
   ]
  },
  {
   "cell_type": "code",
   "execution_count": 4,
   "metadata": {
    "pycharm": {
     "is_executing": false
    }
   },
   "outputs": [],
   "source": [
    "## Modifier le WorkDirectory\n",
    "wdir = '.'"
   ]
  },
  {
   "cell_type": "code",
   "execution_count": 6,
   "metadata": {
    "pycharm": {
     "is_executing": false
    }
   },
   "outputs": [
    {
     "name": "stdout",
     "output_type": "stream",
     "text": [
      "'01 process_xmls.ipynb'   data\t\t   pdv.csv     ruptures.csv\n",
      "'02 clean_data.ipynb'\t  fermetures.csv   prix.csv    services.csv\n",
      "'03 explore_data.ipynb'  'git link.txt'    README.md\n"
     ]
    }
   ],
   "source": [
    "!ls"
   ]
  },
  {
   "cell_type": "code",
   "execution_count": 7,
   "metadata": {
    "pycharm": {
     "is_executing": false
    }
   },
   "outputs": [
    {
     "name": "stdout",
     "output_type": "stream",
     "text": [
      "current work dir is: /home/houcine/workspace/school-eda-serviceStations\n"
     ]
    }
   ],
   "source": [
    "os.chdir(wdir)\n",
    "print('current work dir is:', os.getcwd())"
   ]
  },
  {
   "cell_type": "markdown",
   "metadata": {
    "pycharm": {}
   },
   "source": [
    "## Copie des XML dans le répertoire **'workDirectory'**"
   ]
  },
  {
   "cell_type": "code",
   "execution_count": 6,
   "metadata": {
    "pycharm": {
     "is_executing": false
    }
   },
   "outputs": [
    {
     "ename": "NameError",
     "evalue": "name 'glob' is not defined",
     "output_type": "error",
     "traceback": [
      "\u001b[0;31m---------------------------------------------------------------------------\u001b[0m",
      "\u001b[0;31mNameError\u001b[0m                                 Traceback (most recent call last)",
      "\u001b[0;32m<ipython-input-6-3cc9304ae267>\u001b[0m in \u001b[0;36m<module>\u001b[0;34m()\u001b[0m\n\u001b[0;32m----> 1\u001b[0;31m \u001b[0mfiles\u001b[0m \u001b[0;34m=\u001b[0m \u001b[0mglob\u001b[0m\u001b[0;34m.\u001b[0m\u001b[0mglob\u001b[0m\u001b[0;34m(\u001b[0m\u001b[0;34m'/home/gisEns/jcartign/datasets/PrixC*.zip'\u001b[0m\u001b[0;34m)\u001b[0m\u001b[0;34m\u001b[0m\u001b[0;34m\u001b[0m\u001b[0m\n\u001b[0m\u001b[1;32m      2\u001b[0m \u001b[0;32mfor\u001b[0m \u001b[0mf\u001b[0m \u001b[0;32min\u001b[0m \u001b[0mfiles\u001b[0m\u001b[0;34m:\u001b[0m\u001b[0;34m\u001b[0m\u001b[0;34m\u001b[0m\u001b[0m\n\u001b[1;32m      3\u001b[0m     \u001b[0mf_name\u001b[0m \u001b[0;34m=\u001b[0m \u001b[0mf\u001b[0m\u001b[0;34m[\u001b[0m\u001b[0;34m-\u001b[0m\u001b[0;36m30\u001b[0m\u001b[0;34m:\u001b[0m\u001b[0;34m]\u001b[0m\u001b[0;34m\u001b[0m\u001b[0;34m\u001b[0m\u001b[0m\n\u001b[1;32m      4\u001b[0m     \u001b[0;32mif\u001b[0m \u001b[0;32mnot\u001b[0m \u001b[0mf_name\u001b[0m \u001b[0;32min\u001b[0m \u001b[0mos\u001b[0m\u001b[0;34m.\u001b[0m\u001b[0mlistdir\u001b[0m\u001b[0;34m(\u001b[0m\u001b[0;34m'.'\u001b[0m\u001b[0;34m)\u001b[0m\u001b[0;34m:\u001b[0m\u001b[0;34m\u001b[0m\u001b[0;34m\u001b[0m\u001b[0m\n\u001b[1;32m      5\u001b[0m         \u001b[0mshutil\u001b[0m\u001b[0;34m.\u001b[0m\u001b[0mcopy\u001b[0m\u001b[0;34m(\u001b[0m\u001b[0mf\u001b[0m\u001b[0;34m,\u001b[0m \u001b[0;34m'.'\u001b[0m\u001b[0;34m)\u001b[0m\u001b[0;34m\u001b[0m\u001b[0;34m\u001b[0m\u001b[0m\n",
      "\u001b[0;31mNameError\u001b[0m: name 'glob' is not defined"
     ]
    }
   ],
   "source": [
    "files = glob.glob('/home/gisEns/jcartign/datasets/PrixC*.zip')\n",
    "for f in files:\n",
    "    f_name = f[-30:] \n",
    "    if not f_name in os.listdir('.'):\n",
    "        shutil.copy(f, '.')"
   ]
  },
  {
   "cell_type": "code",
   "execution_count": 13,
   "metadata": {
    "pycharm": {
     "is_executing": false
    }
   },
   "outputs": [],
   "source": [
    "unused_tags = []"
   ]
  },
  {
   "cell_type": "markdown",
   "metadata": {
    "pycharm": {}
   },
   "source": [
    "## Création des CSV"
   ]
  },
  {
   "cell_type": "code",
   "execution_count": 14,
   "metadata": {
    "pycharm": {
     "is_executing": false
    }
   },
   "outputs": [],
   "source": [
    "# Création du CSV qui contient les données des points de ventes\n",
    "pdvcsvfile = open('pdv.csv', 'w')\n",
    "pdvnames   = [\"annee\",\n",
    "              \"id\",\n",
    "              \"latitude\",\n",
    "              \"longitude\",\n",
    "              \"cp\",\n",
    "              \"pop\",\n",
    "              \"ouverture_debut\",\n",
    "              \"ouverture_fin\",\n",
    "              \"ouverture_saufjour\",\n",
    "              \"adresse\",\n",
    "              \"ville\"]\n",
    "pdv_writer = csv.DictWriter(pdvcsvfile, fieldnames=pdvnames)\n",
    "pdv_writer.writeheader()\n",
    "\n",
    "# Création du CSV qui contient les données des ruptures\n",
    "rupturescsvfile = open('ruptures.csv', 'w')\n",
    "rupturesnames = [\"annee\",\n",
    "                 \"id_pdv\",\n",
    "                 \"id\",\n",
    "                 \"nom\",\n",
    "                 \"debut\",\n",
    "                 \"fin\"]\n",
    "ruptures_writer = csv.DictWriter(rupturescsvfile, fieldnames=rupturesnames)\n",
    "ruptures_writer.writeheader()\n",
    "\n",
    "# Création du CSV qui contient les données des fermetures\n",
    "fermeturescsvfile = open('fermetures.csv', 'w')\n",
    "fermeturesnames = [\"annee\",\n",
    "                   \"id_pdv\",\n",
    "                   \"type\",\n",
    "                   \"debut\",\n",
    "                   \"fin\"]\n",
    "fermetures_writer = csv.DictWriter(fermeturescsvfile, fieldnames=fermeturesnames)\n",
    "fermetures_writer.writeheader()\n",
    "\n",
    "\n",
    "# Création du CSV qui contient les données des prix\n",
    "prixcsvfile = open('prix.csv', 'w')\n",
    "prixnames   = [\"annee\",\n",
    "              \"id_pdv\",\n",
    "              \"nom\",\n",
    "              \"id\",\n",
    "              \"maj\",\n",
    "              \"valeur\"]\n",
    "prix_writer = csv.DictWriter(prixcsvfile, fieldnames=prixnames)\n",
    "prix_writer.writeheader()\n",
    "\n",
    "# Création du CSV qui contient les données des services\n",
    "servicescsvfile = open('services.csv', 'w')\n",
    "servicesnames   = [\"annee\",\n",
    "                   \"id_pdv\",\n",
    "                   \"service\"]\n",
    "services_writer = csv.DictWriter(servicescsvfile, fieldnames=servicesnames)\n",
    "services_writer.writeheader()\n",
    "\n",
    "\n",
    "# Initialisation des dictionnaire des lignes temporiaires à inserer dans les csv\n",
    "pdv_row        = dict.fromkeys(pdvnames)\n",
    "ruptures_row   = dict.fromkeys(rupturesnames)\n",
    "fermetures_row = dict.fromkeys(fermeturesnames)\n",
    "prix_row       = dict.fromkeys(prixnames)\n",
    "services_row   = dict.fromkeys(servicesnames)"
   ]
  },
  {
   "cell_type": "markdown",
   "metadata": {
    "pycharm": {}
   },
   "source": [
    "## le SaxParserHandler"
   ]
  },
  {
   "cell_type": "code",
   "execution_count": 7,
   "metadata": {
    "pycharm": {}
   },
   "outputs": [],
   "source": [
    "class PdvHandler(xml.sax.ContentHandler):\n",
    "    def __init__(self, annee): # on passe l'année en parametre au constructeur\n",
    "        self.CurrentData = \"\"\n",
    "        self.annee       = annee\n",
    "        self.id_pdv      = \"\"\n",
    "        self.adresse     = \"\"\n",
    "        self.ville       = \"\"\n",
    "        self.service     = \"\"\n",
    "        self.isVille     = False\n",
    "      \n",
    "   # Call when an element starts\n",
    "    def startElement(self, tag, attributes):\n",
    "        self.CurrentData = tag\n",
    "        # quand on trouve la balise pdv\n",
    "        if tag == \"pdv\":\n",
    "            pdv_row['annee']= self.annee       # on commence l'implementation de la ligne à inserer\n",
    "                                            # dans le pdvCsv\n",
    "            self.id_pdv = attributes['id']     # on garde le id du pdv pour le rajouter dans les autres \n",
    "                                            # CSV comme clé primaire\n",
    "            if attributes.getNames() != []:\n",
    "                #id, latitude, longitude, cp, pop\n",
    "                for name in attributes.getNames():\n",
    "                    pdv_row[name] = attributes.getValue(name)\n",
    "\n",
    "        # quand on trouve la balise ouverture\n",
    "        elif tag == \"ville\":\n",
    "            self.isVille = True\n",
    "        elif tag == \"ouverture\":\n",
    "            if attributes.getNames() != []:\n",
    "                #debut, fin, saufjour\n",
    "                for name in attributes.getNames():\n",
    "                    pdv_row[\"ouverture_\"+name] = attributes.getValue(name)\n",
    "            \n",
    "        # quand on trouve la balise fermeture\n",
    "        elif tag == \"fermeture\":\n",
    "            fermetures_row[\"annee\"] = self.annee\n",
    "            fermetures_row[\"id_pdv\"] = self.id_pdv\n",
    "            if attributes.getNames() != []:\n",
    "                #typve, debut, fin\n",
    "                for name in attributes.getNames():\n",
    "                    fermetures_row[name] = attributes.getValue(name)\n",
    "                \n",
    "        # quand on trouve la balise rupture\n",
    "        elif tag == \"rupture\":\n",
    "            ruptures_row[\"annee\"] = self.annee\n",
    "            ruptures_row[\"id_pdv\"] = self.id_pdv\n",
    "            if attributes.getNames() != []:\n",
    "                #id, nom, debut, fin\n",
    "                for name in attributes.getNames():\n",
    "                    ruptures_row[name] = attributes.getValue(name)\n",
    "                    \n",
    "        # quand on trouve la balise prix\n",
    "        elif tag == \"prix\":\n",
    "            if attributes.getNames() != []:\n",
    "                prix_row['annee']  = self.annee\n",
    "                prix_row['id_pdv'] = self.id_pdv\n",
    "                #nom, id, maj, valeur\n",
    "                for name in attributes.getNames():\n",
    "                    prix_row[name] = attributes.getValue(name)\n",
    "        elif self.isVille:\n",
    "            self.ville += tag\n",
    "        else:\n",
    "            unused_tags.append(tag)\n",
    "    # Call when an elements ends\n",
    "    def endElement(self, tag):\n",
    "        if self.CurrentData == \"adresse\":\n",
    "            pdv_row[\"adresse\"] = self.adresse\n",
    "        elif self.CurrentData == \"ville\":\n",
    "            self.isVille = False\n",
    "            pdv_row[\"ville\"] = self.ville\n",
    "            self.ville = \"\"\n",
    "        elif self.CurrentData == \"service\":\n",
    "            services_row['annee']   = self.annee\n",
    "            services_row['id_pdv']  = self.id_pdv\n",
    "            services_row[\"service\"] = self.service\n",
    "            #services_writer.writerow(services_row) # insertion de la ligne dans le csv\n",
    "        elif self.CurrentData == \"prix\":\n",
    "            pass\n",
    "            #prix_writer.writerow(prix_row)         # insertion de la ligne dans le csv\n",
    "        elif tag == \"pdv\":\n",
    "            #pdv_writer.writerow(pdv_row)           # insertion de la ligne dans le csv\n",
    "            self.CurrentData = \"\"\n",
    "        elif tag == \"rupture\":\n",
    "            #ruptures_writer.writerow(ruptures_row)           # insertion de la ligne dans le csv\n",
    "            self.CurrentData = \"\"\n",
    "        elif tag == \"fermeture\":\n",
    "            #fermetures_writer.writerow(fermetures_row)           # insertion de la ligne dans le csv\n",
    "            self.CurrentData = \"\"\n",
    "    # Call when a character is read\n",
    "    def characters(self, content):\n",
    "        if self.CurrentData == \"adresse\":\n",
    "            self.adresse = content\n",
    "        elif self.CurrentData == \"ville\" or self.isVille:\n",
    "            self.ville += content.strip()\n",
    "        elif self.CurrentData == \"service\":\n",
    "            self.service = content\n",
    "  "
   ]
  },
  {
   "cell_type": "markdown",
   "metadata": {
    "pycharm": {}
   },
   "source": [
    "## Traitement des Zip et Parsing des XML dans les CSV"
   ]
  },
  {
   "cell_type": "code",
   "execution_count": 8,
   "metadata": {
    "pycharm": {}
   },
   "outputs": [],
   "source": [
    "def execute():\n",
    "    # Pour chaque fichier zip dans 'WorkDiirectory' et qui commence par 'PrixC' et se termine par '.zip'\n",
    "    for pathZip in glob.glob('data/PrixC*.zip'):\n",
    "        annee   = pathZip[-8:-4]\n",
    "        nameXml = pathZip[-30:-3]+\"xml\"\n",
    "\n",
    "        # lire le zip\n",
    "        logging.debug(\"Opening ZIP file \" + pathZip)    \n",
    "        zf = zipfile.ZipFile(pathZip, 'r')\n",
    "        # lire le XML\n",
    "        f  = zf.open(nameXml)\n",
    "        # créer le XMLReader\n",
    "        parser = xml.sax.make_parser()\n",
    "        # turn off namepsaces\n",
    "        parser.setFeature(xml.sax.handler.feature_namespaces, 0)\n",
    "        # Construire le Handler\n",
    "        Handler = PdvHandler(annee)\n",
    "        # Override le superHandler\n",
    "        parser.setContentHandler(Handler)\n",
    "        # Parser\n",
    "        logging.debug(\"Parsing XML file \" + nameXml)\n",
    "        parser.parse(f)\n",
    "\n",
    "        # fermer le zip\n",
    "        zf.close()"
   ]
  },
  {
   "cell_type": "code",
   "execution_count": 9,
   "metadata": {
    "pycharm": {}
   },
   "outputs": [],
   "source": [
    "execute()"
   ]
  },
  {
   "cell_type": "code",
   "execution_count": 10,
   "metadata": {
    "pycharm": {}
   },
   "outputs": [
    {
     "data": {
      "text/plain": [
       "{'adresse', 'horaire', 'horaires', 'jour', 'pdv_liste', 'service', 'services'}"
      ]
     },
     "execution_count": 10,
     "metadata": {},
     "output_type": "execute_result"
    }
   ],
   "source": [
    "set(unused_tags)"
   ]
  },
  {
   "cell_type": "markdown",
   "metadata": {
    "pycharm": {}
   },
   "source": [
    "## Fermeture des CSV ouverts"
   ]
  },
  {
   "cell_type": "code",
   "execution_count": 47,
   "metadata": {
    "pycharm": {}
   },
   "outputs": [],
   "source": [
    "pdvcsvfile.close()\n",
    "rupturescsvfile.close()\n",
    "fermeturescsvfile.close()\n",
    "servicescsvfile.close()\n",
    "prixcsvfile.close()"
   ]
  },
  {
   "cell_type": "markdown",
   "metadata": {
    "pycharm": {}
   },
   "source": [
    "## Verification du nombre de ligne insérées"
   ]
  },
  {
   "cell_type": "code",
   "execution_count": 15,
   "metadata": {
    "pycharm": {
     "is_executing": false
    }
   },
   "outputs": [
    {
     "name": "stdout",
     "output_type": "stream",
     "text": [
      "CSVs       nb de lignes\n",
      "\n",
      "prix       0\n",
      "fermetures 0\n",
      "pdv        0\n",
      "ruptures   0\n",
      "services   0\n"
     ]
    }
   ],
   "source": [
    "print(\"{:10} {}\\n\".format(\"CSVs\",\"nb de lignes\"))\n",
    "for csv in glob.glob('*.csv'):\n",
    "    with open(csv) as c:\n",
    "        print(\"{:10} {}\".format(csv[:-4],len(c.readlines())))"
   ]
  }
 ],
 "metadata": {
  "kernelspec": {
   "display_name": "Python 2",
   "language": "python",
   "name": "python2"
  },
  "language_info": {
   "codemirror_mode": {
    "name": "ipython",
    "version": 3
   },
   "file_extension": ".py",
   "mimetype": "text/x-python",
   "name": "python",
   "nbconvert_exporter": "python",
   "pygments_lexer": "ipython3",
   "version": "3.7.1"
  },
  "stem_cell": {
   "cell_type": "raw",
   "metadata": {
    "pycharm": {
     "metadata": false
    }
   },
   "source": ""
  }
 },
 "nbformat": 4,
 "nbformat_minor": 2
}
