{
 "cells": [
  {
   "cell_type": "markdown",
   "metadata": {},
   "source": [
    "# Préparation des données"
   ]
  },
  {
   "cell_type": "markdown",
   "metadata": {},
   "source": [
    "## Les  imports"
   ]
  },
  {
   "cell_type": "code",
   "execution_count": 3,
   "metadata": {},
   "outputs": [],
   "source": [
    "import zipfile\n",
    "import xml.sax\n",
    "import csv\n",
    "import glob\n",
    "import logging\n",
    "import shutil\n",
    "import os"
   ]
  },
  {
   "cell_type": "code",
   "execution_count": 39,
   "metadata": {},
   "outputs": [],
   "source": [
    "logging.basicConfig(level='INFO')"
   ]
  },
  {
   "cell_type": "code",
   "execution_count": 40,
   "metadata": {},
   "outputs": [],
   "source": [
    "## Modifier le WorkDirectory\n",
    "wdir = '.'"
   ]
  },
  {
   "cell_type": "code",
   "execution_count": 4,
   "metadata": {},
   "outputs": [
    {
     "name": "stdout",
     "output_type": "stream",
     "text": [
      "'01 process_xmls.ipynb'   data\t\t   pdv.csv     ruptures.csv\n",
      "'02 clean_data.ipynb'\t  fermetures.csv   prix.csv    services.csv\n",
      "'03 explore_data.ipynb'  'git link.txt'    README.md\n"
     ]
    }
   ],
   "source": [
    "!ls"
   ]
  },
  {
   "cell_type": "code",
   "execution_count": 42,
   "metadata": {},
   "outputs": [
    {
     "name": "stdout",
     "output_type": "stream",
     "text": [
      "current work dir is: /home/houcine/workspace/school-eda-serviceStations\n"
     ]
    }
   ],
   "source": [
    "os.chdir(wdir)\n",
    "print('current work dir is:', os.getcwd())"
   ]
  },
  {
   "cell_type": "markdown",
   "metadata": {},
   "source": [
    "## Copie des XML dans le répertoire **'workDirectory'**"
   ]
  },
  {
   "cell_type": "code",
   "execution_count": 4,
   "metadata": {},
   "outputs": [],
   "source": [
    "files = glob.glob('/home/gisEns/jcartign/datasets/PrixC*.zip')\n",
    "for f in files:\n",
    "    f_name = f[-30:] \n",
    "    if not f_name in os.listdir('.'):\n",
    "        shutil.copy(f, '.')"
   ]
  },
  {
   "cell_type": "code",
   "execution_count": 5,
   "metadata": {},
   "outputs": [],
   "source": [
    "unused_tags = []"
   ]
  },
  {
   "cell_type": "markdown",
   "metadata": {},
   "source": [
    "## Création des CSV"
   ]
  },
  {
   "cell_type": "code",
   "execution_count": 6,
   "metadata": {},
   "outputs": [],
   "source": [
    "# Création du CSV qui contient les données des points de ventes\n",
    "pdvcsvfile = open('pdv.csv', 'w')\n",
    "pdvnames   = [\"annee\",\n",
    "              \"id\",\n",
    "              \"latitude\",\n",
    "              \"longitude\",\n",
    "              \"cp\",\n",
    "              \"pop\",\n",
    "              \"ouverture_debut\",\n",
    "              \"ouverture_fin\",\n",
    "              \"ouverture_saufjour\",\n",
    "              \"adresse\",\n",
    "              \"ville\"]\n",
    "pdv_writer = csv.DictWriter(pdvcsvfile, fieldnames=pdvnames)\n",
    "pdv_writer.writeheader()\n",
    "\n",
    "# Création du CSV qui contient les données des ruptures\n",
    "rupturescsvfile = open('ruptures.csv', 'w')\n",
    "rupturesnames = [\"annee\",\n",
    "                 \"id_pdv\",\n",
    "                 \"id\",\n",
    "                 \"nom\",\n",
    "                 \"debut\",\n",
    "                 \"fin\"]\n",
    "ruptures_writer = csv.DictWriter(rupturescsvfile, fieldnames=rupturesnames)\n",
    "ruptures_writer.writeheader()\n",
    "\n",
    "# Création du CSV qui contient les données des fermetures\n",
    "fermeturescsvfile = open('fermetures.csv', 'w')\n",
    "fermeturesnames = [\"annee\",\n",
    "                   \"id_pdv\",\n",
    "                   \"type\",\n",
    "                   \"debut\",\n",
    "                   \"fin\"]\n",
    "fermetures_writer = csv.DictWriter(fermeturescsvfile, fieldnames=fermeturesnames)\n",
    "fermetures_writer.writeheader()\n",
    "\n",
    "\n",
    "# Création du CSV qui contient les données des prix\n",
    "prixcsvfile = open('prix.csv', 'w')\n",
    "prixnames   = [\"annee\",\n",
    "              \"id_pdv\",\n",
    "              \"nom\",\n",
    "              \"id\",\n",
    "              \"maj\",\n",
    "              \"valeur\"]\n",
    "prix_writer = csv.DictWriter(prixcsvfile, fieldnames=prixnames)\n",
    "prix_writer.writeheader()\n",
    "\n",
    "# Création du CSV qui contient les données des services\n",
    "servicescsvfile = open('services.csv', 'w')\n",
    "servicesnames   = [\"annee\",\n",
    "                   \"id_pdv\",\n",
    "                   \"service\"]\n",
    "services_writer = csv.DictWriter(servicescsvfile, fieldnames=servicesnames)\n",
    "services_writer.writeheader()\n",
    "\n",
    "\n",
    "# Initialisation des dictionnaire des lignes temporiaires à inserer dans les csv\n",
    "pdv_row        = dict.fromkeys(pdvnames)\n",
    "ruptures_row   = dict.fromkeys(rupturesnames)\n",
    "fermetures_row = dict.fromkeys(fermeturesnames)\n",
    "prix_row       = dict.fromkeys(prixnames)\n",
    "services_row   = dict.fromkeys(servicesnames)"
   ]
  },
  {
   "cell_type": "markdown",
   "metadata": {},
   "source": [
    "## le SaxParserHandler"
   ]
  },
  {
   "cell_type": "code",
   "execution_count": 7,
   "metadata": {},
   "outputs": [],
   "source": [
    "class PdvHandler(xml.sax.ContentHandler):\n",
    "    def __init__(self, annee): # on passe l'année en parametre au constructeur\n",
    "        self.CurrentData = \"\"\n",
    "        self.annee       = annee\n",
    "        self.id_pdv      = \"\"\n",
    "        self.adresse     = \"\"\n",
    "        self.ville       = \"\"\n",
    "        self.service     = \"\"\n",
    "        self.isVille     = False\n",
    "      \n",
    "   # Call when an element starts\n",
    "    def startElement(self, tag, attributes):\n",
    "        self.CurrentData = tag\n",
    "        # quand on trouve la balise pdv\n",
    "        if tag == \"pdv\":\n",
    "            pdv_row['annee']= self.annee       # on commence l'implementation de la ligne à inserer\n",
    "                                            # dans le pdvCsv\n",
    "            self.id_pdv = attributes['id']     # on garde le id du pdv pour le rajouter dans les autres \n",
    "                                            # CSV comme clé primaire\n",
    "            if attributes.getNames() != []:\n",
    "                #id, latitude, longitude, cp, pop\n",
    "                for name in attributes.getNames():\n",
    "                    pdv_row[name] = attributes.getValue(name)\n",
    "\n",
    "        # quand on trouve la balise ouverture\n",
    "        elif tag == \"ville\":\n",
    "            self.isVille = True\n",
    "        elif tag == \"ouverture\":\n",
    "            if attributes.getNames() != []:\n",
    "                #debut, fin, saufjour\n",
    "                for name in attributes.getNames():\n",
    "                    pdv_row[\"ouverture_\"+name] = attributes.getValue(name)\n",
    "            \n",
    "        # quand on trouve la balise fermeture\n",
    "        elif tag == \"fermeture\":\n",
    "            fermetures_row[\"annee\"] = self.annee\n",
    "            fermetures_row[\"id_pdv\"] = self.id_pdv\n",
    "            if attributes.getNames() != []:\n",
    "                #typve, debut, fin\n",
    "                for name in attributes.getNames():\n",
    "                    fermetures_row[name] = attributes.getValue(name)\n",
    "                \n",
    "        # quand on trouve la balise rupture\n",
    "        elif tag == \"rupture\":\n",
    "            ruptures_row[\"annee\"] = self.annee\n",
    "            ruptures_row[\"id_pdv\"] = self.id_pdv\n",
    "            if attributes.getNames() != []:\n",
    "                #id, nom, debut, fin\n",
    "                for name in attributes.getNames():\n",
    "                    ruptures_row[name] = attributes.getValue(name)\n",
    "                    \n",
    "        # quand on trouve la balise prix\n",
    "        elif tag == \"prix\":\n",
    "            if attributes.getNames() != []:\n",
    "                prix_row['annee']  = self.annee\n",
    "                prix_row['id_pdv'] = self.id_pdv\n",
    "                #nom, id, maj, valeur\n",
    "                for name in attributes.getNames():\n",
    "                    prix_row[name] = attributes.getValue(name)\n",
    "        elif self.isVille:\n",
    "            self.ville += tag\n",
    "        else:\n",
    "            unused_tags.append(tag)\n",
    "    # Call when an elements ends\n",
    "    def endElement(self, tag):\n",
    "        if self.CurrentData == \"adresse\":\n",
    "            pdv_row[\"adresse\"] = self.adresse\n",
    "        elif self.CurrentData == \"ville\":\n",
    "            self.isVille = False\n",
    "            pdv_row[\"ville\"] = self.ville\n",
    "            self.ville = \"\"\n",
    "        elif self.CurrentData == \"service\":\n",
    "            services_row['annee']   = self.annee\n",
    "            services_row['id_pdv']  = self.id_pdv\n",
    "            services_row[\"service\"] = self.service\n",
    "            #services_writer.writerow(services_row) # insertion de la ligne dans le csv\n",
    "        elif self.CurrentData == \"prix\":\n",
    "            pass\n",
    "            #prix_writer.writerow(prix_row)         # insertion de la ligne dans le csv\n",
    "        elif tag == \"pdv\":\n",
    "            #pdv_writer.writerow(pdv_row)           # insertion de la ligne dans le csv\n",
    "            self.CurrentData = \"\"\n",
    "        elif tag == \"rupture\":\n",
    "            #ruptures_writer.writerow(ruptures_row)           # insertion de la ligne dans le csv\n",
    "            self.CurrentData = \"\"\n",
    "        elif tag == \"fermeture\":\n",
    "            #fermetures_writer.writerow(fermetures_row)           # insertion de la ligne dans le csv\n",
    "            self.CurrentData = \"\"\n",
    "    # Call when a character is read\n",
    "    def characters(self, content):\n",
    "        if self.CurrentData == \"adresse\":\n",
    "            self.adresse = content\n",
    "        elif self.CurrentData == \"ville\" or self.isVille:\n",
    "            self.ville += content.strip()\n",
    "        elif self.CurrentData == \"service\":\n",
    "            self.service = content\n",
    "  "
   ]
  },
  {
   "cell_type": "markdown",
   "metadata": {},
   "source": [
    "## Traitement des Zip et Parsing des XML dans les CSV"
   ]
  },
  {
   "cell_type": "code",
   "execution_count": 8,
   "metadata": {},
   "outputs": [],
   "source": [
    "def execute():\n",
    "    # Pour chaque fichier zip dans 'WorkDiirectory' et qui commence par 'PrixC' et se termine par '.zip'\n",
    "    for pathZip in glob.glob('data/PrixC*.zip'):\n",
    "        annee   = pathZip[-8:-4]\n",
    "        nameXml = pathZip[-30:-3]+\"xml\"\n",
    "\n",
    "        # lire le zip\n",
    "        logging.debug(\"Opening ZIP file \" + pathZip)    \n",
    "        zf = zipfile.ZipFile(pathZip, 'r')\n",
    "        # lire le XML\n",
    "        f  = zf.open(nameXml)\n",
    "        # créer le XMLReader\n",
    "        parser = xml.sax.make_parser()\n",
    "        # turn off namepsaces\n",
    "        parser.setFeature(xml.sax.handler.feature_namespaces, 0)\n",
    "        # Construire le Handler\n",
    "        Handler = PdvHandler(annee)\n",
    "        # Override le superHandler\n",
    "        parser.setContentHandler(Handler)\n",
    "        # Parser\n",
    "        logging.debug(\"Parsing XML file \" + nameXml)\n",
    "        parser.parse(f)\n",
    "\n",
    "        # fermer le zip\n",
    "        zf.close()"
   ]
  },
  {
   "cell_type": "code",
   "execution_count": null,
   "metadata": {},
   "outputs": [],
   "source": [
    "execute()"
   ]
  },
  {
   "cell_type": "code",
   "execution_count": null,
   "metadata": {},
   "outputs": [],
   "source": [
    "set(unused_tags)"
   ]
  },
  {
   "cell_type": "markdown",
   "metadata": {},
   "source": [
    "## Fermeture des CSV ouverts"
   ]
  },
  {
   "cell_type": "code",
   "execution_count": 47,
   "metadata": {},
   "outputs": [],
   "source": [
    "pdvcsvfile.close()\n",
    "rupturescsvfile.close()\n",
    "fermeturescsvfile.close()\n",
    "servicescsvfile.close()\n",
    "prixcsvfile.close()"
   ]
  },
  {
   "cell_type": "markdown",
   "metadata": {},
   "source": [
    "## Verification du nombre de ligne insérées"
   ]
  },
  {
   "cell_type": "code",
   "execution_count": 61,
   "metadata": {},
   "outputs": [
    {
     "name": "stdout",
     "output_type": "stream",
     "text": [
      "CSVs       nb de lignes\n",
      "\n",
      "prix       28556968\n",
      "fermetures 139614\n",
      "pdv        136716\n",
      "ruptures   260876\n",
      "services   962905\n"
     ]
    }
   ],
   "source": [
    "print(\"{:10} {}\\n\".format(\"CSVs\",\"nb de lignes\"))\n",
    "for csv in glob.glob('*.csv'):\n",
    "    with open(csv) as c:\n",
    "        print(\"{:10} {}\".format(csv[:-4],len(c.readlines())))"
   ]
  }
 ],
 "metadata": {
  "kernelspec": {
   "display_name": "Python 3",
   "language": "python",
   "name": "python3"
  },
  "language_info": {
   "codemirror_mode": {
    "name": "ipython",
    "version": 3
   },
   "file_extension": ".py",
   "mimetype": "text/x-python",
   "name": "python",
   "nbconvert_exporter": "python",
   "pygments_lexer": "ipython3",
   "version": "3.7.1"
  }
 },
 "nbformat": 4,
 "nbformat_minor": 2
}
